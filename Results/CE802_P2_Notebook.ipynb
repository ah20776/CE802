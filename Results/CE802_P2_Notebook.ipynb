{
  "nbformat": 4,
  "nbformat_minor": 0,
  "metadata": {
    "colab": {
      "name": "Copy of CE802_P2_Notebook.ipynb",
      "provenance": [],
      "collapsed_sections": []
    },
    "kernelspec": {
      "name": "python3",
      "display_name": "Python 3"
    },
    "language_info": {
      "name": "python"
    }
  },
  "cells": [
    {
      "cell_type": "code",
      "metadata": {
        "colab": {
          "base_uri": "https://localhost:8080/",
          "height": 202
        },
        "id": "W-0y_-dUU6nn",
        "outputId": "779b3560-9fb8-478b-cdf5-c7da1bb9cdea"
      },
      "source": [
        "import pandas as pd\n",
        "import numpy as np\n",
        "import sklearn\n",
        "from sklearn.tree import DecisionTreeClassifier\n",
        "from sklearn.model_selection import cross_val_score\n",
        "import matplotlib.pyplot as plt\n",
        "\n",
        "#load csv data\n",
        "df = pd.read_csv('https://raw.githubusercontent.com/monu322/CustomerClassification/main/CE802_P2_Data.csv')\n",
        "df.head()"
      ],
      "execution_count": 1,
      "outputs": [
        {
          "output_type": "execute_result",
          "data": {
            "text/html": [
              "<div>\n",
              "<style scoped>\n",
              "    .dataframe tbody tr th:only-of-type {\n",
              "        vertical-align: middle;\n",
              "    }\n",
              "\n",
              "    .dataframe tbody tr th {\n",
              "        vertical-align: top;\n",
              "    }\n",
              "\n",
              "    .dataframe thead th {\n",
              "        text-align: right;\n",
              "    }\n",
              "</style>\n",
              "<table border=\"1\" class=\"dataframe\">\n",
              "  <thead>\n",
              "    <tr style=\"text-align: right;\">\n",
              "      <th></th>\n",
              "      <th>F1</th>\n",
              "      <th>F2</th>\n",
              "      <th>F3</th>\n",
              "      <th>F4</th>\n",
              "      <th>F5</th>\n",
              "      <th>F6</th>\n",
              "      <th>F7</th>\n",
              "      <th>F8</th>\n",
              "      <th>F9</th>\n",
              "      <th>F10</th>\n",
              "      <th>F11</th>\n",
              "      <th>F12</th>\n",
              "      <th>F13</th>\n",
              "      <th>F14</th>\n",
              "      <th>F15</th>\n",
              "      <th>Class</th>\n",
              "    </tr>\n",
              "  </thead>\n",
              "  <tbody>\n",
              "    <tr>\n",
              "      <th>0</th>\n",
              "      <td>-1</td>\n",
              "      <td>45</td>\n",
              "      <td>-7.97</td>\n",
              "      <td>0.54</td>\n",
              "      <td>3</td>\n",
              "      <td>0.50</td>\n",
              "      <td>-113.34</td>\n",
              "      <td>20.30</td>\n",
              "      <td>9.99</td>\n",
              "      <td>20.50</td>\n",
              "      <td>-5.52</td>\n",
              "      <td>3.60</td>\n",
              "      <td>-466.22</td>\n",
              "      <td>1.88</td>\n",
              "      <td>-7.49</td>\n",
              "      <td>True</td>\n",
              "    </tr>\n",
              "    <tr>\n",
              "      <th>1</th>\n",
              "      <td>1</td>\n",
              "      <td>27</td>\n",
              "      <td>-7.02</td>\n",
              "      <td>1.08</td>\n",
              "      <td>3</td>\n",
              "      <td>0.85</td>\n",
              "      <td>-47.34</td>\n",
              "      <td>20.00</td>\n",
              "      <td>2.88</td>\n",
              "      <td>19.40</td>\n",
              "      <td>-6.49</td>\n",
              "      <td>1.22</td>\n",
              "      <td>-470.22</td>\n",
              "      <td>0.57</td>\n",
              "      <td>NaN</td>\n",
              "      <td>True</td>\n",
              "    </tr>\n",
              "    <tr>\n",
              "      <th>2</th>\n",
              "      <td>-2</td>\n",
              "      <td>0</td>\n",
              "      <td>-8.82</td>\n",
              "      <td>0.56</td>\n",
              "      <td>3</td>\n",
              "      <td>0.45</td>\n",
              "      <td>-152.34</td>\n",
              "      <td>19.62</td>\n",
              "      <td>9.78</td>\n",
              "      <td>20.74</td>\n",
              "      <td>-5.21</td>\n",
              "      <td>2.08</td>\n",
              "      <td>-534.22</td>\n",
              "      <td>5.62</td>\n",
              "      <td>-5.74</td>\n",
              "      <td>False</td>\n",
              "    </tr>\n",
              "    <tr>\n",
              "      <th>3</th>\n",
              "      <td>-14</td>\n",
              "      <td>855</td>\n",
              "      <td>-3.23</td>\n",
              "      <td>12.00</td>\n",
              "      <td>30</td>\n",
              "      <td>7.45</td>\n",
              "      <td>-341.34</td>\n",
              "      <td>34.76</td>\n",
              "      <td>-10.14</td>\n",
              "      <td>14.38</td>\n",
              "      <td>-4.79</td>\n",
              "      <td>-2.52</td>\n",
              "      <td>-846.22</td>\n",
              "      <td>-4.17</td>\n",
              "      <td>NaN</td>\n",
              "      <td>True</td>\n",
              "    </tr>\n",
              "    <tr>\n",
              "      <th>4</th>\n",
              "      <td>-1</td>\n",
              "      <td>39</td>\n",
              "      <td>-8.12</td>\n",
              "      <td>2.88</td>\n",
              "      <td>3</td>\n",
              "      <td>0.76</td>\n",
              "      <td>-53.34</td>\n",
              "      <td>19.08</td>\n",
              "      <td>6.48</td>\n",
              "      <td>22.58</td>\n",
              "      <td>-7.52</td>\n",
              "      <td>1.24</td>\n",
              "      <td>-512.22</td>\n",
              "      <td>2.17</td>\n",
              "      <td>NaN</td>\n",
              "      <td>False</td>\n",
              "    </tr>\n",
              "  </tbody>\n",
              "</table>\n",
              "</div>"
            ],
            "text/plain": [
              "   F1   F2    F3     F4  F5    F6  ...   F11   F12     F13   F14   F15  Class\n",
              "0  -1   45 -7.97   0.54   3  0.50  ... -5.52  3.60 -466.22  1.88 -7.49   True\n",
              "1   1   27 -7.02   1.08   3  0.85  ... -6.49  1.22 -470.22  0.57   NaN   True\n",
              "2  -2    0 -8.82   0.56   3  0.45  ... -5.21  2.08 -534.22  5.62 -5.74  False\n",
              "3 -14  855 -3.23  12.00  30  7.45  ... -4.79 -2.52 -846.22 -4.17   NaN   True\n",
              "4  -1   39 -8.12   2.88   3  0.76  ... -7.52  1.24 -512.22  2.17   NaN  False\n",
              "\n",
              "[5 rows x 16 columns]"
            ]
          },
          "metadata": {
            "tags": []
          },
          "execution_count": 1
        }
      ]
    },
    {
      "cell_type": "code",
      "metadata": {
        "colab": {
          "base_uri": "https://localhost:8080/",
          "height": 492
        },
        "id": "e81rQhtMnI2X",
        "outputId": "a98ece09-b992-4740-d7fa-2866991f0db6"
      },
      "source": [
        "#finding feature importance of F15 after dropping missing value records\n",
        "from yellowbrick.features import FeatureImportances\n",
        "\n",
        "df0 = df.dropna()\n",
        "X = df0.drop(['Class'], axis=1)\n",
        "y = df0.Class\n",
        "\n",
        "clf = DecisionTreeClassifier()\n",
        "viz = FeatureImportances(clf)\n",
        "viz.fit(X, y)\n",
        "viz.poof()"
      ],
      "execution_count": 2,
      "outputs": [
        {
          "output_type": "stream",
          "text": [
            "/usr/local/lib/python3.7/dist-packages/sklearn/utils/deprecation.py:144: FutureWarning: The sklearn.metrics.classification module is  deprecated in version 0.22 and will be removed in version 0.24. The corresponding classes / functions should instead be imported from sklearn.metrics. Anything that cannot be imported from sklearn.metrics is now part of the private API.\n",
            "  warnings.warn(message, FutureWarning)\n",
            "/usr/local/lib/python3.7/dist-packages/sklearn/base.py:197: FutureWarning: From version 0.24, get_params will raise an AttributeError if a parameter cannot be retrieved as an instance attribute. Previously it would return None.\n",
            "  FutureWarning)\n"
          ],
          "name": "stderr"
        },
        {
          "output_type": "display_data",
          "data": {
            "image/png": "[encoded data removed]",
            "text/plain": [
              "<Figure size 576x396 with 1 Axes>"
            ]
          },
          "metadata": {
            "tags": []
          }
        }
      ]
    },
    {
      "cell_type": "code",
      "metadata": {
        "id": "UNqZ6ciDeXbZ",
        "colab": {
          "base_uri": "https://localhost:8080/"
        },
        "outputId": "73d5517a-66f5-4c68-c472-988e061ae8ce"
      },
      "source": [
        "from sklearn.model_selection import GridSearchCV\n",
        "from sklearn import tree\n",
        "\n",
        "parameters = {'max_depth':range(3,20)}\n",
        "clf = GridSearchCV(tree.DecisionTreeClassifier(), parameters, n_jobs=4)\n",
        "clf.fit(X, y)\n",
        "tree_model = clf.best_estimator_\n",
        "print (clf.best_score_, clf.best_params_) \n",
        "\n",
        "\n"
      ],
      "execution_count": 16,
      "outputs": [
        {
          "output_type": "stream",
          "text": [
            "0.79 {'max_depth': 7}\n"
          ],
          "name": "stdout"
        }
      ]
    },
    {
      "cell_type": "code",
      "metadata": {
        "colab": {
          "base_uri": "https://localhost:8080/"
        },
        "id": "jbZ1Jndn-Yqi",
        "outputId": "6138bc53-7480-45b4-e222-dcfcc57f9b95"
      },
      "source": [
        "#remove F15 column altogether\n",
        "df1 = df.drop('F15', 1)\n",
        "\n",
        "X = df1.drop(['Class'], axis=1)\n",
        "y = df1.Class\n",
        "\n",
        "parameters = {'max_depth':range(3,20)}\n",
        "clf = GridSearchCV(tree.DecisionTreeClassifier(), parameters, n_jobs=4)\n",
        "clf.fit(X, y)\n",
        "tree_model = clf.best_estimator_\n",
        "print (clf.best_score_, clf.best_params_) "
      ],
      "execution_count": 17,
      "outputs": [
        {
          "output_type": "stream",
          "text": [
            "0.7693333333333333 {'max_depth': 8}\n"
          ],
          "name": "stdout"
        }
      ]
    },
    {
      "cell_type": "code",
      "metadata": {
        "colab": {
          "base_uri": "https://localhost:8080/"
        },
        "id": "ggJpZWxofdJ1",
        "outputId": "f0338e5f-d159-4c65-8e0b-c1529936e7c8"
      },
      "source": [
        "#now let's remove all records with missing values\n",
        "df2 = df.dropna()\n",
        "\n",
        "X = df2.drop(['Class'], axis=1)\n",
        "y = df2.Class\n",
        "\n",
        "parameters = {'max_depth':range(3,20)}\n",
        "clf = GridSearchCV(tree.DecisionTreeClassifier(), parameters, n_jobs=4)\n",
        "clf.fit(X, y)\n",
        "tree_model = clf.best_estimator_\n",
        "print (clf.best_score_, clf.best_params_) \n"
      ],
      "execution_count": 18,
      "outputs": [
        {
          "output_type": "stream",
          "text": [
            "0.7866666666666667 {'max_depth': 9}\n"
          ],
          "name": "stdout"
        }
      ]
    },
    {
      "cell_type": "code",
      "metadata": {
        "colab": {
          "base_uri": "https://localhost:8080/",
          "height": 202
        },
        "id": "UFSohRxLqY3j",
        "outputId": "b56982d6-787f-40cd-d0a7-0f63228818b9"
      },
      "source": [
        "#now let's try imputation of F15 with mean values\n",
        "\n",
        "from sklearn.impute import SimpleImputer\n",
        "imputer = SimpleImputer(missing_values=np.NaN, strategy='mean')\n",
        "\n",
        "df3 = df\n",
        "\n",
        "df3.F15 = imputer.fit_transform(df3['F15'].values.reshape(-1,1))[:,0]\n",
        "\n",
        "df3.head()"
      ],
      "execution_count": 6,
      "outputs": [
        {
          "output_type": "execute_result",
          "data": {
            "text/html": [
              "<div>\n",
              "<style scoped>\n",
              "    .dataframe tbody tr th:only-of-type {\n",
              "        vertical-align: middle;\n",
              "    }\n",
              "\n",
              "    .dataframe tbody tr th {\n",
              "        vertical-align: top;\n",
              "    }\n",
              "\n",
              "    .dataframe thead th {\n",
              "        text-align: right;\n",
              "    }\n",
              "</style>\n",
              "<table border=\"1\" class=\"dataframe\">\n",
              "  <thead>\n",
              "    <tr style=\"text-align: right;\">\n",
              "      <th></th>\n",
              "      <th>F1</th>\n",
              "      <th>F2</th>\n",
              "      <th>F3</th>\n",
              "      <th>F4</th>\n",
              "      <th>F5</th>\n",
              "      <th>F6</th>\n",
              "      <th>F7</th>\n",
              "      <th>F8</th>\n",
              "      <th>F9</th>\n",
              "      <th>F10</th>\n",
              "      <th>F11</th>\n",
              "      <th>F12</th>\n",
              "      <th>F13</th>\n",
              "      <th>F14</th>\n",
              "      <th>F15</th>\n",
              "      <th>Class</th>\n",
              "    </tr>\n",
              "  </thead>\n",
              "  <tbody>\n",
              "    <tr>\n",
              "      <th>0</th>\n",
              "      <td>-1</td>\n",
              "      <td>45</td>\n",
              "      <td>-7.97</td>\n",
              "      <td>0.54</td>\n",
              "      <td>3</td>\n",
              "      <td>0.50</td>\n",
              "      <td>-113.34</td>\n",
              "      <td>20.30</td>\n",
              "      <td>9.99</td>\n",
              "      <td>20.50</td>\n",
              "      <td>-5.52</td>\n",
              "      <td>3.60</td>\n",
              "      <td>-466.22</td>\n",
              "      <td>1.88</td>\n",
              "      <td>-7.490000</td>\n",
              "      <td>True</td>\n",
              "    </tr>\n",
              "    <tr>\n",
              "      <th>1</th>\n",
              "      <td>1</td>\n",
              "      <td>27</td>\n",
              "      <td>-7.02</td>\n",
              "      <td>1.08</td>\n",
              "      <td>3</td>\n",
              "      <td>0.85</td>\n",
              "      <td>-47.34</td>\n",
              "      <td>20.00</td>\n",
              "      <td>2.88</td>\n",
              "      <td>19.40</td>\n",
              "      <td>-6.49</td>\n",
              "      <td>1.22</td>\n",
              "      <td>-470.22</td>\n",
              "      <td>0.57</td>\n",
              "      <td>-7.043013</td>\n",
              "      <td>True</td>\n",
              "    </tr>\n",
              "    <tr>\n",
              "      <th>2</th>\n",
              "      <td>-2</td>\n",
              "      <td>0</td>\n",
              "      <td>-8.82</td>\n",
              "      <td>0.56</td>\n",
              "      <td>3</td>\n",
              "      <td>0.45</td>\n",
              "      <td>-152.34</td>\n",
              "      <td>19.62</td>\n",
              "      <td>9.78</td>\n",
              "      <td>20.74</td>\n",
              "      <td>-5.21</td>\n",
              "      <td>2.08</td>\n",
              "      <td>-534.22</td>\n",
              "      <td>5.62</td>\n",
              "      <td>-5.740000</td>\n",
              "      <td>False</td>\n",
              "    </tr>\n",
              "    <tr>\n",
              "      <th>3</th>\n",
              "      <td>-14</td>\n",
              "      <td>855</td>\n",
              "      <td>-3.23</td>\n",
              "      <td>12.00</td>\n",
              "      <td>30</td>\n",
              "      <td>7.45</td>\n",
              "      <td>-341.34</td>\n",
              "      <td>34.76</td>\n",
              "      <td>-10.14</td>\n",
              "      <td>14.38</td>\n",
              "      <td>-4.79</td>\n",
              "      <td>-2.52</td>\n",
              "      <td>-846.22</td>\n",
              "      <td>-4.17</td>\n",
              "      <td>-7.043013</td>\n",
              "      <td>True</td>\n",
              "    </tr>\n",
              "    <tr>\n",
              "      <th>4</th>\n",
              "      <td>-1</td>\n",
              "      <td>39</td>\n",
              "      <td>-8.12</td>\n",
              "      <td>2.88</td>\n",
              "      <td>3</td>\n",
              "      <td>0.76</td>\n",
              "      <td>-53.34</td>\n",
              "      <td>19.08</td>\n",
              "      <td>6.48</td>\n",
              "      <td>22.58</td>\n",
              "      <td>-7.52</td>\n",
              "      <td>1.24</td>\n",
              "      <td>-512.22</td>\n",
              "      <td>2.17</td>\n",
              "      <td>-7.043013</td>\n",
              "      <td>False</td>\n",
              "    </tr>\n",
              "  </tbody>\n",
              "</table>\n",
              "</div>"
            ],
            "text/plain": [
              "   F1   F2    F3     F4  F5    F6  ...   F11   F12     F13   F14       F15  Class\n",
              "0  -1   45 -7.97   0.54   3  0.50  ... -5.52  3.60 -466.22  1.88 -7.490000   True\n",
              "1   1   27 -7.02   1.08   3  0.85  ... -6.49  1.22 -470.22  0.57 -7.043013   True\n",
              "2  -2    0 -8.82   0.56   3  0.45  ... -5.21  2.08 -534.22  5.62 -5.740000  False\n",
              "3 -14  855 -3.23  12.00  30  7.45  ... -4.79 -2.52 -846.22 -4.17 -7.043013   True\n",
              "4  -1   39 -8.12   2.88   3  0.76  ... -7.52  1.24 -512.22  2.17 -7.043013  False\n",
              "\n",
              "[5 rows x 16 columns]"
            ]
          },
          "metadata": {
            "tags": []
          },
          "execution_count": 6
        }
      ]
    },
    {
      "cell_type": "code",
      "metadata": {
        "colab": {
          "base_uri": "https://localhost:8080/"
        },
        "id": "shiY3AWjr8VZ",
        "outputId": "2c03c1f0-b67a-45c7-84c8-00202e1d37b0"
      },
      "source": [
        "#checking performance of imputed dataset\n",
        "X = df3.drop(['Class'], axis=1)\n",
        "y = df3.Class\n",
        "\n",
        "parameters = {'max_depth':range(3,20)}\n",
        "clf = GridSearchCV(tree.DecisionTreeClassifier(), parameters, n_jobs=4)\n",
        "clf.fit(X, y)\n",
        "tree_model = clf.best_estimator_\n",
        "print (clf.best_score_, clf.best_params_) "
      ],
      "execution_count": 19,
      "outputs": [
        {
          "output_type": "stream",
          "text": [
            "0.7893333333333333 {'max_depth': 7}\n"
          ],
          "name": "stdout"
        }
      ]
    },
    {
      "cell_type": "code",
      "metadata": {
        "colab": {
          "base_uri": "https://localhost:8080/"
        },
        "id": "rKV7SX-i-8um",
        "outputId": "4bb46918-6bc7-4e19-ce84-972c103ad630"
      },
      "source": [
        "from sklearn.metrics import accuracy_score\n",
        "from sklearn.linear_model import LogisticRegression\n",
        "from sklearn.model_selection import KFold\n",
        "from sklearn.preprocessing import StandardScaler, MinMaxScaler\n",
        "from sklearn import svm\n",
        "from sklearn.ensemble import RandomForestClassifier\n",
        "from sklearn.naive_bayes import GaussianNB\n",
        "\n",
        "\n",
        "\n",
        "#Removing records with missing values\n",
        "df2 = df.dropna()\n",
        "\n",
        "X = df2.drop(['Class'], axis=1)\n",
        "y = df2.Class\n",
        "\n",
        "X = np.array(X)\n",
        "y = np.array(y)\n",
        "\n",
        "#using 5-fold cross validation\n",
        "kf = KFold(5, shuffle=True, random_state=42)\n",
        "cv_lr_accuracy  = []\n",
        "\n",
        "\n",
        "for train_ind, val_ind in kf.split(X, y):\n",
        "    # Assign CV IDX\n",
        "    X_train, y_train = X[train_ind], y[train_ind]\n",
        "    X_val, y_val = X[val_ind], y[val_ind]\n",
        "\n",
        "    # Scale Data\n",
        "    scaler = StandardScaler()\n",
        "    X_train_scale = scaler.fit_transform(X_train)\n",
        "    X_val_scale = scaler.transform(X_val) \n",
        "\n",
        "    # Logisitic Regression\n",
        "    lr = LogisticRegression(\n",
        "        class_weight= 'balanced',\n",
        "        solver='newton-cg',\n",
        "        fit_intercept=True\n",
        "    ).fit(X_train_scale, y_train)\n",
        "\n",
        "    y_pred = lr.predict(X_val_scale)\n",
        "    cv_lr_accuracy.append(accuracy_score(y_val, y_pred))\n",
        "\n",
        "print(f'Logistic Regression CV accuracy: {np.mean(cv_lr_accuracy):.3f} +- {np.std(cv_lr_accuracy):.3f}')\n",
        "\n"
      ],
      "execution_count": 21,
      "outputs": [
        {
          "output_type": "stream",
          "text": [
            "Logistic Regression CV accuracy: 0.841 +- 0.005\n"
          ],
          "name": "stdout"
        }
      ]
    },
    {
      "cell_type": "code",
      "metadata": {
        "colab": {
          "base_uri": "https://localhost:8080/"
        },
        "id": "qJR2PuFiWQRa",
        "outputId": "907e4ec2-c5bc-441c-cb68-52382e82001a"
      },
      "source": [
        "cv_svm_accuracy  = []\n",
        "\n",
        "\n",
        "for train_ind, val_ind in kf.split(X, y):\n",
        "    # Assign CV IDX\n",
        "    X_train, y_train = X[train_ind], y[train_ind]\n",
        "    X_val, y_val = X[val_ind], y[val_ind]\n",
        "\n",
        "    # Scale Data\n",
        "    scaler = StandardScaler()\n",
        "    X_train_scale = scaler.fit_transform(X_train)\n",
        "    X_val_scale = scaler.transform(X_val) \n",
        "\n",
        "    #SVM Classification\n",
        "    svm_clf = svm.SVC(kernel='linear').fit(X_train_scale, y_train)\n",
        "    y_pred = svm_clf.predict(X_val_scale)\n",
        "    cv_svm_accuracy.append(accuracy_score(y_val, y_pred))\n",
        "\n",
        "\n",
        "print(f'SVM CV accuracy: {np.mean(cv_svm_accuracy):.3f} +- {np.std(cv_svm_accuracy):.3f}')"
      ],
      "execution_count": 22,
      "outputs": [
        {
          "output_type": "stream",
          "text": [
            "SVM CV accuracy: 0.851 +- 0.014\n"
          ],
          "name": "stdout"
        }
      ]
    },
    {
      "cell_type": "code",
      "metadata": {
        "colab": {
          "base_uri": "https://localhost:8080/"
        },
        "id": "4sxWvIO6YsR2",
        "outputId": "7c1d31d7-38b3-4496-f549-86b725795965"
      },
      "source": [
        "cv_rf_accuracy  = []\n",
        "\n",
        "\n",
        "for train_ind, val_ind in kf.split(X, y):\n",
        "    # Assign CV IDX\n",
        "    X_train, y_train = X[train_ind], y[train_ind]\n",
        "    X_val, y_val = X[val_ind], y[val_ind]\n",
        "\n",
        "    # Scale Data\n",
        "    scaler = StandardScaler()\n",
        "    X_train_scale = scaler.fit_transform(X_train)\n",
        "    X_val_scale = scaler.transform(X_val) \n",
        "\n",
        "    #Random Forest classifier\n",
        "    rf_clf=RandomForestClassifier(n_estimators=200).fit(X_train_scale, y_train)\n",
        "    y_pred = rf_clf.predict(X_val_scale)\n",
        "    cv_rf_accuracy.append(accuracy_score(y_val, y_pred))\n",
        "\n",
        "\n",
        "print(f'Random Forest CV accuracy: {np.mean(cv_rf_accuracy):.3f} +- {np.std(cv_rf_accuracy):.3f}')"
      ],
      "execution_count": 23,
      "outputs": [
        {
          "output_type": "stream",
          "text": [
            "Random Forest CV accuracy: 0.871 +- 0.012\n"
          ],
          "name": "stdout"
        }
      ]
    },
    {
      "cell_type": "code",
      "metadata": {
        "colab": {
          "base_uri": "https://localhost:8080/",
          "height": 222
        },
        "id": "QYVOgvpxSVhe",
        "outputId": "6cf6f919-fcc5-4e90-9314-6de240a38ec4"
      },
      "source": [
        "#as per results, Random forest has the best performance. So let's update our test data csv\n",
        "\n",
        "#load test data\n",
        "df = pd.read_csv('https://raw.githubusercontent.com/monu322/CustomerClassification/main/CE802_P2_Test.csv')\n",
        "df.head()\n",
        "\n",
        "#impute F15 missing values with mean\n",
        "df.F15 = imputer.fit_transform(df['F15'].values.reshape(-1,1))[:,0]\n",
        "df.head()\n",
        "\n",
        "#divide data into features and labels\n",
        "X = df.drop(['Class'], axis=1)\n",
        "y = df.Class\n",
        "\n",
        "#convert data frame into np array\n",
        "X = np.array(X)\n",
        "y = np.array(y)\n",
        "\n",
        "# Standardize Data\n",
        "scaler = StandardScaler()\n",
        "X_scaled = scaler.fit_transform(X)\n",
        "\n",
        "#use the trained Random Forest model to predict test data labels\n",
        "y_pred = rf_clf.predict(X_scaled)\n",
        "\n",
        "df['Class'] = y_pred\n",
        "\n",
        "#save the data frame into a csv\n",
        "df.to_csv('CE802_P2_Test.csv', index = False)\n",
        "\n",
        "df.head()"
      ],
      "execution_count": null,
      "outputs": [
        {
          "output_type": "execute_result",
          "data": {
            "text/html": [
              "<div>\n",
              "<style scoped>\n",
              "    .dataframe tbody tr th:only-of-type {\n",
              "        vertical-align: middle;\n",
              "    }\n",
              "\n",
              "    .dataframe tbody tr th {\n",
              "        vertical-align: top;\n",
              "    }\n",
              "\n",
              "    .dataframe thead th {\n",
              "        text-align: right;\n",
              "    }\n",
              "</style>\n",
              "<table border=\"1\" class=\"dataframe\">\n",
              "  <thead>\n",
              "    <tr style=\"text-align: right;\">\n",
              "      <th></th>\n",
              "      <th>F1</th>\n",
              "      <th>F2</th>\n",
              "      <th>F3</th>\n",
              "      <th>F4</th>\n",
              "      <th>F5</th>\n",
              "      <th>F6</th>\n",
              "      <th>F7</th>\n",
              "      <th>F8</th>\n",
              "      <th>F9</th>\n",
              "      <th>F10</th>\n",
              "      <th>F11</th>\n",
              "      <th>F12</th>\n",
              "      <th>F13</th>\n",
              "      <th>F14</th>\n",
              "      <th>F15</th>\n",
              "      <th>Class</th>\n",
              "    </tr>\n",
              "  </thead>\n",
              "  <tbody>\n",
              "    <tr>\n",
              "      <th>0</th>\n",
              "      <td>-4</td>\n",
              "      <td>765</td>\n",
              "      <td>-3.72</td>\n",
              "      <td>26.40</td>\n",
              "      <td>30</td>\n",
              "      <td>5.15</td>\n",
              "      <td>18.66</td>\n",
              "      <td>31.06</td>\n",
              "      <td>-4.80</td>\n",
              "      <td>15.18</td>\n",
              "      <td>-5.05</td>\n",
              "      <td>-6.56</td>\n",
              "      <td>-766.22</td>\n",
              "      <td>-1.98</td>\n",
              "      <td>-4.670000</td>\n",
              "      <td>False</td>\n",
              "    </tr>\n",
              "    <tr>\n",
              "      <th>1</th>\n",
              "      <td>-3</td>\n",
              "      <td>3</td>\n",
              "      <td>-7.10</td>\n",
              "      <td>1.20</td>\n",
              "      <td>3</td>\n",
              "      <td>0.36</td>\n",
              "      <td>-119.34</td>\n",
              "      <td>20.00</td>\n",
              "      <td>6.39</td>\n",
              "      <td>19.92</td>\n",
              "      <td>-5.29</td>\n",
              "      <td>0.32</td>\n",
              "      <td>-524.22</td>\n",
              "      <td>2.12</td>\n",
              "      <td>-7.076347</td>\n",
              "      <td>True</td>\n",
              "    </tr>\n",
              "    <tr>\n",
              "      <th>2</th>\n",
              "      <td>-4</td>\n",
              "      <td>735</td>\n",
              "      <td>-1.70</td>\n",
              "      <td>14.50</td>\n",
              "      <td>30</td>\n",
              "      <td>6.50</td>\n",
              "      <td>183.66</td>\n",
              "      <td>37.36</td>\n",
              "      <td>-11.88</td>\n",
              "      <td>11.22</td>\n",
              "      <td>-7.79</td>\n",
              "      <td>-9.64</td>\n",
              "      <td>-776.22</td>\n",
              "      <td>-3.88</td>\n",
              "      <td>-6.570000</td>\n",
              "      <td>False</td>\n",
              "    </tr>\n",
              "    <tr>\n",
              "      <th>3</th>\n",
              "      <td>-14</td>\n",
              "      <td>90</td>\n",
              "      <td>-2.55</td>\n",
              "      <td>13.30</td>\n",
              "      <td>30</td>\n",
              "      <td>7.95</td>\n",
              "      <td>-236.34</td>\n",
              "      <td>32.06</td>\n",
              "      <td>-3.09</td>\n",
              "      <td>15.86</td>\n",
              "      <td>-4.33</td>\n",
              "      <td>-8.76</td>\n",
              "      <td>-916.22</td>\n",
              "      <td>-3.41</td>\n",
              "      <td>-7.076347</td>\n",
              "      <td>False</td>\n",
              "    </tr>\n",
              "    <tr>\n",
              "      <th>4</th>\n",
              "      <td>-1</td>\n",
              "      <td>174</td>\n",
              "      <td>-7.63</td>\n",
              "      <td>3.74</td>\n",
              "      <td>3</td>\n",
              "      <td>0.94</td>\n",
              "      <td>-143.34</td>\n",
              "      <td>19.58</td>\n",
              "      <td>11.67</td>\n",
              "      <td>19.62</td>\n",
              "      <td>-7.63</td>\n",
              "      <td>1.12</td>\n",
              "      <td>-506.22</td>\n",
              "      <td>3.08</td>\n",
              "      <td>-7.076347</td>\n",
              "      <td>False</td>\n",
              "    </tr>\n",
              "  </tbody>\n",
              "</table>\n",
              "</div>"
            ],
            "text/plain": [
              "   F1   F2    F3     F4  F5    F6  ...   F11   F12     F13   F14       F15  Class\n",
              "0  -4  765 -3.72  26.40  30  5.15  ... -5.05 -6.56 -766.22 -1.98 -4.670000  False\n",
              "1  -3    3 -7.10   1.20   3  0.36  ... -5.29  0.32 -524.22  2.12 -7.076347   True\n",
              "2  -4  735 -1.70  14.50  30  6.50  ... -7.79 -9.64 -776.22 -3.88 -6.570000  False\n",
              "3 -14   90 -2.55  13.30  30  7.95  ... -4.33 -8.76 -916.22 -3.41 -7.076347  False\n",
              "4  -1  174 -7.63   3.74   3  0.94  ... -7.63  1.12 -506.22  3.08 -7.076347  False\n",
              "\n",
              "[5 rows x 16 columns]"
            ]
          },
          "metadata": {
            "tags": []
          },
          "execution_count": 10
        }
      ]
    }
  ]
}