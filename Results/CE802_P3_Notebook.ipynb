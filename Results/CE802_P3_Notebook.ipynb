{
  "nbformat": 4,
  "nbformat_minor": 0,
  "metadata": {
    "colab": {
      "name": "CE802_P3_Notebook.ipynb",
      "provenance": [],
      "collapsed_sections": [],
      "authorship_tag": "ABX9TyOQFHADZf0Z1jRUJy07+mib",
      "include_colab_link": true
    },
    "kernelspec": {
      "name": "python3",
      "display_name": "Python 3"
    },
    "language_info": {
      "name": "python"
    }
  },
  "cells": [
    {
      "cell_type": "markdown",
      "metadata": {
        "id": "view-in-github",
        "colab_type": "text"
      },
      "source": [
        "<a href=\"https://colab.research.google.com/github/ah20776/CE802/blob/main/Results/CE802_P3_Notebook.ipynb\" target=\"_parent\"><img src=\"https://colab.research.google.com/assets/colab-badge.svg\" alt=\"Open In Colab\"/></a>"
      ]
    },
    {
      "cell_type": "code",
      "metadata": {
        "id": "Sy5Pod1eu9-A"
      },
      "source": [
        "import sys\n",
        "sys.path.append(\"../\")\n",
        "\n",
        "%matplotlib inline\n",
        "import pandas as pd\n",
        "import numpy as np\n",
        "\n",
        "\n",
        "from sklearn.linear_model import LinearRegression\n",
        "from sklearn.tree import DecisionTreeClassifier\n",
        "from sklearn.ensemble import RandomForestRegressor\n",
        "from sklearn.model_selection import cross_val_score\n",
        "from sklearn.svm import SVR\n",
        "from sklearn.model_selection import train_test_split\n",
        "from sklearn import metrics\n",
        "import matplotlib.pyplot as plt\n",
        "from matplotlib import pyplot\n",
        "import seaborn as sns"
      ],
      "execution_count": 1,
      "outputs": []
    },
    {
      "cell_type": "code",
      "metadata": {
        "colab": {
          "base_uri": "https://localhost:8080/"
        },
        "id": "lI6RrFKAvFVl",
        "outputId": "fee1f9fc-6fba-4c98-9e84-0b0992af758b"
      },
      "source": [
        "#Importing dataset saved in github\n",
        "!git clone https://github.com/ah20776/CE802.git"
      ],
      "execution_count": 2,
      "outputs": [
        {
          "output_type": "stream",
          "text": [
            "fatal: destination path 'CE802' already exists and is not an empty directory.\n"
          ],
          "name": "stdout"
        }
      ]
    },
    {
      "cell_type": "code",
      "metadata": {
        "colab": {
          "base_uri": "https://localhost:8080/",
          "height": 220
        },
        "id": "xeCjmcHavQGP",
        "outputId": "7ce644c4-3829-4c0c-cbb2-03311277c9c2"
      },
      "source": [
        "#load P3 csv data\n",
        "df = pd.read_csv('/content/CE802/CE802_P3_Data.csv')\n",
        "df.head()"
      ],
      "execution_count": 3,
      "outputs": [
        {
          "output_type": "execute_result",
          "data": {
            "text/html": [
              "<div>\n",
              "<style scoped>\n",
              "    .dataframe tbody tr th:only-of-type {\n",
              "        vertical-align: middle;\n",
              "    }\n",
              "\n",
              "    .dataframe tbody tr th {\n",
              "        vertical-align: top;\n",
              "    }\n",
              "\n",
              "    .dataframe thead th {\n",
              "        text-align: right;\n",
              "    }\n",
              "</style>\n",
              "<table border=\"1\" class=\"dataframe\">\n",
              "  <thead>\n",
              "    <tr style=\"text-align: right;\">\n",
              "      <th></th>\n",
              "      <th>F1</th>\n",
              "      <th>F2</th>\n",
              "      <th>F3</th>\n",
              "      <th>F4</th>\n",
              "      <th>F5</th>\n",
              "      <th>F6</th>\n",
              "      <th>F7</th>\n",
              "      <th>F8</th>\n",
              "      <th>F9</th>\n",
              "      <th>F10</th>\n",
              "      <th>F11</th>\n",
              "      <th>F12</th>\n",
              "      <th>F13</th>\n",
              "      <th>F14</th>\n",
              "      <th>F15</th>\n",
              "      <th>F16</th>\n",
              "      <th>Target</th>\n",
              "    </tr>\n",
              "  </thead>\n",
              "  <tbody>\n",
              "    <tr>\n",
              "      <th>0</th>\n",
              "      <td>-39.32</td>\n",
              "      <td>5.72</td>\n",
              "      <td>-13.83</td>\n",
              "      <td>High</td>\n",
              "      <td>UK</td>\n",
              "      <td>0.03</td>\n",
              "      <td>-200.46</td>\n",
              "      <td>122.09</td>\n",
              "      <td>-2.96</td>\n",
              "      <td>6</td>\n",
              "      <td>2.67</td>\n",
              "      <td>8</td>\n",
              "      <td>607.14</td>\n",
              "      <td>19.19</td>\n",
              "      <td>10523.40</td>\n",
              "      <td>-635.80</td>\n",
              "      <td>1051.99</td>\n",
              "    </tr>\n",
              "    <tr>\n",
              "      <th>1</th>\n",
              "      <td>-29.38</td>\n",
              "      <td>8.20</td>\n",
              "      <td>-11.07</td>\n",
              "      <td>Medium</td>\n",
              "      <td>UK</td>\n",
              "      <td>56.97</td>\n",
              "      <td>-427.78</td>\n",
              "      <td>74.25</td>\n",
              "      <td>-22.94</td>\n",
              "      <td>4</td>\n",
              "      <td>3.84</td>\n",
              "      <td>10</td>\n",
              "      <td>867.03</td>\n",
              "      <td>12.65</td>\n",
              "      <td>10037.04</td>\n",
              "      <td>-469.73</td>\n",
              "      <td>816.64</td>\n",
              "    </tr>\n",
              "    <tr>\n",
              "      <th>2</th>\n",
              "      <td>2.46</td>\n",
              "      <td>20.32</td>\n",
              "      <td>-7.59</td>\n",
              "      <td>Low</td>\n",
              "      <td>Rest</td>\n",
              "      <td>45.00</td>\n",
              "      <td>-329.02</td>\n",
              "      <td>96.98</td>\n",
              "      <td>-10.90</td>\n",
              "      <td>4</td>\n",
              "      <td>13.14</td>\n",
              "      <td>8</td>\n",
              "      <td>-153.66</td>\n",
              "      <td>13.01</td>\n",
              "      <td>15100.28</td>\n",
              "      <td>-662.31</td>\n",
              "      <td>3241.77</td>\n",
              "    </tr>\n",
              "    <tr>\n",
              "      <th>3</th>\n",
              "      <td>16.33</td>\n",
              "      <td>2.76</td>\n",
              "      <td>-8.40</td>\n",
              "      <td>High</td>\n",
              "      <td>Rest</td>\n",
              "      <td>0.12</td>\n",
              "      <td>-196.88</td>\n",
              "      <td>42.45</td>\n",
              "      <td>-12.16</td>\n",
              "      <td>12</td>\n",
              "      <td>1.29</td>\n",
              "      <td>6</td>\n",
              "      <td>1461.87</td>\n",
              "      <td>9.19</td>\n",
              "      <td>22518.15</td>\n",
              "      <td>-1100.35</td>\n",
              "      <td>0.00</td>\n",
              "    </tr>\n",
              "    <tr>\n",
              "      <th>4</th>\n",
              "      <td>-14.93</td>\n",
              "      <td>9.98</td>\n",
              "      <td>-5.28</td>\n",
              "      <td>Medium</td>\n",
              "      <td>USA</td>\n",
              "      <td>557.61</td>\n",
              "      <td>-249.50</td>\n",
              "      <td>76.25</td>\n",
              "      <td>-20.54</td>\n",
              "      <td>8</td>\n",
              "      <td>2.58</td>\n",
              "      <td>2</td>\n",
              "      <td>-433.89</td>\n",
              "      <td>18.44</td>\n",
              "      <td>20111.46</td>\n",
              "      <td>-752.48</td>\n",
              "      <td>0.00</td>\n",
              "    </tr>\n",
              "  </tbody>\n",
              "</table>\n",
              "</div>"
            ],
            "text/plain": [
              "      F1     F2     F3      F4  ...    F14       F15      F16   Target\n",
              "0 -39.32   5.72 -13.83    High  ...  19.19  10523.40  -635.80  1051.99\n",
              "1 -29.38   8.20 -11.07  Medium  ...  12.65  10037.04  -469.73   816.64\n",
              "2   2.46  20.32  -7.59     Low  ...  13.01  15100.28  -662.31  3241.77\n",
              "3  16.33   2.76  -8.40    High  ...   9.19  22518.15 -1100.35     0.00\n",
              "4 -14.93   9.98  -5.28  Medium  ...  18.44  20111.46  -752.48     0.00\n",
              "\n",
              "[5 rows x 17 columns]"
            ]
          },
          "metadata": {
            "tags": []
          },
          "execution_count": 3
        }
      ]
    },
    {
      "cell_type": "markdown",
      "metadata": {
        "id": "PThHnaZawgWJ"
      },
      "source": [
        "***ENCODING***"
      ]
    },
    {
      "cell_type": "code",
      "metadata": {
        "colab": {
          "base_uri": "https://localhost:8080/",
          "height": 220
        },
        "id": "P6wXQYcxwItq",
        "outputId": "02b8067f-1d3b-4404-c7ac-3d0af3adbd98"
      },
      "source": [
        "# encoding F5 and F4 \n",
        "df['F5'] = df['F5'].astype('category')\n",
        "df['F5'] = df['F5'].cat.codes\n",
        "\n",
        "replace_map = {'F4': {'Very low':0, 'Low':1, 'Medium':2, 'High':3, 'Very high':4 }}\n",
        "df.replace(replace_map, inplace=True)\n",
        "\n",
        "#deleting the records where Target is zero\n",
        "df = df.drop(df[df.Target == 0].index)\n",
        "\n",
        "df.head()"
      ],
      "execution_count": 4,
      "outputs": [
        {
          "output_type": "execute_result",
          "data": {
            "text/html": [
              "<div>\n",
              "<style scoped>\n",
              "    .dataframe tbody tr th:only-of-type {\n",
              "        vertical-align: middle;\n",
              "    }\n",
              "\n",
              "    .dataframe tbody tr th {\n",
              "        vertical-align: top;\n",
              "    }\n",
              "\n",
              "    .dataframe thead th {\n",
              "        text-align: right;\n",
              "    }\n",
              "</style>\n",
              "<table border=\"1\" class=\"dataframe\">\n",
              "  <thead>\n",
              "    <tr style=\"text-align: right;\">\n",
              "      <th></th>\n",
              "      <th>F1</th>\n",
              "      <th>F2</th>\n",
              "      <th>F3</th>\n",
              "      <th>F4</th>\n",
              "      <th>F5</th>\n",
              "      <th>F6</th>\n",
              "      <th>F7</th>\n",
              "      <th>F8</th>\n",
              "      <th>F9</th>\n",
              "      <th>F10</th>\n",
              "      <th>F11</th>\n",
              "      <th>F12</th>\n",
              "      <th>F13</th>\n",
              "      <th>F14</th>\n",
              "      <th>F15</th>\n",
              "      <th>F16</th>\n",
              "      <th>Target</th>\n",
              "    </tr>\n",
              "  </thead>\n",
              "  <tbody>\n",
              "    <tr>\n",
              "      <th>0</th>\n",
              "      <td>-39.32</td>\n",
              "      <td>5.72</td>\n",
              "      <td>-13.83</td>\n",
              "      <td>3</td>\n",
              "      <td>2</td>\n",
              "      <td>0.03</td>\n",
              "      <td>-200.46</td>\n",
              "      <td>122.09</td>\n",
              "      <td>-2.96</td>\n",
              "      <td>6</td>\n",
              "      <td>2.67</td>\n",
              "      <td>8</td>\n",
              "      <td>607.14</td>\n",
              "      <td>19.19</td>\n",
              "      <td>10523.40</td>\n",
              "      <td>-635.80</td>\n",
              "      <td>1051.99</td>\n",
              "    </tr>\n",
              "    <tr>\n",
              "      <th>1</th>\n",
              "      <td>-29.38</td>\n",
              "      <td>8.20</td>\n",
              "      <td>-11.07</td>\n",
              "      <td>2</td>\n",
              "      <td>2</td>\n",
              "      <td>56.97</td>\n",
              "      <td>-427.78</td>\n",
              "      <td>74.25</td>\n",
              "      <td>-22.94</td>\n",
              "      <td>4</td>\n",
              "      <td>3.84</td>\n",
              "      <td>10</td>\n",
              "      <td>867.03</td>\n",
              "      <td>12.65</td>\n",
              "      <td>10037.04</td>\n",
              "      <td>-469.73</td>\n",
              "      <td>816.64</td>\n",
              "    </tr>\n",
              "    <tr>\n",
              "      <th>2</th>\n",
              "      <td>2.46</td>\n",
              "      <td>20.32</td>\n",
              "      <td>-7.59</td>\n",
              "      <td>1</td>\n",
              "      <td>1</td>\n",
              "      <td>45.00</td>\n",
              "      <td>-329.02</td>\n",
              "      <td>96.98</td>\n",
              "      <td>-10.90</td>\n",
              "      <td>4</td>\n",
              "      <td>13.14</td>\n",
              "      <td>8</td>\n",
              "      <td>-153.66</td>\n",
              "      <td>13.01</td>\n",
              "      <td>15100.28</td>\n",
              "      <td>-662.31</td>\n",
              "      <td>3241.77</td>\n",
              "    </tr>\n",
              "    <tr>\n",
              "      <th>5</th>\n",
              "      <td>12.34</td>\n",
              "      <td>3.84</td>\n",
              "      <td>-18.00</td>\n",
              "      <td>1</td>\n",
              "      <td>0</td>\n",
              "      <td>0.87</td>\n",
              "      <td>-74.46</td>\n",
              "      <td>66.70</td>\n",
              "      <td>-18.46</td>\n",
              "      <td>4</td>\n",
              "      <td>15.51</td>\n",
              "      <td>8</td>\n",
              "      <td>-515.55</td>\n",
              "      <td>11.21</td>\n",
              "      <td>10234.20</td>\n",
              "      <td>-290.43</td>\n",
              "      <td>91.90</td>\n",
              "    </tr>\n",
              "    <tr>\n",
              "      <th>7</th>\n",
              "      <td>-13.62</td>\n",
              "      <td>5.40</td>\n",
              "      <td>-16.77</td>\n",
              "      <td>2</td>\n",
              "      <td>1</td>\n",
              "      <td>4.38</td>\n",
              "      <td>-201.54</td>\n",
              "      <td>91.12</td>\n",
              "      <td>-13.30</td>\n",
              "      <td>6</td>\n",
              "      <td>5.34</td>\n",
              "      <td>6</td>\n",
              "      <td>1621.71</td>\n",
              "      <td>15.96</td>\n",
              "      <td>14760.40</td>\n",
              "      <td>-1029.52</td>\n",
              "      <td>273.70</td>\n",
              "    </tr>\n",
              "  </tbody>\n",
              "</table>\n",
              "</div>"
            ],
            "text/plain": [
              "      F1     F2     F3  F4  F5  ...      F13    F14       F15      F16   Target\n",
              "0 -39.32   5.72 -13.83   3   2  ...   607.14  19.19  10523.40  -635.80  1051.99\n",
              "1 -29.38   8.20 -11.07   2   2  ...   867.03  12.65  10037.04  -469.73   816.64\n",
              "2   2.46  20.32  -7.59   1   1  ...  -153.66  13.01  15100.28  -662.31  3241.77\n",
              "5  12.34   3.84 -18.00   1   0  ...  -515.55  11.21  10234.20  -290.43    91.90\n",
              "7 -13.62   5.40 -16.77   2   1  ...  1621.71  15.96  14760.40 -1029.52   273.70\n",
              "\n",
              "[5 rows x 17 columns]"
            ]
          },
          "metadata": {
            "tags": []
          },
          "execution_count": 4
        }
      ]
    },
    {
      "cell_type": "markdown",
      "metadata": {
        "id": "GGZ62Dca2nHZ"
      },
      "source": [
        "***Finding feature importance using Linear Regression***"
      ]
    },
    {
      "cell_type": "code",
      "metadata": {
        "colab": {
          "base_uri": "https://localhost:8080/"
        },
        "id": "LOLMx1XexS0E",
        "outputId": "9ff25f83-4415-4afb-f94d-df5d8e40d0cb"
      },
      "source": [
        "X = df.drop(['Target'], axis=1)\n",
        "y = df.Target\n",
        "\n",
        "lr = LinearRegression()\n",
        "lr.fit(X, y)\n",
        "\n",
        "importance = lr.coef_\n",
        "\n",
        "# summarizing feature importance\n",
        "for i,v in enumerate(importance):\n",
        "\tprint('Feature: %0d, Score: %.5f' % (i,v))\n"
      ],
      "execution_count": 5,
      "outputs": [
        {
          "output_type": "stream",
          "text": [
            "Feature: 0, Score: 0.58005\n",
            "Feature: 1, Score: 77.33392\n",
            "Feature: 2, Score: 0.59859\n",
            "Feature: 3, Score: 208.85675\n",
            "Feature: 4, Score: 176.72470\n",
            "Feature: 5, Score: -0.00109\n",
            "Feature: 6, Score: -0.21463\n",
            "Feature: 7, Score: 18.96867\n",
            "Feature: 8, Score: 3.75216\n",
            "Feature: 9, Score: -94.06748\n",
            "Feature: 10, Score: 51.73850\n",
            "Feature: 11, Score: 74.63410\n",
            "Feature: 12, Score: 0.45466\n",
            "Feature: 13, Score: -1.05902\n",
            "Feature: 14, Score: 0.00477\n",
            "Feature: 15, Score: 1.10653\n"
          ],
          "name": "stdout"
        }
      ]
    },
    {
      "cell_type": "code",
      "metadata": {
        "colab": {
          "base_uri": "https://localhost:8080/",
          "height": 265
        },
        "id": "BUrqR5taxZOG",
        "outputId": "ec8dd62b-a8d1-485a-f3f0-2c9c44060bc7"
      },
      "source": [
        "# plot feature importance\n",
        "pyplot.bar([x for x in range(len(importance))], importance)\n",
        "pyplot.show()"
      ],
      "execution_count": 6,
      "outputs": [
        {
          "output_type": "display_data",
          "data": {
            "image/png": "[encoded data removed]",
            "text/plain": [
              "<Figure size 432x288 with 1 Axes>"
            ]
          },
          "metadata": {
            "tags": [],
            "needs_background": "light"
          }
        }
      ]
    },
    {
      "cell_type": "code",
      "metadata": {
        "colab": {
          "base_uri": "https://localhost:8080/",
          "height": 558
        },
        "id": "ANO6zfdVza-7",
        "outputId": "0ac09b1b-acf6-43b3-aa02-a8708339ff69"
      },
      "source": [
        "plt.figure(figsize=(5, 7))\n",
        "\n",
        "y_pred = lr.predict(X)\n",
        "\n",
        "ax = sns.distplot(y, hist=False, color=\"g\", label=\"Actual Value\")\n",
        "sns.distplot(y_pred, hist=False, color=\"y\", label=\"Fitted Values\" , ax=ax)\n",
        "\n",
        "\n",
        "plt.title('Actual vs Fitted Price')\n",
        "\n",
        "plt.legend()\n",
        "plt.show()\n",
        "plt.close()\n",
        "\n",
        "print('Score of the Linear Regressor: ', lr.score(X,y))"
      ],
      "execution_count": 7,
      "outputs": [
        {
          "output_type": "stream",
          "text": [
            "/usr/local/lib/python3.7/dist-packages/seaborn/distributions.py:2557: FutureWarning: `distplot` is a deprecated function and will be removed in a future version. Please adapt your code to use either `displot` (a figure-level function with similar flexibility) or `kdeplot` (an axes-level function for kernel density plots).\n",
            "  warnings.warn(msg, FutureWarning)\n",
            "/usr/local/lib/python3.7/dist-packages/seaborn/distributions.py:2557: FutureWarning: `distplot` is a deprecated function and will be removed in a future version. Please adapt your code to use either `displot` (a figure-level function with similar flexibility) or `kdeplot` (an axes-level function for kernel density plots).\n",
            "  warnings.warn(msg, FutureWarning)\n"
          ],
          "name": "stderr"
        },
        {
          "output_type": "display_data",
          "data": {
            "image/png": "[encoded data removed]",
            "text/plain": [
              "<Figure size 360x504 with 1 Axes>"
            ]
          },
          "metadata": {
            "tags": [],
            "needs_background": "light"
          }
        },
        {
          "output_type": "stream",
          "text": [
            "Score of the Linear Regressor:  0.7086722908448713\n"
          ],
          "name": "stdout"
        }
      ]
    },
    {
      "cell_type": "markdown",
      "metadata": {
        "id": "IyMRXHxZ2unN"
      },
      "source": [
        "***Predicting Sales using Random Forest Regressor***"
      ]
    },
    {
      "cell_type": "code",
      "metadata": {
        "colab": {
          "base_uri": "https://localhost:8080/",
          "height": 200
        },
        "id": "fRLebCdv210p",
        "outputId": "0919d14e-4158-4aaa-fdcd-252119def815"
      },
      "source": [
        "regressor = RandomForestRegressor(n_estimators = 1000, random_state = 42)\n",
        "regressor.fit(X, y)\n",
        "\n",
        "y_pred_reg = regressor.predict(X)\n",
        "\n",
        "\n",
        "rdf=pd.DataFrame({'Actual':y, 'Predicted':y_pred_reg, 'Percentage error': 100*(abs(y-y_pred_reg)/np.maximum.reduce([y_pred,y]))})\n",
        "rdf.head()"
      ],
      "execution_count": 8,
      "outputs": [
        {
          "output_type": "execute_result",
          "data": {
            "text/html": [
              "<div>\n",
              "<style scoped>\n",
              "    .dataframe tbody tr th:only-of-type {\n",
              "        vertical-align: middle;\n",
              "    }\n",
              "\n",
              "    .dataframe tbody tr th {\n",
              "        vertical-align: top;\n",
              "    }\n",
              "\n",
              "    .dataframe thead th {\n",
              "        text-align: right;\n",
              "    }\n",
              "</style>\n",
              "<table border=\"1\" class=\"dataframe\">\n",
              "  <thead>\n",
              "    <tr style=\"text-align: right;\">\n",
              "      <th></th>\n",
              "      <th>Actual</th>\n",
              "      <th>Predicted</th>\n",
              "      <th>Percentage error</th>\n",
              "    </tr>\n",
              "  </thead>\n",
              "  <tbody>\n",
              "    <tr>\n",
              "      <th>0</th>\n",
              "      <td>1051.99</td>\n",
              "      <td>1166.88358</td>\n",
              "      <td>8.783018</td>\n",
              "    </tr>\n",
              "    <tr>\n",
              "      <th>1</th>\n",
              "      <td>816.64</td>\n",
              "      <td>819.94022</td>\n",
              "      <td>0.308649</td>\n",
              "    </tr>\n",
              "    <tr>\n",
              "      <th>2</th>\n",
              "      <td>3241.77</td>\n",
              "      <td>2873.26033</td>\n",
              "      <td>11.367545</td>\n",
              "    </tr>\n",
              "    <tr>\n",
              "      <th>5</th>\n",
              "      <td>91.90</td>\n",
              "      <td>169.64343</td>\n",
              "      <td>84.595680</td>\n",
              "    </tr>\n",
              "    <tr>\n",
              "      <th>7</th>\n",
              "      <td>273.70</td>\n",
              "      <td>431.64597</td>\n",
              "      <td>48.895374</td>\n",
              "    </tr>\n",
              "  </tbody>\n",
              "</table>\n",
              "</div>"
            ],
            "text/plain": [
              "    Actual   Predicted  Percentage error\n",
              "0  1051.99  1166.88358          8.783018\n",
              "1   816.64   819.94022          0.308649\n",
              "2  3241.77  2873.26033         11.367545\n",
              "5    91.90   169.64343         84.595680\n",
              "7   273.70   431.64597         48.895374"
            ]
          },
          "metadata": {
            "tags": []
          },
          "execution_count": 8
        }
      ]
    },
    {
      "cell_type": "code",
      "metadata": {
        "colab": {
          "base_uri": "https://localhost:8080/"
        },
        "id": "g4hbBp3L4LKA",
        "outputId": "a400b615-f12a-4593-d79c-042e32fb94cb"
      },
      "source": [
        "print('Mean Absolute Error:', metrics.mean_absolute_error(y, y_pred_reg))\n",
        "print('Mean Squared Error:', metrics.mean_squared_error(y, y_pred_reg))\n",
        "print('Root Mean Squared Error:', np.sqrt(metrics.mean_squared_error(y, y_pred_reg)))"
      ],
      "execution_count": 9,
      "outputs": [
        {
          "output_type": "stream",
          "text": [
            "Mean Absolute Error: 183.88278841405526\n",
            "Mean Squared Error: 56135.89795926908\n",
            "Root Mean Squared Error: 236.93015417896703\n"
          ],
          "name": "stdout"
        }
      ]
    },
    {
      "cell_type": "markdown",
      "metadata": {
        "id": "1fppSNys4StV"
      },
      "source": [
        "***ACCURACY - RANDOM FOREST***"
      ]
    },
    {
      "cell_type": "code",
      "metadata": {
        "colab": {
          "base_uri": "https://localhost:8080/"
        },
        "id": "rbWsxgtw4SIt",
        "outputId": "bcbca2ca-7368-469f-d78f-f8b138a6b8c0"
      },
      "source": [
        "# absolute error\n",
        "errors = abs(y_pred_reg-y)\n",
        "max_vals = np.maximum.reduce([y_pred_reg,y])\n",
        "\n",
        "# mean absolute percentage error (MAPE)\n",
        "mape = 100 * (errors / max_vals)\n",
        "accuracy = 100 - np.mean(mape)\n",
        "\n",
        "print('Accuracy:', round(accuracy, 2), '%.')"
      ],
      "execution_count": 10,
      "outputs": [
        {
          "output_type": "stream",
          "text": [
            "Accuracy: 79.4 %.\n"
          ],
          "name": "stdout"
        }
      ]
    },
    {
      "cell_type": "markdown",
      "metadata": {
        "id": "dADS77pM5OEA"
      },
      "source": [
        "***Plotting Actual vs Fitted Price from Random Forest Regressor***"
      ]
    },
    {
      "cell_type": "code",
      "metadata": {
        "colab": {
          "base_uri": "https://localhost:8080/",
          "height": 542
        },
        "id": "975MgCMc46BG",
        "outputId": "de3affdf-29bd-495f-9ff9-5c9a1c43b1f2"
      },
      "source": [
        "plt.figure(figsize=(5, 7))\n",
        "\n",
        "\n",
        "ax = sns.distplot(y, hist=False, color=\"g\", label=\"Actual Value\")\n",
        "sns.distplot(y_pred_reg, hist=False, color=\"y\", label=\"Fitted Values\" , ax=ax)\n",
        "\n",
        "\n",
        "plt.title('Actual vs Fitted Values for Price')\n",
        "\n",
        "plt.legend()\n",
        "plt.show()\n",
        "plt.close()"
      ],
      "execution_count": 11,
      "outputs": [
        {
          "output_type": "stream",
          "text": [
            "/usr/local/lib/python3.7/dist-packages/seaborn/distributions.py:2557: FutureWarning: `distplot` is a deprecated function and will be removed in a future version. Please adapt your code to use either `displot` (a figure-level function with similar flexibility) or `kdeplot` (an axes-level function for kernel density plots).\n",
            "  warnings.warn(msg, FutureWarning)\n",
            "/usr/local/lib/python3.7/dist-packages/seaborn/distributions.py:2557: FutureWarning: `distplot` is a deprecated function and will be removed in a future version. Please adapt your code to use either `displot` (a figure-level function with similar flexibility) or `kdeplot` (an axes-level function for kernel density plots).\n",
            "  warnings.warn(msg, FutureWarning)\n"
          ],
          "name": "stderr"
        },
        {
          "output_type": "display_data",
          "data": {
            "image/png": "[encoded data removed]",
            "text/plain": [
              "<Figure size 360x504 with 1 Axes>"
            ]
          },
          "metadata": {
            "tags": [],
            "needs_background": "light"
          }
        }
      ]
    },
    {
      "cell_type": "markdown",
      "metadata": {
        "id": "nCUUEWNI6v8s"
      },
      "source": [
        "***Predicting Sales using SVM***"
      ]
    },
    {
      "cell_type": "code",
      "metadata": {
        "colab": {
          "base_uri": "https://localhost:8080/",
          "height": 200
        },
        "id": "uJ6CV9BX7Ejd",
        "outputId": "dfb7e4f8-4295-4859-b158-7fba9846c47d"
      },
      "source": [
        "SVM_regressor = SVR(kernel = 'poly')\n",
        "SVM_regressor.fit(X, y)\n",
        "\n",
        "y_pred_svm = SVM_regressor.predict(X)\n",
        "\n",
        "\n",
        "rdf=pd.DataFrame({'Actual':y, 'Predicted':y_pred_svm, 'Percentage error': 100*(abs(y-y_pred_svm)/np.maximum.reduce([y_pred,y]))})\n",
        "rdf.head()"
      ],
      "execution_count": 12,
      "outputs": [
        {
          "output_type": "execute_result",
          "data": {
            "text/html": [
              "<div>\n",
              "<style scoped>\n",
              "    .dataframe tbody tr th:only-of-type {\n",
              "        vertical-align: middle;\n",
              "    }\n",
              "\n",
              "    .dataframe tbody tr th {\n",
              "        vertical-align: top;\n",
              "    }\n",
              "\n",
              "    .dataframe thead th {\n",
              "        text-align: right;\n",
              "    }\n",
              "</style>\n",
              "<table border=\"1\" class=\"dataframe\">\n",
              "  <thead>\n",
              "    <tr style=\"text-align: right;\">\n",
              "      <th></th>\n",
              "      <th>Actual</th>\n",
              "      <th>Predicted</th>\n",
              "      <th>Percentage error</th>\n",
              "    </tr>\n",
              "  </thead>\n",
              "  <tbody>\n",
              "    <tr>\n",
              "      <th>0</th>\n",
              "      <td>1051.99</td>\n",
              "      <td>1018.455597</td>\n",
              "      <td>2.563531</td>\n",
              "    </tr>\n",
              "    <tr>\n",
              "      <th>1</th>\n",
              "      <td>816.64</td>\n",
              "      <td>1018.313803</td>\n",
              "      <td>18.861288</td>\n",
              "    </tr>\n",
              "    <tr>\n",
              "      <th>2</th>\n",
              "      <td>3241.77</td>\n",
              "      <td>1023.271269</td>\n",
              "      <td>68.434797</td>\n",
              "    </tr>\n",
              "    <tr>\n",
              "      <th>5</th>\n",
              "      <td>91.90</td>\n",
              "      <td>1017.079852</td>\n",
              "      <td>1006.724539</td>\n",
              "    </tr>\n",
              "    <tr>\n",
              "      <th>7</th>\n",
              "      <td>273.70</td>\n",
              "      <td>1026.422372</td>\n",
              "      <td>233.020454</td>\n",
              "    </tr>\n",
              "  </tbody>\n",
              "</table>\n",
              "</div>"
            ],
            "text/plain": [
              "    Actual    Predicted  Percentage error\n",
              "0  1051.99  1018.455597          2.563531\n",
              "1   816.64  1018.313803         18.861288\n",
              "2  3241.77  1023.271269         68.434797\n",
              "5    91.90  1017.079852       1006.724539\n",
              "7   273.70  1026.422372        233.020454"
            ]
          },
          "metadata": {
            "tags": []
          },
          "execution_count": 12
        }
      ]
    },
    {
      "cell_type": "markdown",
      "metadata": {
        "id": "Er5PM6fA9kdH"
      },
      "source": [
        "***ACCURACY - SVM***"
      ]
    },
    {
      "cell_type": "code",
      "metadata": {
        "colab": {
          "base_uri": "https://localhost:8080/"
        },
        "id": "FppGpb1V7mwg",
        "outputId": "c9c95c0b-8ccb-4652-f3aa-063528d33528"
      },
      "source": [
        "# absolute errors\n",
        "errors = abs(y_pred_svm-y)\n",
        "max_vals = np.maximum.reduce([y_pred_svm,y])\n",
        "\n",
        "# absolute percentage error (MAPE)\n",
        "mape = 100 * (errors / max_vals)\n",
        "accuracy = 100 - np.mean(mape)\n",
        "\n",
        "print('Accuracy:', round(accuracy, 2), '%.')"
      ],
      "execution_count": 13,
      "outputs": [
        {
          "output_type": "stream",
          "text": [
            "Accuracy: 47.66 %.\n"
          ],
          "name": "stdout"
        }
      ]
    },
    {
      "cell_type": "markdown",
      "metadata": {
        "id": "fkSzHQDg7uZh"
      },
      "source": [
        "***Predicting Sales using KNN***\n"
      ]
    },
    {
      "cell_type": "code",
      "metadata": {
        "colab": {
          "base_uri": "https://localhost:8080/"
        },
        "id": "Q7Cu5yFe7uNC",
        "outputId": "400f95a9-422f-4493-d085-a6827ed328cc"
      },
      "source": [
        "df1 = df\n",
        "\n",
        "train , test = train_test_split(df1, test_size = 0.2)\n",
        "\n",
        "x_train = train.drop('Target', axis=1)\n",
        "y_train = train['Target']\n",
        "\n",
        "x_test = test.drop('Target', axis = 1)\n",
        "y_test = test['Target']\n",
        "\n",
        "from sklearn.preprocessing import MinMaxScaler\n",
        "scaler = MinMaxScaler(feature_range=(0, 1))\n",
        "\n",
        "#standardize the data\n",
        "x_train_scaled = scaler.fit_transform(x_train)\n",
        "x_test_scaled = scaler.fit_transform(x_test)\n",
        "\n",
        "from sklearn import neighbors\n",
        "from sklearn.metrics import mean_squared_error \n",
        "from math import sqrt\n",
        "\n",
        "rmse_val = [] #to store rmse values for different k\n",
        "for K in range(20):\n",
        "    K = K+1\n",
        "    model = neighbors.KNeighborsRegressor(n_neighbors = K)\n",
        "\n",
        "    model.fit(x_train_scaled, y_train)  #fit the model\n",
        "    y_pred_knn=model.predict(x_test_scaled) #make prediction on test set\n",
        "    error = sqrt(mean_squared_error(y_test,y_pred_knn)) #calculate rmse\n",
        "    rmse_val.append(error) #store rmse values\n",
        "    print('RMSE value for k= ' , K , 'is:', error)"
      ],
      "execution_count": 14,
      "outputs": [
        {
          "output_type": "stream",
          "text": [
            "RMSE value for k=  1 is: 1056.848581384041\n",
            "RMSE value for k=  2 is: 880.9266945942863\n",
            "RMSE value for k=  3 is: 840.2300756395331\n",
            "RMSE value for k=  4 is: 824.4449750041164\n",
            "RMSE value for k=  5 is: 796.893730773843\n",
            "RMSE value for k=  6 is: 783.9576484780459\n",
            "RMSE value for k=  7 is: 781.4086968107069\n",
            "RMSE value for k=  8 is: 797.88622804186\n",
            "RMSE value for k=  9 is: 783.161821982484\n",
            "RMSE value for k=  10 is: 781.8770034089495\n",
            "RMSE value for k=  11 is: 767.6720568923708\n",
            "RMSE value for k=  12 is: 775.7074792333595\n",
            "RMSE value for k=  13 is: 782.0774738136658\n",
            "RMSE value for k=  14 is: 791.1307592808876\n",
            "RMSE value for k=  15 is: 796.2041062249664\n",
            "RMSE value for k=  16 is: 798.259637183746\n",
            "RMSE value for k=  17 is: 805.7376626394386\n",
            "RMSE value for k=  18 is: 802.9893673074646\n",
            "RMSE value for k=  19 is: 805.5051286475108\n",
            "RMSE value for k=  20 is: 808.3476230943941\n"
          ],
          "name": "stdout"
        }
      ]
    },
    {
      "cell_type": "markdown",
      "metadata": {
        "id": "NFa3yjpY871d"
      },
      "source": [
        "***ACCURACY - KNN***"
      ]
    },
    {
      "cell_type": "code",
      "metadata": {
        "colab": {
          "base_uri": "https://localhost:8080/"
        },
        "id": "O5dJTkj88-Bm",
        "outputId": "e28be12a-e336-466c-d150-131eb00092d1"
      },
      "source": [
        "#select k=8\n",
        "knn_model = neighbors.KNeighborsRegressor(n_neighbors = 8)\n",
        "\n",
        "knn_model.fit(x_train_scaled, y_train)\n",
        "\n",
        "y_pred_knn = knn_model.predict(x_test_scaled) #make prediction on test set\n",
        "\n",
        "# absolute errors\n",
        "errors = abs(y_pred_knn-y_test)\n",
        "max_vals = np.maximum.reduce([y_pred_knn,y_test])\n",
        "\n",
        "# mean absolute percentage error (MAPE)\n",
        "mape = 100 * (errors / max_vals)\n",
        "accuracy = 100 - np.mean(mape)\n",
        "\n",
        "print('Accuracy:', round(accuracy, 2), '%.')"
      ],
      "execution_count": 15,
      "outputs": [
        {
          "output_type": "stream",
          "text": [
            "Accuracy: 58.99 %.\n"
          ],
          "name": "stdout"
        }
      ]
    },
    {
      "cell_type": "markdown",
      "metadata": {
        "id": "LCYle9rfAQSu"
      },
      "source": [
        "***a) Best performance - RANDOM FOREST CLASSIFIER with 79.4%***"
      ]
    },
    {
      "cell_type": "markdown",
      "metadata": {
        "id": "-2lFtx_uAZ27"
      },
      "source": [
        "***b) Prediction on hold-out test set.***"
      ]
    },
    {
      "cell_type": "code",
      "metadata": {
        "colab": {
          "base_uri": "https://localhost:8080/",
          "height": 285
        },
        "id": "H65FmyMSAFy5",
        "outputId": "8c1fad97-2c30-4d4f-d742-3accfbc6f266"
      },
      "source": [
        "# test data\n",
        "df_test = pd.read_csv('/content/CE802/CE802_P3_Test.csv')\n",
        "df_test.head()"
      ],
      "execution_count": 16,
      "outputs": [
        {
          "output_type": "execute_result",
          "data": {
            "text/html": [
              "<div>\n",
              "<style scoped>\n",
              "    .dataframe tbody tr th:only-of-type {\n",
              "        vertical-align: middle;\n",
              "    }\n",
              "\n",
              "    .dataframe tbody tr th {\n",
              "        vertical-align: top;\n",
              "    }\n",
              "\n",
              "    .dataframe thead th {\n",
              "        text-align: right;\n",
              "    }\n",
              "</style>\n",
              "<table border=\"1\" class=\"dataframe\">\n",
              "  <thead>\n",
              "    <tr style=\"text-align: right;\">\n",
              "      <th></th>\n",
              "      <th>F1</th>\n",
              "      <th>F2</th>\n",
              "      <th>F3</th>\n",
              "      <th>F4</th>\n",
              "      <th>F5</th>\n",
              "      <th>F6</th>\n",
              "      <th>F7</th>\n",
              "      <th>F8</th>\n",
              "      <th>F9</th>\n",
              "      <th>F10</th>\n",
              "      <th>F11</th>\n",
              "      <th>F12</th>\n",
              "      <th>F13</th>\n",
              "      <th>F14</th>\n",
              "      <th>F15</th>\n",
              "      <th>F16</th>\n",
              "      <th>Target</th>\n",
              "    </tr>\n",
              "  </thead>\n",
              "  <tbody>\n",
              "    <tr>\n",
              "      <th>0</th>\n",
              "      <td>-39.37</td>\n",
              "      <td>4.22</td>\n",
              "      <td>-4.05</td>\n",
              "      <td>Very high</td>\n",
              "      <td>UK</td>\n",
              "      <td>83.43</td>\n",
              "      <td>-209.02</td>\n",
              "      <td>101.94</td>\n",
              "      <td>-17.16</td>\n",
              "      <td>2</td>\n",
              "      <td>7.89</td>\n",
              "      <td>10</td>\n",
              "      <td>2373.57</td>\n",
              "      <td>13.11</td>\n",
              "      <td>30843.16</td>\n",
              "      <td>-962.72</td>\n",
              "      <td>NaN</td>\n",
              "    </tr>\n",
              "    <tr>\n",
              "      <th>1</th>\n",
              "      <td>-39.37</td>\n",
              "      <td>7.72</td>\n",
              "      <td>-3.48</td>\n",
              "      <td>Very low</td>\n",
              "      <td>Rest</td>\n",
              "      <td>48.30</td>\n",
              "      <td>86.62</td>\n",
              "      <td>107.56</td>\n",
              "      <td>-11.00</td>\n",
              "      <td>18</td>\n",
              "      <td>1.86</td>\n",
              "      <td>10</td>\n",
              "      <td>1475.76</td>\n",
              "      <td>11.71</td>\n",
              "      <td>15657.13</td>\n",
              "      <td>-305.24</td>\n",
              "      <td>NaN</td>\n",
              "    </tr>\n",
              "    <tr>\n",
              "      <th>2</th>\n",
              "      <td>16.25</td>\n",
              "      <td>7.08</td>\n",
              "      <td>-5.31</td>\n",
              "      <td>Very low</td>\n",
              "      <td>Europe</td>\n",
              "      <td>1.98</td>\n",
              "      <td>-267.34</td>\n",
              "      <td>23.33</td>\n",
              "      <td>-14.66</td>\n",
              "      <td>8</td>\n",
              "      <td>25.92</td>\n",
              "      <td>6</td>\n",
              "      <td>192.93</td>\n",
              "      <td>17.60</td>\n",
              "      <td>10765.05</td>\n",
              "      <td>-857.16</td>\n",
              "      <td>NaN</td>\n",
              "    </tr>\n",
              "    <tr>\n",
              "      <th>3</th>\n",
              "      <td>23.08</td>\n",
              "      <td>5.82</td>\n",
              "      <td>-5.91</td>\n",
              "      <td>Very low</td>\n",
              "      <td>UK</td>\n",
              "      <td>11.49</td>\n",
              "      <td>-196.52</td>\n",
              "      <td>115.19</td>\n",
              "      <td>-12.14</td>\n",
              "      <td>2</td>\n",
              "      <td>12.87</td>\n",
              "      <td>0</td>\n",
              "      <td>2779.23</td>\n",
              "      <td>13.59</td>\n",
              "      <td>14778.80</td>\n",
              "      <td>-798.06</td>\n",
              "      <td>NaN</td>\n",
              "    </tr>\n",
              "    <tr>\n",
              "      <th>4</th>\n",
              "      <td>-21.30</td>\n",
              "      <td>15.14</td>\n",
              "      <td>-4.02</td>\n",
              "      <td>Medium</td>\n",
              "      <td>USA</td>\n",
              "      <td>0.60</td>\n",
              "      <td>-80.36</td>\n",
              "      <td>75.42</td>\n",
              "      <td>-8.86</td>\n",
              "      <td>10</td>\n",
              "      <td>4.26</td>\n",
              "      <td>8</td>\n",
              "      <td>-441.42</td>\n",
              "      <td>13.62</td>\n",
              "      <td>16328.25</td>\n",
              "      <td>-832.93</td>\n",
              "      <td>NaN</td>\n",
              "    </tr>\n",
              "  </tbody>\n",
              "</table>\n",
              "</div>"
            ],
            "text/plain": [
              "      F1     F2    F3         F4  ...    F14       F15     F16  Target\n",
              "0 -39.37   4.22 -4.05  Very high  ...  13.11  30843.16 -962.72     NaN\n",
              "1 -39.37   7.72 -3.48   Very low  ...  11.71  15657.13 -305.24     NaN\n",
              "2  16.25   7.08 -5.31   Very low  ...  17.60  10765.05 -857.16     NaN\n",
              "3  23.08   5.82 -5.91   Very low  ...  13.59  14778.80 -798.06     NaN\n",
              "4 -21.30  15.14 -4.02     Medium  ...  13.62  16328.25 -832.93     NaN\n",
              "\n",
              "[5 rows x 17 columns]"
            ]
          },
          "metadata": {
            "tags": []
          },
          "execution_count": 16
        }
      ]
    },
    {
      "cell_type": "code",
      "metadata": {
        "colab": {
          "base_uri": "https://localhost:8080/",
          "height": 220
        },
        "id": "29kH-sGFAL_o",
        "outputId": "f41ed730-8f97-4126-8af7-44ed43132cc6"
      },
      "source": [
        "# encoding F5 and F4 \n",
        "df_test['F5'] = df_test['F5'].astype('category')\n",
        "df_test['F5'] = df_test['F5'].cat.codes\n",
        "\n",
        "replace_map = {'F4': {'Very low':0, 'Low':1, 'Medium':2, 'High':3, 'Very high':4 }}\n",
        "df_test.replace(replace_map, inplace=True)\n",
        "\n",
        "df_test.head()"
      ],
      "execution_count": 17,
      "outputs": [
        {
          "output_type": "execute_result",
          "data": {
            "text/html": [
              "<div>\n",
              "<style scoped>\n",
              "    .dataframe tbody tr th:only-of-type {\n",
              "        vertical-align: middle;\n",
              "    }\n",
              "\n",
              "    .dataframe tbody tr th {\n",
              "        vertical-align: top;\n",
              "    }\n",
              "\n",
              "    .dataframe thead th {\n",
              "        text-align: right;\n",
              "    }\n",
              "</style>\n",
              "<table border=\"1\" class=\"dataframe\">\n",
              "  <thead>\n",
              "    <tr style=\"text-align: right;\">\n",
              "      <th></th>\n",
              "      <th>F1</th>\n",
              "      <th>F2</th>\n",
              "      <th>F3</th>\n",
              "      <th>F4</th>\n",
              "      <th>F5</th>\n",
              "      <th>F6</th>\n",
              "      <th>F7</th>\n",
              "      <th>F8</th>\n",
              "      <th>F9</th>\n",
              "      <th>F10</th>\n",
              "      <th>F11</th>\n",
              "      <th>F12</th>\n",
              "      <th>F13</th>\n",
              "      <th>F14</th>\n",
              "      <th>F15</th>\n",
              "      <th>F16</th>\n",
              "      <th>Target</th>\n",
              "    </tr>\n",
              "  </thead>\n",
              "  <tbody>\n",
              "    <tr>\n",
              "      <th>0</th>\n",
              "      <td>-39.37</td>\n",
              "      <td>4.22</td>\n",
              "      <td>-4.05</td>\n",
              "      <td>4</td>\n",
              "      <td>2</td>\n",
              "      <td>83.43</td>\n",
              "      <td>-209.02</td>\n",
              "      <td>101.94</td>\n",
              "      <td>-17.16</td>\n",
              "      <td>2</td>\n",
              "      <td>7.89</td>\n",
              "      <td>10</td>\n",
              "      <td>2373.57</td>\n",
              "      <td>13.11</td>\n",
              "      <td>30843.16</td>\n",
              "      <td>-962.72</td>\n",
              "      <td>NaN</td>\n",
              "    </tr>\n",
              "    <tr>\n",
              "      <th>1</th>\n",
              "      <td>-39.37</td>\n",
              "      <td>7.72</td>\n",
              "      <td>-3.48</td>\n",
              "      <td>0</td>\n",
              "      <td>1</td>\n",
              "      <td>48.30</td>\n",
              "      <td>86.62</td>\n",
              "      <td>107.56</td>\n",
              "      <td>-11.00</td>\n",
              "      <td>18</td>\n",
              "      <td>1.86</td>\n",
              "      <td>10</td>\n",
              "      <td>1475.76</td>\n",
              "      <td>11.71</td>\n",
              "      <td>15657.13</td>\n",
              "      <td>-305.24</td>\n",
              "      <td>NaN</td>\n",
              "    </tr>\n",
              "    <tr>\n",
              "      <th>2</th>\n",
              "      <td>16.25</td>\n",
              "      <td>7.08</td>\n",
              "      <td>-5.31</td>\n",
              "      <td>0</td>\n",
              "      <td>0</td>\n",
              "      <td>1.98</td>\n",
              "      <td>-267.34</td>\n",
              "      <td>23.33</td>\n",
              "      <td>-14.66</td>\n",
              "      <td>8</td>\n",
              "      <td>25.92</td>\n",
              "      <td>6</td>\n",
              "      <td>192.93</td>\n",
              "      <td>17.60</td>\n",
              "      <td>10765.05</td>\n",
              "      <td>-857.16</td>\n",
              "      <td>NaN</td>\n",
              "    </tr>\n",
              "    <tr>\n",
              "      <th>3</th>\n",
              "      <td>23.08</td>\n",
              "      <td>5.82</td>\n",
              "      <td>-5.91</td>\n",
              "      <td>0</td>\n",
              "      <td>2</td>\n",
              "      <td>11.49</td>\n",
              "      <td>-196.52</td>\n",
              "      <td>115.19</td>\n",
              "      <td>-12.14</td>\n",
              "      <td>2</td>\n",
              "      <td>12.87</td>\n",
              "      <td>0</td>\n",
              "      <td>2779.23</td>\n",
              "      <td>13.59</td>\n",
              "      <td>14778.80</td>\n",
              "      <td>-798.06</td>\n",
              "      <td>NaN</td>\n",
              "    </tr>\n",
              "    <tr>\n",
              "      <th>4</th>\n",
              "      <td>-21.30</td>\n",
              "      <td>15.14</td>\n",
              "      <td>-4.02</td>\n",
              "      <td>2</td>\n",
              "      <td>3</td>\n",
              "      <td>0.60</td>\n",
              "      <td>-80.36</td>\n",
              "      <td>75.42</td>\n",
              "      <td>-8.86</td>\n",
              "      <td>10</td>\n",
              "      <td>4.26</td>\n",
              "      <td>8</td>\n",
              "      <td>-441.42</td>\n",
              "      <td>13.62</td>\n",
              "      <td>16328.25</td>\n",
              "      <td>-832.93</td>\n",
              "      <td>NaN</td>\n",
              "    </tr>\n",
              "  </tbody>\n",
              "</table>\n",
              "</div>"
            ],
            "text/plain": [
              "      F1     F2    F3  F4  F5  ...      F13    F14       F15     F16  Target\n",
              "0 -39.37   4.22 -4.05   4   2  ...  2373.57  13.11  30843.16 -962.72     NaN\n",
              "1 -39.37   7.72 -3.48   0   1  ...  1475.76  11.71  15657.13 -305.24     NaN\n",
              "2  16.25   7.08 -5.31   0   0  ...   192.93  17.60  10765.05 -857.16     NaN\n",
              "3  23.08   5.82 -5.91   0   2  ...  2779.23  13.59  14778.80 -798.06     NaN\n",
              "4 -21.30  15.14 -4.02   2   3  ...  -441.42  13.62  16328.25 -832.93     NaN\n",
              "\n",
              "[5 rows x 17 columns]"
            ]
          },
          "metadata": {
            "tags": []
          },
          "execution_count": 17
        }
      ]
    },
    {
      "cell_type": "code",
      "metadata": {
        "colab": {
          "base_uri": "https://localhost:8080/",
          "height": 200
        },
        "id": "XflfQfCUCJpP",
        "outputId": "f5f0eabb-19c6-473f-c2e5-6147fd57f404"
      },
      "source": [
        "#dividing data into features\n",
        "X_test = df_test.drop(['Target'], axis=1)\n",
        "\n",
        "y_test_pred = regressor.predict(X_test)\n",
        "\n",
        "df_test['Target'] = y_test_pred\n",
        "\n",
        "df_test.head()"
      ],
      "execution_count": 18,
      "outputs": [
        {
          "output_type": "execute_result",
          "data": {
            "text/html": [
              "<div>\n",
              "<style scoped>\n",
              "    .dataframe tbody tr th:only-of-type {\n",
              "        vertical-align: middle;\n",
              "    }\n",
              "\n",
              "    .dataframe tbody tr th {\n",
              "        vertical-align: top;\n",
              "    }\n",
              "\n",
              "    .dataframe thead th {\n",
              "        text-align: right;\n",
              "    }\n",
              "</style>\n",
              "<table border=\"1\" class=\"dataframe\">\n",
              "  <thead>\n",
              "    <tr style=\"text-align: right;\">\n",
              "      <th></th>\n",
              "      <th>F1</th>\n",
              "      <th>F2</th>\n",
              "      <th>F3</th>\n",
              "      <th>F4</th>\n",
              "      <th>F5</th>\n",
              "      <th>F6</th>\n",
              "      <th>F7</th>\n",
              "      <th>F8</th>\n",
              "      <th>F9</th>\n",
              "      <th>F10</th>\n",
              "      <th>F11</th>\n",
              "      <th>F12</th>\n",
              "      <th>F13</th>\n",
              "      <th>F14</th>\n",
              "      <th>F15</th>\n",
              "      <th>F16</th>\n",
              "      <th>Target</th>\n",
              "    </tr>\n",
              "  </thead>\n",
              "  <tbody>\n",
              "    <tr>\n",
              "      <th>0</th>\n",
              "      <td>-39.37</td>\n",
              "      <td>4.22</td>\n",
              "      <td>-4.05</td>\n",
              "      <td>4</td>\n",
              "      <td>2</td>\n",
              "      <td>83.43</td>\n",
              "      <td>-209.02</td>\n",
              "      <td>101.94</td>\n",
              "      <td>-17.16</td>\n",
              "      <td>2</td>\n",
              "      <td>7.89</td>\n",
              "      <td>10</td>\n",
              "      <td>2373.57</td>\n",
              "      <td>13.11</td>\n",
              "      <td>30843.16</td>\n",
              "      <td>-962.72</td>\n",
              "      <td>1484.06961</td>\n",
              "    </tr>\n",
              "    <tr>\n",
              "      <th>1</th>\n",
              "      <td>-39.37</td>\n",
              "      <td>7.72</td>\n",
              "      <td>-3.48</td>\n",
              "      <td>0</td>\n",
              "      <td>1</td>\n",
              "      <td>48.30</td>\n",
              "      <td>86.62</td>\n",
              "      <td>107.56</td>\n",
              "      <td>-11.00</td>\n",
              "      <td>18</td>\n",
              "      <td>1.86</td>\n",
              "      <td>10</td>\n",
              "      <td>1475.76</td>\n",
              "      <td>11.71</td>\n",
              "      <td>15657.13</td>\n",
              "      <td>-305.24</td>\n",
              "      <td>1370.11014</td>\n",
              "    </tr>\n",
              "    <tr>\n",
              "      <th>2</th>\n",
              "      <td>16.25</td>\n",
              "      <td>7.08</td>\n",
              "      <td>-5.31</td>\n",
              "      <td>0</td>\n",
              "      <td>0</td>\n",
              "      <td>1.98</td>\n",
              "      <td>-267.34</td>\n",
              "      <td>23.33</td>\n",
              "      <td>-14.66</td>\n",
              "      <td>8</td>\n",
              "      <td>25.92</td>\n",
              "      <td>6</td>\n",
              "      <td>192.93</td>\n",
              "      <td>17.60</td>\n",
              "      <td>10765.05</td>\n",
              "      <td>-857.16</td>\n",
              "      <td>377.65966</td>\n",
              "    </tr>\n",
              "    <tr>\n",
              "      <th>3</th>\n",
              "      <td>23.08</td>\n",
              "      <td>5.82</td>\n",
              "      <td>-5.91</td>\n",
              "      <td>0</td>\n",
              "      <td>2</td>\n",
              "      <td>11.49</td>\n",
              "      <td>-196.52</td>\n",
              "      <td>115.19</td>\n",
              "      <td>-12.14</td>\n",
              "      <td>2</td>\n",
              "      <td>12.87</td>\n",
              "      <td>0</td>\n",
              "      <td>2779.23</td>\n",
              "      <td>13.59</td>\n",
              "      <td>14778.80</td>\n",
              "      <td>-798.06</td>\n",
              "      <td>1532.65778</td>\n",
              "    </tr>\n",
              "    <tr>\n",
              "      <th>4</th>\n",
              "      <td>-21.30</td>\n",
              "      <td>15.14</td>\n",
              "      <td>-4.02</td>\n",
              "      <td>2</td>\n",
              "      <td>3</td>\n",
              "      <td>0.60</td>\n",
              "      <td>-80.36</td>\n",
              "      <td>75.42</td>\n",
              "      <td>-8.86</td>\n",
              "      <td>10</td>\n",
              "      <td>4.26</td>\n",
              "      <td>8</td>\n",
              "      <td>-441.42</td>\n",
              "      <td>13.62</td>\n",
              "      <td>16328.25</td>\n",
              "      <td>-832.93</td>\n",
              "      <td>908.41422</td>\n",
              "    </tr>\n",
              "  </tbody>\n",
              "</table>\n",
              "</div>"
            ],
            "text/plain": [
              "      F1     F2    F3  F4  F5  ...      F13    F14       F15     F16      Target\n",
              "0 -39.37   4.22 -4.05   4   2  ...  2373.57  13.11  30843.16 -962.72  1484.06961\n",
              "1 -39.37   7.72 -3.48   0   1  ...  1475.76  11.71  15657.13 -305.24  1370.11014\n",
              "2  16.25   7.08 -5.31   0   0  ...   192.93  17.60  10765.05 -857.16   377.65966\n",
              "3  23.08   5.82 -5.91   0   2  ...  2779.23  13.59  14778.80 -798.06  1532.65778\n",
              "4 -21.30  15.14 -4.02   2   3  ...  -441.42  13.62  16328.25 -832.93   908.41422\n",
              "\n",
              "[5 rows x 17 columns]"
            ]
          },
          "metadata": {
            "tags": []
          },
          "execution_count": 18
        }
      ]
    },
    {
      "cell_type": "markdown",
      "metadata": {
        "id": "J1hqqLA2C9wV"
      },
      "source": [
        "***CE802_P3_TEST - DOWNLOAD***"
      ]
    },
    {
      "cell_type": "code",
      "metadata": {
        "colab": {
          "base_uri": "https://localhost:8080/",
          "height": 17
        },
        "id": "Z_UFbp_8C5CQ",
        "outputId": "4e17c90d-ab5f-4bf3-b3e8-e3817ca7669c"
      },
      "source": [
        "from google.colab import files\n",
        "df_test.to_csv('CE802_P3_Test.csv') \n",
        "files.download('CE802_P3_Test.csv')"
      ],
      "execution_count": 19,
      "outputs": [
        {
          "output_type": "display_data",
          "data": {
            "application/javascript": [
              "\n",
              "    async function download(id, filename, size) {\n",
              "      if (!google.colab.kernel.accessAllowed) {\n",
              "        return;\n",
              "      }\n",
              "      const div = document.createElement('div');\n",
              "      const label = document.createElement('label');\n",
              "      label.textContent = `Downloading \"${filename}\": `;\n",
              "      div.appendChild(label);\n",
              "      const progress = document.createElement('progress');\n",
              "      progress.max = size;\n",
              "      div.appendChild(progress);\n",
              "      document.body.appendChild(div);\n",
              "\n",
              "      const buffers = [];\n",
              "      let downloaded = 0;\n",
              "\n",
              "      const channel = await google.colab.kernel.comms.open(id);\n",
              "      // Send a message to notify the kernel that we're ready.\n",
              "      channel.send({})\n",
              "\n",
              "      for await (const message of channel.messages) {\n",
              "        // Send a message to notify the kernel that we're ready.\n",
              "        channel.send({})\n",
              "        if (message.buffers) {\n",
              "          for (const buffer of message.buffers) {\n",
              "            buffers.push(buffer);\n",
              "            downloaded += buffer.byteLength;\n",
              "            progress.value = downloaded;\n",
              "          }\n",
              "        }\n",
              "      }\n",
              "      const blob = new Blob(buffers, {type: 'application/binary'});\n",
              "      const a = document.createElement('a');\n",
              "      a.href = window.URL.createObjectURL(blob);\n",
              "      a.download = filename;\n",
              "      div.appendChild(a);\n",
              "      a.click();\n",
              "      div.remove();\n",
              "    }\n",
              "  "
            ],
            "text/plain": [
              "<IPython.core.display.Javascript object>"
            ]
          },
          "metadata": {
            "tags": []
          }
        },
        {
          "output_type": "display_data",
          "data": {
            "application/javascript": [
              "download(\"download_f0c714e5-b011-4da5-ac1e-2b02485a285a\", \"CE802_P3_Test.csv\", 165237)"
            ],
            "text/plain": [
              "<IPython.core.display.Javascript object>"
            ]
          },
          "metadata": {
            "tags": []
          }
        }
      ]
    }
  ]
}