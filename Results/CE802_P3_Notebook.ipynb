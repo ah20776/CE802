{
  "nbformat": 4,
  "nbformat_minor": 0,
  "metadata": {
    "colab": {
      "name": "CE802_P3_Notebook.ipynb",
      "provenance": [],
      "collapsed_sections": [],
      "authorship_tag": "ABX9TyOKUJ1LE2pmtiFoPX14/nor",
      "include_colab_link": true
    },
    "kernelspec": {
      "name": "python3",
      "display_name": "Python 3"
    },
    "language_info": {
      "name": "python"
    }
  },
  "cells": [
    {
      "cell_type": "markdown",
      "metadata": {
        "id": "view-in-github",
        "colab_type": "text"
      },
      "source": [
        "<a href=\"https://colab.research.google.com/github/ah20776/CE802/blob/main/Results/CE802_P3_Notebook.ipynb\" target=\"_parent\"><img src=\"https://colab.research.google.com/assets/colab-badge.svg\" alt=\"Open In Colab\"/></a>"
      ]
    },
    {
      "cell_type": "code",
      "metadata": {
        "id": "Sy5Pod1eu9-A"
      },
      "source": [
        "import sys\n",
        "sys.path.append(\"../\")\n",
        "\n",
        "%matplotlib inline\n",
        "import pandas as pd\n",
        "import numpy as np\n",
        "\n",
        "from sklearn.model_selection import cross_val_score,GridSearchCV\n",
        "from sklearn.linear_model import LinearRegression, Ridge, Lasso\n",
        "from sklearn.model_selection import cross_val_score\n",
        "from sklearn.model_selection import train_test_split\n",
        "from sklearn.metrics import mean_squared_error\n",
        "from sklearn import metrics\n",
        "\n",
        "import matplotlib.pyplot as plt\n",
        "from matplotlib import pyplot\n",
        "import seaborn as sns"
      ],
      "execution_count": 1,
      "outputs": []
    },
    {
      "cell_type": "code",
      "metadata": {
        "colab": {
          "base_uri": "https://localhost:8080/"
        },
        "id": "lI6RrFKAvFVl",
        "outputId": "2ea4b197-c005-400f-8c95-0ef912fc4fe3"
      },
      "source": [
        "#Importing dataset saved in github\n",
        "!git clone https://github.com/ah20776/CE802.git"
      ],
      "execution_count": 2,
      "outputs": [
        {
          "output_type": "stream",
          "text": [
            "fatal: destination path 'CE802' already exists and is not an empty directory.\n"
          ],
          "name": "stdout"
        }
      ]
    },
    {
      "cell_type": "code",
      "metadata": {
        "colab": {
          "base_uri": "https://localhost:8080/",
          "height": 202
        },
        "id": "xeCjmcHavQGP",
        "outputId": "a7e2709c-5620-40f9-88cc-597aa87b471a"
      },
      "source": [
        "#load P3 csv data\n",
        "df = pd.read_csv('/content/CE802/CE802_P3_Data.csv')\n",
        "df.head()"
      ],
      "execution_count": 3,
      "outputs": [
        {
          "output_type": "execute_result",
          "data": {
            "text/html": [
              "<div>\n",
              "<style scoped>\n",
              "    .dataframe tbody tr th:only-of-type {\n",
              "        vertical-align: middle;\n",
              "    }\n",
              "\n",
              "    .dataframe tbody tr th {\n",
              "        vertical-align: top;\n",
              "    }\n",
              "\n",
              "    .dataframe thead th {\n",
              "        text-align: right;\n",
              "    }\n",
              "</style>\n",
              "<table border=\"1\" class=\"dataframe\">\n",
              "  <thead>\n",
              "    <tr style=\"text-align: right;\">\n",
              "      <th></th>\n",
              "      <th>F1</th>\n",
              "      <th>F2</th>\n",
              "      <th>F3</th>\n",
              "      <th>F4</th>\n",
              "      <th>F5</th>\n",
              "      <th>F6</th>\n",
              "      <th>F7</th>\n",
              "      <th>F8</th>\n",
              "      <th>F9</th>\n",
              "      <th>F10</th>\n",
              "      <th>F11</th>\n",
              "      <th>F12</th>\n",
              "      <th>F13</th>\n",
              "      <th>F14</th>\n",
              "      <th>F15</th>\n",
              "      <th>F16</th>\n",
              "      <th>Target</th>\n",
              "    </tr>\n",
              "  </thead>\n",
              "  <tbody>\n",
              "    <tr>\n",
              "      <th>0</th>\n",
              "      <td>-39.32</td>\n",
              "      <td>5.72</td>\n",
              "      <td>-13.83</td>\n",
              "      <td>High</td>\n",
              "      <td>UK</td>\n",
              "      <td>0.03</td>\n",
              "      <td>-200.46</td>\n",
              "      <td>122.09</td>\n",
              "      <td>-2.96</td>\n",
              "      <td>6</td>\n",
              "      <td>2.67</td>\n",
              "      <td>8</td>\n",
              "      <td>607.14</td>\n",
              "      <td>19.19</td>\n",
              "      <td>10523.40</td>\n",
              "      <td>-635.80</td>\n",
              "      <td>1051.99</td>\n",
              "    </tr>\n",
              "    <tr>\n",
              "      <th>1</th>\n",
              "      <td>-29.38</td>\n",
              "      <td>8.20</td>\n",
              "      <td>-11.07</td>\n",
              "      <td>Medium</td>\n",
              "      <td>UK</td>\n",
              "      <td>56.97</td>\n",
              "      <td>-427.78</td>\n",
              "      <td>74.25</td>\n",
              "      <td>-22.94</td>\n",
              "      <td>4</td>\n",
              "      <td>3.84</td>\n",
              "      <td>10</td>\n",
              "      <td>867.03</td>\n",
              "      <td>12.65</td>\n",
              "      <td>10037.04</td>\n",
              "      <td>-469.73</td>\n",
              "      <td>816.64</td>\n",
              "    </tr>\n",
              "    <tr>\n",
              "      <th>2</th>\n",
              "      <td>2.46</td>\n",
              "      <td>20.32</td>\n",
              "      <td>-7.59</td>\n",
              "      <td>Low</td>\n",
              "      <td>Rest</td>\n",
              "      <td>45.00</td>\n",
              "      <td>-329.02</td>\n",
              "      <td>96.98</td>\n",
              "      <td>-10.90</td>\n",
              "      <td>4</td>\n",
              "      <td>13.14</td>\n",
              "      <td>8</td>\n",
              "      <td>-153.66</td>\n",
              "      <td>13.01</td>\n",
              "      <td>15100.28</td>\n",
              "      <td>-662.31</td>\n",
              "      <td>3241.77</td>\n",
              "    </tr>\n",
              "    <tr>\n",
              "      <th>3</th>\n",
              "      <td>16.33</td>\n",
              "      <td>2.76</td>\n",
              "      <td>-8.40</td>\n",
              "      <td>High</td>\n",
              "      <td>Rest</td>\n",
              "      <td>0.12</td>\n",
              "      <td>-196.88</td>\n",
              "      <td>42.45</td>\n",
              "      <td>-12.16</td>\n",
              "      <td>12</td>\n",
              "      <td>1.29</td>\n",
              "      <td>6</td>\n",
              "      <td>1461.87</td>\n",
              "      <td>9.19</td>\n",
              "      <td>22518.15</td>\n",
              "      <td>-1100.35</td>\n",
              "      <td>0.00</td>\n",
              "    </tr>\n",
              "    <tr>\n",
              "      <th>4</th>\n",
              "      <td>-14.93</td>\n",
              "      <td>9.98</td>\n",
              "      <td>-5.28</td>\n",
              "      <td>Medium</td>\n",
              "      <td>USA</td>\n",
              "      <td>557.61</td>\n",
              "      <td>-249.50</td>\n",
              "      <td>76.25</td>\n",
              "      <td>-20.54</td>\n",
              "      <td>8</td>\n",
              "      <td>2.58</td>\n",
              "      <td>2</td>\n",
              "      <td>-433.89</td>\n",
              "      <td>18.44</td>\n",
              "      <td>20111.46</td>\n",
              "      <td>-752.48</td>\n",
              "      <td>0.00</td>\n",
              "    </tr>\n",
              "  </tbody>\n",
              "</table>\n",
              "</div>"
            ],
            "text/plain": [
              "      F1     F2     F3      F4  ...    F14       F15      F16   Target\n",
              "0 -39.32   5.72 -13.83    High  ...  19.19  10523.40  -635.80  1051.99\n",
              "1 -29.38   8.20 -11.07  Medium  ...  12.65  10037.04  -469.73   816.64\n",
              "2   2.46  20.32  -7.59     Low  ...  13.01  15100.28  -662.31  3241.77\n",
              "3  16.33   2.76  -8.40    High  ...   9.19  22518.15 -1100.35     0.00\n",
              "4 -14.93   9.98  -5.28  Medium  ...  18.44  20111.46  -752.48     0.00\n",
              "\n",
              "[5 rows x 17 columns]"
            ]
          },
          "metadata": {
            "tags": []
          },
          "execution_count": 3
        }
      ]
    },
    {
      "cell_type": "markdown",
      "metadata": {
        "id": "PThHnaZawgWJ"
      },
      "source": [
        "***ENCODING***"
      ]
    },
    {
      "cell_type": "code",
      "metadata": {
        "colab": {
          "base_uri": "https://localhost:8080/",
          "height": 202
        },
        "id": "P6wXQYcxwItq",
        "outputId": "1398191f-bf60-47ea-ec12-95fef5cf999f"
      },
      "source": [
        "df = pd.get_dummies(df, columns=['F5'])\n",
        "replace_map = {'F4': {'Very low':0, 'Low':1, 'Medium':2, 'High':3, 'Very high':4 }}\n",
        "df.replace(replace_map, inplace=True)\n",
        "df.head()"
      ],
      "execution_count": 4,
      "outputs": [
        {
          "output_type": "execute_result",
          "data": {
            "text/html": [
              "<div>\n",
              "<style scoped>\n",
              "    .dataframe tbody tr th:only-of-type {\n",
              "        vertical-align: middle;\n",
              "    }\n",
              "\n",
              "    .dataframe tbody tr th {\n",
              "        vertical-align: top;\n",
              "    }\n",
              "\n",
              "    .dataframe thead th {\n",
              "        text-align: right;\n",
              "    }\n",
              "</style>\n",
              "<table border=\"1\" class=\"dataframe\">\n",
              "  <thead>\n",
              "    <tr style=\"text-align: right;\">\n",
              "      <th></th>\n",
              "      <th>F1</th>\n",
              "      <th>F2</th>\n",
              "      <th>F3</th>\n",
              "      <th>F4</th>\n",
              "      <th>F6</th>\n",
              "      <th>F7</th>\n",
              "      <th>F8</th>\n",
              "      <th>F9</th>\n",
              "      <th>F10</th>\n",
              "      <th>F11</th>\n",
              "      <th>F12</th>\n",
              "      <th>F13</th>\n",
              "      <th>F14</th>\n",
              "      <th>F15</th>\n",
              "      <th>F16</th>\n",
              "      <th>Target</th>\n",
              "      <th>F5_Europe</th>\n",
              "      <th>F5_Rest</th>\n",
              "      <th>F5_UK</th>\n",
              "      <th>F5_USA</th>\n",
              "    </tr>\n",
              "  </thead>\n",
              "  <tbody>\n",
              "    <tr>\n",
              "      <th>0</th>\n",
              "      <td>-39.32</td>\n",
              "      <td>5.72</td>\n",
              "      <td>-13.83</td>\n",
              "      <td>3</td>\n",
              "      <td>0.03</td>\n",
              "      <td>-200.46</td>\n",
              "      <td>122.09</td>\n",
              "      <td>-2.96</td>\n",
              "      <td>6</td>\n",
              "      <td>2.67</td>\n",
              "      <td>8</td>\n",
              "      <td>607.14</td>\n",
              "      <td>19.19</td>\n",
              "      <td>10523.40</td>\n",
              "      <td>-635.80</td>\n",
              "      <td>1051.99</td>\n",
              "      <td>0</td>\n",
              "      <td>0</td>\n",
              "      <td>1</td>\n",
              "      <td>0</td>\n",
              "    </tr>\n",
              "    <tr>\n",
              "      <th>1</th>\n",
              "      <td>-29.38</td>\n",
              "      <td>8.20</td>\n",
              "      <td>-11.07</td>\n",
              "      <td>2</td>\n",
              "      <td>56.97</td>\n",
              "      <td>-427.78</td>\n",
              "      <td>74.25</td>\n",
              "      <td>-22.94</td>\n",
              "      <td>4</td>\n",
              "      <td>3.84</td>\n",
              "      <td>10</td>\n",
              "      <td>867.03</td>\n",
              "      <td>12.65</td>\n",
              "      <td>10037.04</td>\n",
              "      <td>-469.73</td>\n",
              "      <td>816.64</td>\n",
              "      <td>0</td>\n",
              "      <td>0</td>\n",
              "      <td>1</td>\n",
              "      <td>0</td>\n",
              "    </tr>\n",
              "    <tr>\n",
              "      <th>2</th>\n",
              "      <td>2.46</td>\n",
              "      <td>20.32</td>\n",
              "      <td>-7.59</td>\n",
              "      <td>1</td>\n",
              "      <td>45.00</td>\n",
              "      <td>-329.02</td>\n",
              "      <td>96.98</td>\n",
              "      <td>-10.90</td>\n",
              "      <td>4</td>\n",
              "      <td>13.14</td>\n",
              "      <td>8</td>\n",
              "      <td>-153.66</td>\n",
              "      <td>13.01</td>\n",
              "      <td>15100.28</td>\n",
              "      <td>-662.31</td>\n",
              "      <td>3241.77</td>\n",
              "      <td>0</td>\n",
              "      <td>1</td>\n",
              "      <td>0</td>\n",
              "      <td>0</td>\n",
              "    </tr>\n",
              "    <tr>\n",
              "      <th>3</th>\n",
              "      <td>16.33</td>\n",
              "      <td>2.76</td>\n",
              "      <td>-8.40</td>\n",
              "      <td>3</td>\n",
              "      <td>0.12</td>\n",
              "      <td>-196.88</td>\n",
              "      <td>42.45</td>\n",
              "      <td>-12.16</td>\n",
              "      <td>12</td>\n",
              "      <td>1.29</td>\n",
              "      <td>6</td>\n",
              "      <td>1461.87</td>\n",
              "      <td>9.19</td>\n",
              "      <td>22518.15</td>\n",
              "      <td>-1100.35</td>\n",
              "      <td>0.00</td>\n",
              "      <td>0</td>\n",
              "      <td>1</td>\n",
              "      <td>0</td>\n",
              "      <td>0</td>\n",
              "    </tr>\n",
              "    <tr>\n",
              "      <th>4</th>\n",
              "      <td>-14.93</td>\n",
              "      <td>9.98</td>\n",
              "      <td>-5.28</td>\n",
              "      <td>2</td>\n",
              "      <td>557.61</td>\n",
              "      <td>-249.50</td>\n",
              "      <td>76.25</td>\n",
              "      <td>-20.54</td>\n",
              "      <td>8</td>\n",
              "      <td>2.58</td>\n",
              "      <td>2</td>\n",
              "      <td>-433.89</td>\n",
              "      <td>18.44</td>\n",
              "      <td>20111.46</td>\n",
              "      <td>-752.48</td>\n",
              "      <td>0.00</td>\n",
              "      <td>0</td>\n",
              "      <td>0</td>\n",
              "      <td>0</td>\n",
              "      <td>1</td>\n",
              "    </tr>\n",
              "  </tbody>\n",
              "</table>\n",
              "</div>"
            ],
            "text/plain": [
              "      F1     F2     F3  F4      F6  ...   Target  F5_Europe  F5_Rest  F5_UK  F5_USA\n",
              "0 -39.32   5.72 -13.83   3    0.03  ...  1051.99          0        0      1       0\n",
              "1 -29.38   8.20 -11.07   2   56.97  ...   816.64          0        0      1       0\n",
              "2   2.46  20.32  -7.59   1   45.00  ...  3241.77          0        1      0       0\n",
              "3  16.33   2.76  -8.40   3    0.12  ...     0.00          0        1      0       0\n",
              "4 -14.93   9.98  -5.28   2  557.61  ...     0.00          0        0      0       1\n",
              "\n",
              "[5 rows x 20 columns]"
            ]
          },
          "metadata": {
            "tags": []
          },
          "execution_count": 4
        }
      ]
    },
    {
      "cell_type": "code",
      "metadata": {
        "colab": {
          "base_uri": "https://localhost:8080/",
          "height": 311
        },
        "id": "iwXMOO6MncBU",
        "outputId": "b631fbea-b11a-4bdd-c6f5-5ce7dbc00440"
      },
      "source": [
        "sns.heatmap(df.loc[:,df.columns != 'Target'].corr(), cmap= None)\n",
        "plt.show()"
      ],
      "execution_count": 5,
      "outputs": [
        {
          "output_type": "display_data",
          "data": {
            "image/png": "[encoded data removed]",
            "text/plain": [
              "<Figure size 432x288 with 2 Axes>"
            ]
          },
          "metadata": {
            "tags": [],
            "needs_background": "light"
          }
        }
      ]
    },
    {
      "cell_type": "code",
      "metadata": {
        "colab": {
          "base_uri": "https://localhost:8080/",
          "height": 651
        },
        "id": "8ZYckSl6oruY",
        "outputId": "2786bcf3-101c-4625-d767-a82c1cea8d40"
      },
      "source": [
        "df.loc[:,df.columns != 'Target'].corr()"
      ],
      "execution_count": 6,
      "outputs": [
        {
          "output_type": "execute_result",
          "data": {
            "text/html": [
              "<div>\n",
              "<style scoped>\n",
              "    .dataframe tbody tr th:only-of-type {\n",
              "        vertical-align: middle;\n",
              "    }\n",
              "\n",
              "    .dataframe tbody tr th {\n",
              "        vertical-align: top;\n",
              "    }\n",
              "\n",
              "    .dataframe thead th {\n",
              "        text-align: right;\n",
              "    }\n",
              "</style>\n",
              "<table border=\"1\" class=\"dataframe\">\n",
              "  <thead>\n",
              "    <tr style=\"text-align: right;\">\n",
              "      <th></th>\n",
              "      <th>F1</th>\n",
              "      <th>F2</th>\n",
              "      <th>F3</th>\n",
              "      <th>F4</th>\n",
              "      <th>F6</th>\n",
              "      <th>F7</th>\n",
              "      <th>F8</th>\n",
              "      <th>F9</th>\n",
              "      <th>F10</th>\n",
              "      <th>F11</th>\n",
              "      <th>F12</th>\n",
              "      <th>F13</th>\n",
              "      <th>F14</th>\n",
              "      <th>F15</th>\n",
              "      <th>F16</th>\n",
              "      <th>F5_Europe</th>\n",
              "      <th>F5_Rest</th>\n",
              "      <th>F5_UK</th>\n",
              "      <th>F5_USA</th>\n",
              "    </tr>\n",
              "  </thead>\n",
              "  <tbody>\n",
              "    <tr>\n",
              "      <th>F1</th>\n",
              "      <td>1.000000</td>\n",
              "      <td>0.017902</td>\n",
              "      <td>-0.004979</td>\n",
              "      <td>-0.039604</td>\n",
              "      <td>-0.006548</td>\n",
              "      <td>0.002309</td>\n",
              "      <td>-0.012594</td>\n",
              "      <td>-0.012025</td>\n",
              "      <td>0.064451</td>\n",
              "      <td>-0.050148</td>\n",
              "      <td>-0.000822</td>\n",
              "      <td>0.001042</td>\n",
              "      <td>-0.035125</td>\n",
              "      <td>-0.013438</td>\n",
              "      <td>0.061850</td>\n",
              "      <td>-0.041817</td>\n",
              "      <td>-0.013766</td>\n",
              "      <td>0.002369</td>\n",
              "      <td>0.052827</td>\n",
              "    </tr>\n",
              "    <tr>\n",
              "      <th>F2</th>\n",
              "      <td>0.017902</td>\n",
              "      <td>1.000000</td>\n",
              "      <td>0.018861</td>\n",
              "      <td>-0.002061</td>\n",
              "      <td>0.059413</td>\n",
              "      <td>0.026478</td>\n",
              "      <td>0.046542</td>\n",
              "      <td>0.037862</td>\n",
              "      <td>-0.013474</td>\n",
              "      <td>-0.022325</td>\n",
              "      <td>-0.028201</td>\n",
              "      <td>0.005397</td>\n",
              "      <td>-0.032430</td>\n",
              "      <td>0.060349</td>\n",
              "      <td>0.012850</td>\n",
              "      <td>0.034705</td>\n",
              "      <td>-0.029161</td>\n",
              "      <td>0.014971</td>\n",
              "      <td>-0.018869</td>\n",
              "    </tr>\n",
              "    <tr>\n",
              "      <th>F3</th>\n",
              "      <td>-0.004979</td>\n",
              "      <td>0.018861</td>\n",
              "      <td>1.000000</td>\n",
              "      <td>-0.027149</td>\n",
              "      <td>-0.014330</td>\n",
              "      <td>-0.008484</td>\n",
              "      <td>0.012457</td>\n",
              "      <td>-0.017546</td>\n",
              "      <td>-0.006276</td>\n",
              "      <td>-0.021228</td>\n",
              "      <td>-0.026931</td>\n",
              "      <td>-0.019297</td>\n",
              "      <td>0.025476</td>\n",
              "      <td>-0.042207</td>\n",
              "      <td>0.039825</td>\n",
              "      <td>-0.007620</td>\n",
              "      <td>0.019092</td>\n",
              "      <td>-0.036029</td>\n",
              "      <td>0.023105</td>\n",
              "    </tr>\n",
              "    <tr>\n",
              "      <th>F4</th>\n",
              "      <td>-0.039604</td>\n",
              "      <td>-0.002061</td>\n",
              "      <td>-0.027149</td>\n",
              "      <td>1.000000</td>\n",
              "      <td>-0.021556</td>\n",
              "      <td>-0.004617</td>\n",
              "      <td>0.033328</td>\n",
              "      <td>-0.018912</td>\n",
              "      <td>0.000250</td>\n",
              "      <td>0.028529</td>\n",
              "      <td>0.010806</td>\n",
              "      <td>0.029982</td>\n",
              "      <td>-0.023886</td>\n",
              "      <td>-0.025503</td>\n",
              "      <td>-0.008461</td>\n",
              "      <td>-0.004711</td>\n",
              "      <td>0.032117</td>\n",
              "      <td>-0.016098</td>\n",
              "      <td>-0.012509</td>\n",
              "    </tr>\n",
              "    <tr>\n",
              "      <th>F6</th>\n",
              "      <td>-0.006548</td>\n",
              "      <td>0.059413</td>\n",
              "      <td>-0.014330</td>\n",
              "      <td>-0.021556</td>\n",
              "      <td>1.000000</td>\n",
              "      <td>-0.027544</td>\n",
              "      <td>0.011987</td>\n",
              "      <td>0.032332</td>\n",
              "      <td>-0.013561</td>\n",
              "      <td>-0.005763</td>\n",
              "      <td>0.046442</td>\n",
              "      <td>0.006771</td>\n",
              "      <td>-0.001758</td>\n",
              "      <td>0.066430</td>\n",
              "      <td>-0.040372</td>\n",
              "      <td>0.000054</td>\n",
              "      <td>-0.027263</td>\n",
              "      <td>-0.023508</td>\n",
              "      <td>0.050749</td>\n",
              "    </tr>\n",
              "    <tr>\n",
              "      <th>F7</th>\n",
              "      <td>0.002309</td>\n",
              "      <td>0.026478</td>\n",
              "      <td>-0.008484</td>\n",
              "      <td>-0.004617</td>\n",
              "      <td>-0.027544</td>\n",
              "      <td>1.000000</td>\n",
              "      <td>-0.009240</td>\n",
              "      <td>-0.031183</td>\n",
              "      <td>0.007359</td>\n",
              "      <td>0.014407</td>\n",
              "      <td>0.016949</td>\n",
              "      <td>0.072085</td>\n",
              "      <td>0.006407</td>\n",
              "      <td>-0.012488</td>\n",
              "      <td>0.016704</td>\n",
              "      <td>-0.026325</td>\n",
              "      <td>-0.003016</td>\n",
              "      <td>0.003473</td>\n",
              "      <td>0.025547</td>\n",
              "    </tr>\n",
              "    <tr>\n",
              "      <th>F8</th>\n",
              "      <td>-0.012594</td>\n",
              "      <td>0.046542</td>\n",
              "      <td>0.012457</td>\n",
              "      <td>0.033328</td>\n",
              "      <td>0.011987</td>\n",
              "      <td>-0.009240</td>\n",
              "      <td>1.000000</td>\n",
              "      <td>0.000302</td>\n",
              "      <td>-0.011457</td>\n",
              "      <td>0.000099</td>\n",
              "      <td>-0.018839</td>\n",
              "      <td>0.006295</td>\n",
              "      <td>-0.027557</td>\n",
              "      <td>0.007560</td>\n",
              "      <td>0.051243</td>\n",
              "      <td>0.001553</td>\n",
              "      <td>0.010444</td>\n",
              "      <td>-0.013182</td>\n",
              "      <td>0.000654</td>\n",
              "    </tr>\n",
              "    <tr>\n",
              "      <th>F9</th>\n",
              "      <td>-0.012025</td>\n",
              "      <td>0.037862</td>\n",
              "      <td>-0.017546</td>\n",
              "      <td>-0.018912</td>\n",
              "      <td>0.032332</td>\n",
              "      <td>-0.031183</td>\n",
              "      <td>0.000302</td>\n",
              "      <td>1.000000</td>\n",
              "      <td>-0.004793</td>\n",
              "      <td>0.009609</td>\n",
              "      <td>-0.002310</td>\n",
              "      <td>-0.023763</td>\n",
              "      <td>0.020489</td>\n",
              "      <td>-0.006157</td>\n",
              "      <td>0.004091</td>\n",
              "      <td>-0.033068</td>\n",
              "      <td>-0.007310</td>\n",
              "      <td>-0.029612</td>\n",
              "      <td>0.068829</td>\n",
              "    </tr>\n",
              "    <tr>\n",
              "      <th>F10</th>\n",
              "      <td>0.064451</td>\n",
              "      <td>-0.013474</td>\n",
              "      <td>-0.006276</td>\n",
              "      <td>0.000250</td>\n",
              "      <td>-0.013561</td>\n",
              "      <td>0.007359</td>\n",
              "      <td>-0.011457</td>\n",
              "      <td>-0.004793</td>\n",
              "      <td>1.000000</td>\n",
              "      <td>0.005589</td>\n",
              "      <td>0.006516</td>\n",
              "      <td>-0.013712</td>\n",
              "      <td>-0.049907</td>\n",
              "      <td>0.004620</td>\n",
              "      <td>0.002825</td>\n",
              "      <td>0.046275</td>\n",
              "      <td>-0.025410</td>\n",
              "      <td>-0.005872</td>\n",
              "      <td>-0.013735</td>\n",
              "    </tr>\n",
              "    <tr>\n",
              "      <th>F11</th>\n",
              "      <td>-0.050148</td>\n",
              "      <td>-0.022325</td>\n",
              "      <td>-0.021228</td>\n",
              "      <td>0.028529</td>\n",
              "      <td>-0.005763</td>\n",
              "      <td>0.014407</td>\n",
              "      <td>0.000099</td>\n",
              "      <td>0.009609</td>\n",
              "      <td>0.005589</td>\n",
              "      <td>1.000000</td>\n",
              "      <td>0.003647</td>\n",
              "      <td>-0.001317</td>\n",
              "      <td>-0.036053</td>\n",
              "      <td>-0.007184</td>\n",
              "      <td>0.041882</td>\n",
              "      <td>0.019173</td>\n",
              "      <td>0.026506</td>\n",
              "      <td>-0.010787</td>\n",
              "      <td>-0.035406</td>\n",
              "    </tr>\n",
              "    <tr>\n",
              "      <th>F12</th>\n",
              "      <td>-0.000822</td>\n",
              "      <td>-0.028201</td>\n",
              "      <td>-0.026931</td>\n",
              "      <td>0.010806</td>\n",
              "      <td>0.046442</td>\n",
              "      <td>0.016949</td>\n",
              "      <td>-0.018839</td>\n",
              "      <td>-0.002310</td>\n",
              "      <td>0.006516</td>\n",
              "      <td>0.003647</td>\n",
              "      <td>1.000000</td>\n",
              "      <td>0.014783</td>\n",
              "      <td>-0.022900</td>\n",
              "      <td>0.004651</td>\n",
              "      <td>-0.007670</td>\n",
              "      <td>0.014419</td>\n",
              "      <td>-0.007810</td>\n",
              "      <td>0.006498</td>\n",
              "      <td>-0.012512</td>\n",
              "    </tr>\n",
              "    <tr>\n",
              "      <th>F13</th>\n",
              "      <td>0.001042</td>\n",
              "      <td>0.005397</td>\n",
              "      <td>-0.019297</td>\n",
              "      <td>0.029982</td>\n",
              "      <td>0.006771</td>\n",
              "      <td>0.072085</td>\n",
              "      <td>0.006295</td>\n",
              "      <td>-0.023763</td>\n",
              "      <td>-0.013712</td>\n",
              "      <td>-0.001317</td>\n",
              "      <td>0.014783</td>\n",
              "      <td>1.000000</td>\n",
              "      <td>0.033006</td>\n",
              "      <td>-0.010391</td>\n",
              "      <td>-0.007113</td>\n",
              "      <td>-0.073813</td>\n",
              "      <td>0.023839</td>\n",
              "      <td>0.086596</td>\n",
              "      <td>-0.036352</td>\n",
              "    </tr>\n",
              "    <tr>\n",
              "      <th>F14</th>\n",
              "      <td>-0.035125</td>\n",
              "      <td>-0.032430</td>\n",
              "      <td>0.025476</td>\n",
              "      <td>-0.023886</td>\n",
              "      <td>-0.001758</td>\n",
              "      <td>0.006407</td>\n",
              "      <td>-0.027557</td>\n",
              "      <td>0.020489</td>\n",
              "      <td>-0.049907</td>\n",
              "      <td>-0.036053</td>\n",
              "      <td>-0.022900</td>\n",
              "      <td>0.033006</td>\n",
              "      <td>1.000000</td>\n",
              "      <td>-0.024939</td>\n",
              "      <td>0.000184</td>\n",
              "      <td>-0.017264</td>\n",
              "      <td>0.023098</td>\n",
              "      <td>0.016000</td>\n",
              "      <td>-0.022267</td>\n",
              "    </tr>\n",
              "    <tr>\n",
              "      <th>F15</th>\n",
              "      <td>-0.013438</td>\n",
              "      <td>0.060349</td>\n",
              "      <td>-0.042207</td>\n",
              "      <td>-0.025503</td>\n",
              "      <td>0.066430</td>\n",
              "      <td>-0.012488</td>\n",
              "      <td>0.007560</td>\n",
              "      <td>-0.006157</td>\n",
              "      <td>0.004620</td>\n",
              "      <td>-0.007184</td>\n",
              "      <td>0.004651</td>\n",
              "      <td>-0.010391</td>\n",
              "      <td>-0.024939</td>\n",
              "      <td>1.000000</td>\n",
              "      <td>0.007832</td>\n",
              "      <td>0.007796</td>\n",
              "      <td>0.006720</td>\n",
              "      <td>-0.014913</td>\n",
              "      <td>0.000020</td>\n",
              "    </tr>\n",
              "    <tr>\n",
              "      <th>F16</th>\n",
              "      <td>0.061850</td>\n",
              "      <td>0.012850</td>\n",
              "      <td>0.039825</td>\n",
              "      <td>-0.008461</td>\n",
              "      <td>-0.040372</td>\n",
              "      <td>0.016704</td>\n",
              "      <td>0.051243</td>\n",
              "      <td>0.004091</td>\n",
              "      <td>0.002825</td>\n",
              "      <td>0.041882</td>\n",
              "      <td>-0.007670</td>\n",
              "      <td>-0.007113</td>\n",
              "      <td>0.000184</td>\n",
              "      <td>0.007832</td>\n",
              "      <td>1.000000</td>\n",
              "      <td>0.024447</td>\n",
              "      <td>0.010587</td>\n",
              "      <td>-0.006636</td>\n",
              "      <td>-0.028358</td>\n",
              "    </tr>\n",
              "    <tr>\n",
              "      <th>F5_Europe</th>\n",
              "      <td>-0.041817</td>\n",
              "      <td>0.034705</td>\n",
              "      <td>-0.007620</td>\n",
              "      <td>-0.004711</td>\n",
              "      <td>0.000054</td>\n",
              "      <td>-0.026325</td>\n",
              "      <td>0.001553</td>\n",
              "      <td>-0.033068</td>\n",
              "      <td>0.046275</td>\n",
              "      <td>0.019173</td>\n",
              "      <td>0.014419</td>\n",
              "      <td>-0.073813</td>\n",
              "      <td>-0.017264</td>\n",
              "      <td>0.007796</td>\n",
              "      <td>0.024447</td>\n",
              "      <td>1.000000</td>\n",
              "      <td>-0.342915</td>\n",
              "      <td>-0.311749</td>\n",
              "      <td>-0.327327</td>\n",
              "    </tr>\n",
              "    <tr>\n",
              "      <th>F5_Rest</th>\n",
              "      <td>-0.013766</td>\n",
              "      <td>-0.029161</td>\n",
              "      <td>0.019092</td>\n",
              "      <td>0.032117</td>\n",
              "      <td>-0.027263</td>\n",
              "      <td>-0.003016</td>\n",
              "      <td>0.010444</td>\n",
              "      <td>-0.007310</td>\n",
              "      <td>-0.025410</td>\n",
              "      <td>0.026506</td>\n",
              "      <td>-0.007810</td>\n",
              "      <td>0.023839</td>\n",
              "      <td>0.023098</td>\n",
              "      <td>0.006720</td>\n",
              "      <td>0.010587</td>\n",
              "      <td>-0.342915</td>\n",
              "      <td>1.000000</td>\n",
              "      <td>-0.338527</td>\n",
              "      <td>-0.355443</td>\n",
              "    </tr>\n",
              "    <tr>\n",
              "      <th>F5_UK</th>\n",
              "      <td>0.002369</td>\n",
              "      <td>0.014971</td>\n",
              "      <td>-0.036029</td>\n",
              "      <td>-0.016098</td>\n",
              "      <td>-0.023508</td>\n",
              "      <td>0.003473</td>\n",
              "      <td>-0.013182</td>\n",
              "      <td>-0.029612</td>\n",
              "      <td>-0.005872</td>\n",
              "      <td>-0.010787</td>\n",
              "      <td>0.006498</td>\n",
              "      <td>0.086596</td>\n",
              "      <td>0.016000</td>\n",
              "      <td>-0.014913</td>\n",
              "      <td>-0.006636</td>\n",
              "      <td>-0.311749</td>\n",
              "      <td>-0.338527</td>\n",
              "      <td>1.000000</td>\n",
              "      <td>-0.323138</td>\n",
              "    </tr>\n",
              "    <tr>\n",
              "      <th>F5_USA</th>\n",
              "      <td>0.052827</td>\n",
              "      <td>-0.018869</td>\n",
              "      <td>0.023105</td>\n",
              "      <td>-0.012509</td>\n",
              "      <td>0.050749</td>\n",
              "      <td>0.025547</td>\n",
              "      <td>0.000654</td>\n",
              "      <td>0.068829</td>\n",
              "      <td>-0.013735</td>\n",
              "      <td>-0.035406</td>\n",
              "      <td>-0.012512</td>\n",
              "      <td>-0.036352</td>\n",
              "      <td>-0.022267</td>\n",
              "      <td>0.000020</td>\n",
              "      <td>-0.028358</td>\n",
              "      <td>-0.327327</td>\n",
              "      <td>-0.355443</td>\n",
              "      <td>-0.323138</td>\n",
              "      <td>1.000000</td>\n",
              "    </tr>\n",
              "  </tbody>\n",
              "</table>\n",
              "</div>"
            ],
            "text/plain": [
              "                 F1        F2        F3  ...   F5_Rest     F5_UK    F5_USA\n",
              "F1         1.000000  0.017902 -0.004979  ... -0.013766  0.002369  0.052827\n",
              "F2         0.017902  1.000000  0.018861  ... -0.029161  0.014971 -0.018869\n",
              "F3        -0.004979  0.018861  1.000000  ...  0.019092 -0.036029  0.023105\n",
              "F4        -0.039604 -0.002061 -0.027149  ...  0.032117 -0.016098 -0.012509\n",
              "F6        -0.006548  0.059413 -0.014330  ... -0.027263 -0.023508  0.050749\n",
              "F7         0.002309  0.026478 -0.008484  ... -0.003016  0.003473  0.025547\n",
              "F8        -0.012594  0.046542  0.012457  ...  0.010444 -0.013182  0.000654\n",
              "F9        -0.012025  0.037862 -0.017546  ... -0.007310 -0.029612  0.068829\n",
              "F10        0.064451 -0.013474 -0.006276  ... -0.025410 -0.005872 -0.013735\n",
              "F11       -0.050148 -0.022325 -0.021228  ...  0.026506 -0.010787 -0.035406\n",
              "F12       -0.000822 -0.028201 -0.026931  ... -0.007810  0.006498 -0.012512\n",
              "F13        0.001042  0.005397 -0.019297  ...  0.023839  0.086596 -0.036352\n",
              "F14       -0.035125 -0.032430  0.025476  ...  0.023098  0.016000 -0.022267\n",
              "F15       -0.013438  0.060349 -0.042207  ...  0.006720 -0.014913  0.000020\n",
              "F16        0.061850  0.012850  0.039825  ...  0.010587 -0.006636 -0.028358\n",
              "F5_Europe -0.041817  0.034705 -0.007620  ... -0.342915 -0.311749 -0.327327\n",
              "F5_Rest   -0.013766 -0.029161  0.019092  ...  1.000000 -0.338527 -0.355443\n",
              "F5_UK      0.002369  0.014971 -0.036029  ... -0.338527  1.000000 -0.323138\n",
              "F5_USA     0.052827 -0.018869  0.023105  ... -0.355443 -0.323138  1.000000\n",
              "\n",
              "[19 rows x 19 columns]"
            ]
          },
          "metadata": {
            "tags": []
          },
          "execution_count": 6
        }
      ]
    },
    {
      "cell_type": "code",
      "metadata": {
        "colab": {
          "base_uri": "https://localhost:8080/"
        },
        "id": "uqfitaY7o5Wz",
        "outputId": "768708b0-07c7-4875-d3b4-6c9cccd1c2d3"
      },
      "source": [
        "df.isnull().values.any()"
      ],
      "execution_count": 7,
      "outputs": [
        {
          "output_type": "execute_result",
          "data": {
            "text/plain": [
              "False"
            ]
          },
          "metadata": {
            "tags": []
          },
          "execution_count": 7
        }
      ]
    },
    {
      "cell_type": "code",
      "metadata": {
        "id": "vcxOAl13pWZf"
      },
      "source": [
        "X = df.loc[:,df.columns != 'Target']\n",
        "y = df['Target']\n",
        "\n",
        "X_train, X_test, y_train, y_test = train_test_split(X, y, test_size = 0.25,random_state= 4)"
      ],
      "execution_count": 8,
      "outputs": []
    },
    {
      "cell_type": "code",
      "metadata": {
        "colab": {
          "base_uri": "https://localhost:8080/"
        },
        "id": "F8V4RZUHrbbc",
        "outputId": "44e175e0-fbea-4f06-8758-55c335d9d862"
      },
      "source": [
        "linreg = LinearRegression()\n",
        "parameter = {'fit_intercept' : [True,False], 'normalize' : [True, False]}\n",
        "gridsearch = GridSearchCV(linreg, param_grid= parameter, cv=10, scoring= 'neg_mean_squared_error', n_jobs=1)\n",
        "gridsearch.fit(X,y)\n",
        "print (f\"Mean Squared Error for GridSearch: {gridsearch.best_score_}\")"
      ],
      "execution_count": 9,
      "outputs": [
        {
          "output_type": "stream",
          "text": [
            "Mean Squared Error for GridSearch: -258563.4120809793\n"
          ],
          "name": "stdout"
        }
      ]
    },
    {
      "cell_type": "code",
      "metadata": {
        "colab": {
          "base_uri": "https://localhost:8080/"
        },
        "id": "vVsRYOh3wuJQ",
        "outputId": "20d98e5d-2ed5-4c9b-f37c-63b6d517dc7a"
      },
      "source": [
        "print (f\"Best parmeters for GridSearch: {gridsearch.best_params_}\")"
      ],
      "execution_count": 10,
      "outputs": [
        {
          "output_type": "stream",
          "text": [
            "Best parmeters for GridSearch: {'fit_intercept': False, 'normalize': True}\n"
          ],
          "name": "stdout"
        }
      ]
    },
    {
      "cell_type": "code",
      "metadata": {
        "colab": {
          "base_uri": "https://localhost:8080/"
        },
        "id": "-BmqA4CYw6JA",
        "outputId": "2e45d948-0c75-40c1-ec88-4a10fd6ca66d"
      },
      "source": [
        "gridsearch_pred = gridsearch.predict(X_test)\n",
        "print (f\"Mean Squared Error for test_data: {mean_squared_error(y_test, gridsearch_pred)}\")"
      ],
      "execution_count": 11,
      "outputs": [
        {
          "output_type": "stream",
          "text": [
            "Mean Squared Error for test_data: 251257.80009770085\n"
          ],
          "name": "stdout"
        }
      ]
    },
    {
      "cell_type": "code",
      "metadata": {
        "id": "Bqj_Uibzybuy",
        "outputId": "9373bf50-df8e-4d5b-a2c6-b1dba3435ce0",
        "colab": {
          "base_uri": "https://localhost:8080/",
          "height": 312
        }
      },
      "source": [
        "sns.regplot(x=y_test, y=gridsearch_pred)\n",
        "plt.xlabel('Actual')\n",
        "plt.ylabel('Predicted')\n",
        "plt.title(\"Linear Regression\")"
      ],
      "execution_count": 12,
      "outputs": [
        {
          "output_type": "execute_result",
          "data": {
            "text/plain": [
              "Text(0.5, 1.0, 'Linear Regression')"
            ]
          },
          "metadata": {
            "tags": []
          },
          "execution_count": 12
        },
        {
          "output_type": "display_data",
          "data": {
            "image/png": "[encoded data removed]",
            "text/plain": [
              "<Figure size 432x288 with 1 Axes>"
            ]
          },
          "metadata": {
            "tags": [],
            "needs_background": "light"
          }
        }
      ]
    },
    {
      "cell_type": "code",
      "metadata": {
        "id": "U8-6LsUrGpmu",
        "outputId": "3e88c767-6bba-4203-e548-2577631f2580",
        "colab": {
          "base_uri": "https://localhost:8080/"
        }
      },
      "source": [
        "ridgereg = Ridge()\n",
        "parameter = {'fit_intercept' : [True,False], 'normalize' : [True, False], 'alpha':[0.8, 0.9, 1.0]}\n",
        "gridsearch = GridSearchCV(ridgereg, param_grid= parameter, cv=10, scoring= 'neg_mean_squared_error', n_jobs=1)\n",
        "gridsearch.fit(X,y)\n",
        "print (f\"Mean Squared Error for GridSearch: {gridsearch.best_score_}\")"
      ],
      "execution_count": 13,
      "outputs": [
        {
          "output_type": "stream",
          "text": [
            "Mean Squared Error for GridSearch: -258569.98880794412\n"
          ],
          "name": "stdout"
        }
      ]
    },
    {
      "cell_type": "code",
      "metadata": {
        "id": "T_jyh_cyGrPF",
        "outputId": "c0c321cc-8900-42d3-bc63-545486481632",
        "colab": {
          "base_uri": "https://localhost:8080/"
        }
      },
      "source": [
        "print (f\"Best parmeters for GridSearch: {gridsearch.best_params_}\")"
      ],
      "execution_count": 14,
      "outputs": [
        {
          "output_type": "stream",
          "text": [
            "Best parmeters for GridSearch: {'alpha': 0.8, 'fit_intercept': True, 'normalize': False}\n"
          ],
          "name": "stdout"
        }
      ]
    },
    {
      "cell_type": "code",
      "metadata": {
        "id": "BP5qgnpuGtAf",
        "outputId": "c0ba2528-1f5b-4276-bb0f-dc3c7fd025d1",
        "colab": {
          "base_uri": "https://localhost:8080/"
        }
      },
      "source": [
        "gridsearch_pred = gridsearch.predict(X_test)\n",
        "print (f\"Mean Squared Error for test_data: {mean_squared_error(y_test, gridsearch_pred)}\")"
      ],
      "execution_count": 15,
      "outputs": [
        {
          "output_type": "stream",
          "text": [
            "Mean Squared Error for test_data: 251231.1715000519\n"
          ],
          "name": "stdout"
        }
      ]
    },
    {
      "cell_type": "code",
      "metadata": {
        "id": "IWf4p7rTGuf9",
        "outputId": "2461e704-5d10-4c70-8107-d56723c6d0a6",
        "colab": {
          "base_uri": "https://localhost:8080/",
          "height": 312
        }
      },
      "source": [
        "sns.regplot(x=y_test, y=gridsearch_pred)\n",
        "plt.xlabel('Actual')\n",
        "plt.ylabel('Predicted')\n",
        "plt.title(\"Ridge Regression\")"
      ],
      "execution_count": 16,
      "outputs": [
        {
          "output_type": "execute_result",
          "data": {
            "text/plain": [
              "Text(0.5, 1.0, 'Ridge Regression')"
            ]
          },
          "metadata": {
            "tags": []
          },
          "execution_count": 16
        },
        {
          "output_type": "display_data",
          "data": {
            "image/png": "[encoded data removed]",
            "text/plain": [
              "<Figure size 432x288 with 1 Axes>"
            ]
          },
          "metadata": {
            "tags": [],
            "needs_background": "light"
          }
        }
      ]
    },
    {
      "cell_type": "code",
      "metadata": {
        "id": "UoxiFXX1Hncx",
        "outputId": "65871456-d6aa-4b26-8f94-daff98d55d7d",
        "colab": {
          "base_uri": "https://localhost:8080/"
        }
      },
      "source": [
        "lassoreg = Lasso()\n",
        "parameter = {'fit_intercept' : [True,False], 'normalize' : [True, False], 'alpha':[0.8, 0.9, 1.0], 'precompute':[True, False]}\n",
        "gridsearch = GridSearchCV(lassoreg, param_grid= parameter, cv=10, scoring= 'neg_mean_squared_error', n_jobs=1)\n",
        "gridsearch.fit(X,y)\n",
        "print (f\"Mean Squared Error for GridSearch: {gridsearch.best_score_}\")"
      ],
      "execution_count": 17,
      "outputs": [
        {
          "output_type": "stream",
          "text": [
            "Mean Squared Error for GridSearch: -258556.638633843\n"
          ],
          "name": "stdout"
        }
      ]
    },
    {
      "cell_type": "code",
      "metadata": {
        "id": "UbiSTXF5Hu_U",
        "outputId": "2c0b3b87-a757-4f37-d42a-1a9aae38e2e9",
        "colab": {
          "base_uri": "https://localhost:8080/"
        }
      },
      "source": [
        "print (f\"Best parmeters for GridSearch: {gridsearch.best_params_}\")"
      ],
      "execution_count": 18,
      "outputs": [
        {
          "output_type": "stream",
          "text": [
            "Best parmeters for GridSearch: {'alpha': 0.8, 'fit_intercept': True, 'normalize': False, 'precompute': True}\n"
          ],
          "name": "stdout"
        }
      ]
    },
    {
      "cell_type": "code",
      "metadata": {
        "id": "YAg4aARMHvSb",
        "outputId": "f7a693ee-4271-4e78-8c42-0178b19bdd45",
        "colab": {
          "base_uri": "https://localhost:8080/"
        }
      },
      "source": [
        "gridsearch_pred = gridsearch.predict(X_test)\n",
        "print (f\"Mean Squared Error for test_data: {mean_squared_error(y_test, gridsearch_pred)}\")"
      ],
      "execution_count": 19,
      "outputs": [
        {
          "output_type": "stream",
          "text": [
            "Mean Squared Error for test_data: 251019.26356084942\n"
          ],
          "name": "stdout"
        }
      ]
    },
    {
      "cell_type": "code",
      "metadata": {
        "id": "cfAmjiwvHxz0",
        "outputId": "3dfa3b38-c3db-42b0-da4d-7b45e8e74d66",
        "colab": {
          "base_uri": "https://localhost:8080/",
          "height": 312
        }
      },
      "source": [
        "sns.regplot(x=y_test, y=gridsearch_pred)\n",
        "plt.xlabel('Actual')\n",
        "plt.ylabel('Predicted')\n",
        "plt.title(\"Lasso Regression\")"
      ],
      "execution_count": 20,
      "outputs": [
        {
          "output_type": "execute_result",
          "data": {
            "text/plain": [
              "Text(0.5, 1.0, 'Lasso Regression')"
            ]
          },
          "metadata": {
            "tags": []
          },
          "execution_count": 20
        },
        {
          "output_type": "display_data",
          "data": {
            "image/png": "[encoded data removed]",
            "text/plain": [
              "<Figure size 432x288 with 1 Axes>"
            ]
          },
          "metadata": {
            "tags": [],
            "needs_background": "light"
          }
        }
      ]
    },
    {
      "cell_type": "code",
      "metadata": {
        "id": "fXHSOlkeIQvN"
      },
      "source": [
        "df_test = pd.read_csv('/content/CE802/CE802_P3_Test.csv')"
      ],
      "execution_count": 21,
      "outputs": []
    },
    {
      "cell_type": "code",
      "metadata": {
        "id": "-astwlVvIV4i",
        "outputId": "9b5a416f-f4b8-4ee4-beba-600ba0c4cb74",
        "colab": {
          "base_uri": "https://localhost:8080/",
          "height": 202
        }
      },
      "source": [
        "df_test = pd.get_dummies(df_test, columns=['F5'])\n",
        "replace_map = {'F4': {'Very low':0, 'Low':1, 'Medium':2, 'High':3, 'Very high':4 }}\n",
        "df_test.replace(replace_map, inplace=True)\n",
        "df_test.head()"
      ],
      "execution_count": 22,
      "outputs": [
        {
          "output_type": "execute_result",
          "data": {
            "text/html": [
              "<div>\n",
              "<style scoped>\n",
              "    .dataframe tbody tr th:only-of-type {\n",
              "        vertical-align: middle;\n",
              "    }\n",
              "\n",
              "    .dataframe tbody tr th {\n",
              "        vertical-align: top;\n",
              "    }\n",
              "\n",
              "    .dataframe thead th {\n",
              "        text-align: right;\n",
              "    }\n",
              "</style>\n",
              "<table border=\"1\" class=\"dataframe\">\n",
              "  <thead>\n",
              "    <tr style=\"text-align: right;\">\n",
              "      <th></th>\n",
              "      <th>F1</th>\n",
              "      <th>F2</th>\n",
              "      <th>F3</th>\n",
              "      <th>F4</th>\n",
              "      <th>F6</th>\n",
              "      <th>F7</th>\n",
              "      <th>F8</th>\n",
              "      <th>F9</th>\n",
              "      <th>F10</th>\n",
              "      <th>F11</th>\n",
              "      <th>F12</th>\n",
              "      <th>F13</th>\n",
              "      <th>F14</th>\n",
              "      <th>F15</th>\n",
              "      <th>F16</th>\n",
              "      <th>Target</th>\n",
              "      <th>F5_Europe</th>\n",
              "      <th>F5_Rest</th>\n",
              "      <th>F5_UK</th>\n",
              "      <th>F5_USA</th>\n",
              "    </tr>\n",
              "  </thead>\n",
              "  <tbody>\n",
              "    <tr>\n",
              "      <th>0</th>\n",
              "      <td>-39.37</td>\n",
              "      <td>4.22</td>\n",
              "      <td>-4.05</td>\n",
              "      <td>4</td>\n",
              "      <td>83.43</td>\n",
              "      <td>-209.02</td>\n",
              "      <td>101.94</td>\n",
              "      <td>-17.16</td>\n",
              "      <td>2</td>\n",
              "      <td>7.89</td>\n",
              "      <td>10</td>\n",
              "      <td>2373.57</td>\n",
              "      <td>13.11</td>\n",
              "      <td>30843.16</td>\n",
              "      <td>-962.72</td>\n",
              "      <td>NaN</td>\n",
              "      <td>0</td>\n",
              "      <td>0</td>\n",
              "      <td>1</td>\n",
              "      <td>0</td>\n",
              "    </tr>\n",
              "    <tr>\n",
              "      <th>1</th>\n",
              "      <td>-39.37</td>\n",
              "      <td>7.72</td>\n",
              "      <td>-3.48</td>\n",
              "      <td>0</td>\n",
              "      <td>48.30</td>\n",
              "      <td>86.62</td>\n",
              "      <td>107.56</td>\n",
              "      <td>-11.00</td>\n",
              "      <td>18</td>\n",
              "      <td>1.86</td>\n",
              "      <td>10</td>\n",
              "      <td>1475.76</td>\n",
              "      <td>11.71</td>\n",
              "      <td>15657.13</td>\n",
              "      <td>-305.24</td>\n",
              "      <td>NaN</td>\n",
              "      <td>0</td>\n",
              "      <td>1</td>\n",
              "      <td>0</td>\n",
              "      <td>0</td>\n",
              "    </tr>\n",
              "    <tr>\n",
              "      <th>2</th>\n",
              "      <td>16.25</td>\n",
              "      <td>7.08</td>\n",
              "      <td>-5.31</td>\n",
              "      <td>0</td>\n",
              "      <td>1.98</td>\n",
              "      <td>-267.34</td>\n",
              "      <td>23.33</td>\n",
              "      <td>-14.66</td>\n",
              "      <td>8</td>\n",
              "      <td>25.92</td>\n",
              "      <td>6</td>\n",
              "      <td>192.93</td>\n",
              "      <td>17.60</td>\n",
              "      <td>10765.05</td>\n",
              "      <td>-857.16</td>\n",
              "      <td>NaN</td>\n",
              "      <td>1</td>\n",
              "      <td>0</td>\n",
              "      <td>0</td>\n",
              "      <td>0</td>\n",
              "    </tr>\n",
              "    <tr>\n",
              "      <th>3</th>\n",
              "      <td>23.08</td>\n",
              "      <td>5.82</td>\n",
              "      <td>-5.91</td>\n",
              "      <td>0</td>\n",
              "      <td>11.49</td>\n",
              "      <td>-196.52</td>\n",
              "      <td>115.19</td>\n",
              "      <td>-12.14</td>\n",
              "      <td>2</td>\n",
              "      <td>12.87</td>\n",
              "      <td>0</td>\n",
              "      <td>2779.23</td>\n",
              "      <td>13.59</td>\n",
              "      <td>14778.80</td>\n",
              "      <td>-798.06</td>\n",
              "      <td>NaN</td>\n",
              "      <td>0</td>\n",
              "      <td>0</td>\n",
              "      <td>1</td>\n",
              "      <td>0</td>\n",
              "    </tr>\n",
              "    <tr>\n",
              "      <th>4</th>\n",
              "      <td>-21.30</td>\n",
              "      <td>15.14</td>\n",
              "      <td>-4.02</td>\n",
              "      <td>2</td>\n",
              "      <td>0.60</td>\n",
              "      <td>-80.36</td>\n",
              "      <td>75.42</td>\n",
              "      <td>-8.86</td>\n",
              "      <td>10</td>\n",
              "      <td>4.26</td>\n",
              "      <td>8</td>\n",
              "      <td>-441.42</td>\n",
              "      <td>13.62</td>\n",
              "      <td>16328.25</td>\n",
              "      <td>-832.93</td>\n",
              "      <td>NaN</td>\n",
              "      <td>0</td>\n",
              "      <td>0</td>\n",
              "      <td>0</td>\n",
              "      <td>1</td>\n",
              "    </tr>\n",
              "  </tbody>\n",
              "</table>\n",
              "</div>"
            ],
            "text/plain": [
              "      F1     F2    F3  F4     F6  ...  Target  F5_Europe  F5_Rest  F5_UK  F5_USA\n",
              "0 -39.37   4.22 -4.05   4  83.43  ...     NaN          0        0      1       0\n",
              "1 -39.37   7.72 -3.48   0  48.30  ...     NaN          0        1      0       0\n",
              "2  16.25   7.08 -5.31   0   1.98  ...     NaN          1        0      0       0\n",
              "3  23.08   5.82 -5.91   0  11.49  ...     NaN          0        0      1       0\n",
              "4 -21.30  15.14 -4.02   2   0.60  ...     NaN          0        0      0       1\n",
              "\n",
              "[5 rows x 20 columns]"
            ]
          },
          "metadata": {
            "tags": []
          },
          "execution_count": 22
        }
      ]
    },
    {
      "cell_type": "code",
      "metadata": {
        "id": "SLJiceCcIWxo"
      },
      "source": [
        "df_test['Target'] = gridsearch.predict(df_test.loc[:,df_test.columns != 'Target'])"
      ],
      "execution_count": 23,
      "outputs": []
    },
    {
      "cell_type": "code",
      "metadata": {
        "id": "SlzmJjYKItga"
      },
      "source": [
        "df_test.to_csv('CE802_P3_Test.csv')"
      ],
      "execution_count": 24,
      "outputs": []
    }
  ]
}