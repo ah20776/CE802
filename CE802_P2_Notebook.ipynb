{
  "nbformat": 4,
  "nbformat_minor": 0,
  "metadata": {
    "colab": {
      "name": "CE802_P2_Notebook.ipynb",
      "provenance": [],
      "collapsed_sections": [],
      "authorship_tag": "ABX9TyP//qY594aMliuaf3JWZecU",
      "include_colab_link": true
    },
    "kernelspec": {
      "name": "python3",
      "display_name": "Python 3"
    },
    "language_info": {
      "name": "python"
    }
  },
  "cells": [
    {
      "cell_type": "markdown",
      "metadata": {
        "id": "view-in-github",
        "colab_type": "text"
      },
      "source": [
        "<a href=\"https://colab.research.google.com/github/ah20776/CE802/blob/main/CE802_P2_Notebook.ipynb\" target=\"_parent\"><img src=\"https://colab.research.google.com/assets/colab-badge.svg\" alt=\"Open In Colab\"/></a>"
      ]
    },
    {
      "cell_type": "code",
      "metadata": {
        "id": "OvhH5P21Cg8J"
      },
      "source": [
        "import sys\n",
        "sys.path.append(\"../\")\n",
        "\n",
        "%matplotlib inline\n",
        "import pandas as pd\n",
        "import numpy as np\n",
        "\n",
        "from sklearn.tree import DecisionTreeClassifier\n",
        "from sklearn.model_selection import cross_val_score\n",
        "import matplotlib.pyplot as plt"
      ],
      "execution_count": 1,
      "outputs": []
    },
    {
      "cell_type": "code",
      "metadata": {
        "colab": {
          "base_uri": "https://localhost:8080/"
        },
        "id": "PliLbbceB0-5",
        "outputId": "cc878966-0918-4b05-c6e6-3f3c788d3a04"
      },
      "source": [
        "#Importing dataset saved in github\n",
        "!git clone https://github.com/ah20776/CE802.git"
      ],
      "execution_count": 2,
      "outputs": [
        {
          "output_type": "stream",
          "text": [
            "fatal: destination path 'CE802' already exists and is not an empty directory.\n"
          ],
          "name": "stdout"
        }
      ]
    },
    {
      "cell_type": "code",
      "metadata": {
        "colab": {
          "base_uri": "https://localhost:8080/",
          "height": 220
        },
        "id": "GxkVm2UECO-y",
        "outputId": "7d7f0f60-4045-444c-e1f7-45ab6ccaee51"
      },
      "source": [
        "#load P2 csv data\n",
        "df = pd.read_csv('/content/CE802/CE802_P2_Data.csv')\n",
        "df.head()"
      ],
      "execution_count": 3,
      "outputs": [
        {
          "output_type": "execute_result",
          "data": {
            "text/html": [
              "<div>\n",
              "<style scoped>\n",
              "    .dataframe tbody tr th:only-of-type {\n",
              "        vertical-align: middle;\n",
              "    }\n",
              "\n",
              "    .dataframe tbody tr th {\n",
              "        vertical-align: top;\n",
              "    }\n",
              "\n",
              "    .dataframe thead th {\n",
              "        text-align: right;\n",
              "    }\n",
              "</style>\n",
              "<table border=\"1\" class=\"dataframe\">\n",
              "  <thead>\n",
              "    <tr style=\"text-align: right;\">\n",
              "      <th></th>\n",
              "      <th>F1</th>\n",
              "      <th>F2</th>\n",
              "      <th>F3</th>\n",
              "      <th>F4</th>\n",
              "      <th>F5</th>\n",
              "      <th>F6</th>\n",
              "      <th>F7</th>\n",
              "      <th>F8</th>\n",
              "      <th>F9</th>\n",
              "      <th>F10</th>\n",
              "      <th>F11</th>\n",
              "      <th>F12</th>\n",
              "      <th>F13</th>\n",
              "      <th>F14</th>\n",
              "      <th>F15</th>\n",
              "      <th>Class</th>\n",
              "    </tr>\n",
              "  </thead>\n",
              "  <tbody>\n",
              "    <tr>\n",
              "      <th>0</th>\n",
              "      <td>9.07</td>\n",
              "      <td>34.65</td>\n",
              "      <td>31.22</td>\n",
              "      <td>-10.71</td>\n",
              "      <td>55</td>\n",
              "      <td>39.45</td>\n",
              "      <td>-1.68</td>\n",
              "      <td>-5.98</td>\n",
              "      <td>3.72</td>\n",
              "      <td>20</td>\n",
              "      <td>16.23</td>\n",
              "      <td>-241.52</td>\n",
              "      <td>-7.54</td>\n",
              "      <td>13.70</td>\n",
              "      <td>-6.41</td>\n",
              "      <td>False</td>\n",
              "    </tr>\n",
              "    <tr>\n",
              "      <th>1</th>\n",
              "      <td>6.86</td>\n",
              "      <td>99.65</td>\n",
              "      <td>31.22</td>\n",
              "      <td>-11.41</td>\n",
              "      <td>50</td>\n",
              "      <td>30.45</td>\n",
              "      <td>5.55</td>\n",
              "      <td>-8.42</td>\n",
              "      <td>7.11</td>\n",
              "      <td>20</td>\n",
              "      <td>28.47</td>\n",
              "      <td>-421.52</td>\n",
              "      <td>-8.10</td>\n",
              "      <td>14.50</td>\n",
              "      <td>NaN</td>\n",
              "      <td>False</td>\n",
              "    </tr>\n",
              "    <tr>\n",
              "      <th>2</th>\n",
              "      <td>10.87</td>\n",
              "      <td>21.65</td>\n",
              "      <td>25.22</td>\n",
              "      <td>-5.98</td>\n",
              "      <td>12</td>\n",
              "      <td>2.91</td>\n",
              "      <td>9.81</td>\n",
              "      <td>-0.36</td>\n",
              "      <td>-12.66</td>\n",
              "      <td>2</td>\n",
              "      <td>30.87</td>\n",
              "      <td>-254.52</td>\n",
              "      <td>0.24</td>\n",
              "      <td>0.40</td>\n",
              "      <td>NaN</td>\n",
              "      <td>False</td>\n",
              "    </tr>\n",
              "    <tr>\n",
              "      <th>3</th>\n",
              "      <td>11.27</td>\n",
              "      <td>13.65</td>\n",
              "      <td>25.22</td>\n",
              "      <td>-6.18</td>\n",
              "      <td>33</td>\n",
              "      <td>1.77</td>\n",
              "      <td>1.92</td>\n",
              "      <td>1.84</td>\n",
              "      <td>-2.49</td>\n",
              "      <td>2</td>\n",
              "      <td>27.99</td>\n",
              "      <td>-234.52</td>\n",
              "      <td>0.20</td>\n",
              "      <td>0.30</td>\n",
              "      <td>NaN</td>\n",
              "      <td>False</td>\n",
              "    </tr>\n",
              "    <tr>\n",
              "      <th>4</th>\n",
              "      <td>10.19</td>\n",
              "      <td>27.65</td>\n",
              "      <td>29.22</td>\n",
              "      <td>-6.21</td>\n",
              "      <td>30</td>\n",
              "      <td>4.47</td>\n",
              "      <td>1.35</td>\n",
              "      <td>-0.50</td>\n",
              "      <td>-8.19</td>\n",
              "      <td>2</td>\n",
              "      <td>27.63</td>\n",
              "      <td>-266.52</td>\n",
              "      <td>0.44</td>\n",
              "      <td>1.76</td>\n",
              "      <td>NaN</td>\n",
              "      <td>True</td>\n",
              "    </tr>\n",
              "  </tbody>\n",
              "</table>\n",
              "</div>"
            ],
            "text/plain": [
              "      F1     F2     F3     F4  F5  ...     F12   F13    F14   F15  Class\n",
              "0   9.07  34.65  31.22 -10.71  55  ... -241.52 -7.54  13.70 -6.41  False\n",
              "1   6.86  99.65  31.22 -11.41  50  ... -421.52 -8.10  14.50   NaN  False\n",
              "2  10.87  21.65  25.22  -5.98  12  ... -254.52  0.24   0.40   NaN  False\n",
              "3  11.27  13.65  25.22  -6.18  33  ... -234.52  0.20   0.30   NaN  False\n",
              "4  10.19  27.65  29.22  -6.21  30  ... -266.52  0.44   1.76   NaN   True\n",
              "\n",
              "[5 rows x 16 columns]"
            ]
          },
          "metadata": {
            "tags": []
          },
          "execution_count": 3
        }
      ]
    },
    {
      "cell_type": "code",
      "metadata": {
        "colab": {
          "base_uri": "https://localhost:8080/"
        },
        "id": "EEbFUrTLCkYN",
        "outputId": "8161561a-6acb-460e-923e-33a86f9b6f6b"
      },
      "source": [
        "df.info()"
      ],
      "execution_count": 4,
      "outputs": [
        {
          "output_type": "stream",
          "text": [
            "<class 'pandas.core.frame.DataFrame'>\n",
            "RangeIndex: 1500 entries, 0 to 1499\n",
            "Data columns (total 16 columns):\n",
            " #   Column  Non-Null Count  Dtype  \n",
            "---  ------  --------------  -----  \n",
            " 0   F1      1500 non-null   float64\n",
            " 1   F2      1500 non-null   float64\n",
            " 2   F3      1500 non-null   float64\n",
            " 3   F4      1500 non-null   float64\n",
            " 4   F5      1500 non-null   int64  \n",
            " 5   F6      1500 non-null   float64\n",
            " 6   F7      1500 non-null   float64\n",
            " 7   F8      1500 non-null   float64\n",
            " 8   F9      1500 non-null   float64\n",
            " 9   F10     1500 non-null   int64  \n",
            " 10  F11     1500 non-null   float64\n",
            " 11  F12     1500 non-null   float64\n",
            " 12  F13     1500 non-null   float64\n",
            " 13  F14     1500 non-null   float64\n",
            " 14  F15     750 non-null    float64\n",
            " 15  Class   1500 non-null   bool   \n",
            "dtypes: bool(1), float64(13), int64(2)\n",
            "memory usage: 177.4 KB\n"
          ],
          "name": "stdout"
        }
      ]
    },
    {
      "cell_type": "code",
      "metadata": {
        "colab": {
          "base_uri": "https://localhost:8080/",
          "height": 310
        },
        "id": "qov0-1BHDBOn",
        "outputId": "dce1e7ed-c3ca-47df-e015-3b5a291246b0"
      },
      "source": [
        "data = df.dropna()\n",
        "data = data.reset_index(drop=True)\n",
        "data.describe()"
      ],
      "execution_count": 5,
      "outputs": [
        {
          "output_type": "execute_result",
          "data": {
            "text/html": [
              "<div>\n",
              "<style scoped>\n",
              "    .dataframe tbody tr th:only-of-type {\n",
              "        vertical-align: middle;\n",
              "    }\n",
              "\n",
              "    .dataframe tbody tr th {\n",
              "        vertical-align: top;\n",
              "    }\n",
              "\n",
              "    .dataframe thead th {\n",
              "        text-align: right;\n",
              "    }\n",
              "</style>\n",
              "<table border=\"1\" class=\"dataframe\">\n",
              "  <thead>\n",
              "    <tr style=\"text-align: right;\">\n",
              "      <th></th>\n",
              "      <th>F1</th>\n",
              "      <th>F2</th>\n",
              "      <th>F3</th>\n",
              "      <th>F4</th>\n",
              "      <th>F5</th>\n",
              "      <th>F6</th>\n",
              "      <th>F7</th>\n",
              "      <th>F8</th>\n",
              "      <th>F9</th>\n",
              "      <th>F10</th>\n",
              "      <th>F11</th>\n",
              "      <th>F12</th>\n",
              "      <th>F13</th>\n",
              "      <th>F14</th>\n",
              "      <th>F15</th>\n",
              "    </tr>\n",
              "  </thead>\n",
              "  <tbody>\n",
              "    <tr>\n",
              "      <th>count</th>\n",
              "      <td>750.000000</td>\n",
              "      <td>750.000000</td>\n",
              "      <td>750.000000</td>\n",
              "      <td>750.000000</td>\n",
              "      <td>750.000000</td>\n",
              "      <td>750.000000</td>\n",
              "      <td>750.000000</td>\n",
              "      <td>750.000000</td>\n",
              "      <td>750.000000</td>\n",
              "      <td>750.000000</td>\n",
              "      <td>750.000000</td>\n",
              "      <td>750.000000</td>\n",
              "      <td>750.000000</td>\n",
              "      <td>750.000000</td>\n",
              "      <td>750.000000</td>\n",
              "    </tr>\n",
              "    <tr>\n",
              "      <th>mean</th>\n",
              "      <td>9.018373</td>\n",
              "      <td>34.366000</td>\n",
              "      <td>36.985333</td>\n",
              "      <td>-9.104067</td>\n",
              "      <td>112.012000</td>\n",
              "      <td>15.333520</td>\n",
              "      <td>2.578080</td>\n",
              "      <td>-3.777760</td>\n",
              "      <td>1.023760</td>\n",
              "      <td>11.280000</td>\n",
              "      <td>24.108480</td>\n",
              "      <td>-303.842667</td>\n",
              "      <td>-3.874107</td>\n",
              "      <td>8.051253</td>\n",
              "      <td>-7.663013</td>\n",
              "    </tr>\n",
              "    <tr>\n",
              "      <th>std</th>\n",
              "      <td>2.514890</td>\n",
              "      <td>40.857245</td>\n",
              "      <td>14.212140</td>\n",
              "      <td>3.163011</td>\n",
              "      <td>118.027949</td>\n",
              "      <td>13.030635</td>\n",
              "      <td>3.318315</td>\n",
              "      <td>4.948743</td>\n",
              "      <td>7.448935</td>\n",
              "      <td>9.022387</td>\n",
              "      <td>7.535624</td>\n",
              "      <td>70.741542</td>\n",
              "      <td>5.092857</td>\n",
              "      <td>6.947930</td>\n",
              "      <td>1.005117</td>\n",
              "    </tr>\n",
              "    <tr>\n",
              "      <th>min</th>\n",
              "      <td>4.750000</td>\n",
              "      <td>-80.350000</td>\n",
              "      <td>19.220000</td>\n",
              "      <td>-15.410000</td>\n",
              "      <td>0.000000</td>\n",
              "      <td>0.000000</td>\n",
              "      <td>-4.230000</td>\n",
              "      <td>-12.520000</td>\n",
              "      <td>-21.240000</td>\n",
              "      <td>0.000000</td>\n",
              "      <td>10.500000</td>\n",
              "      <td>-461.520000</td>\n",
              "      <td>-12.640000</td>\n",
              "      <td>0.000000</td>\n",
              "      <td>-10.020000</td>\n",
              "    </tr>\n",
              "    <tr>\n",
              "      <th>25%</th>\n",
              "      <td>6.640000</td>\n",
              "      <td>14.650000</td>\n",
              "      <td>25.220000</td>\n",
              "      <td>-11.810000</td>\n",
              "      <td>16.000000</td>\n",
              "      <td>3.577500</td>\n",
              "      <td>0.630000</td>\n",
              "      <td>-8.300000</td>\n",
              "      <td>-4.980000</td>\n",
              "      <td>2.000000</td>\n",
              "      <td>16.920000</td>\n",
              "      <td>-366.520000</td>\n",
              "      <td>-8.650000</td>\n",
              "      <td>1.240000</td>\n",
              "      <td>-8.410000</td>\n",
              "    </tr>\n",
              "    <tr>\n",
              "      <th>50%</th>\n",
              "      <td>9.705000</td>\n",
              "      <td>28.650000</td>\n",
              "      <td>31.220000</td>\n",
              "      <td>-10.335000</td>\n",
              "      <td>54.000000</td>\n",
              "      <td>15.750000</td>\n",
              "      <td>2.160000</td>\n",
              "      <td>-2.790000</td>\n",
              "      <td>-0.825000</td>\n",
              "      <td>20.000000</td>\n",
              "      <td>25.965000</td>\n",
              "      <td>-267.520000</td>\n",
              "      <td>-2.610000</td>\n",
              "      <td>10.300000</td>\n",
              "      <td>-7.670000</td>\n",
              "    </tr>\n",
              "    <tr>\n",
              "      <th>75%</th>\n",
              "      <td>10.940000</td>\n",
              "      <td>49.650000</td>\n",
              "      <td>51.220000</td>\n",
              "      <td>-6.010000</td>\n",
              "      <td>200.000000</td>\n",
              "      <td>24.600000</td>\n",
              "      <td>4.312500</td>\n",
              "      <td>0.060000</td>\n",
              "      <td>8.130000</td>\n",
              "      <td>20.000000</td>\n",
              "      <td>29.880000</td>\n",
              "      <td>-246.520000</td>\n",
              "      <td>-0.145000</td>\n",
              "      <td>14.300000</td>\n",
              "      <td>-6.942500</td>\n",
              "    </tr>\n",
              "    <tr>\n",
              "      <th>max</th>\n",
              "      <td>16.800000</td>\n",
              "      <td>124.650000</td>\n",
              "      <td>71.220000</td>\n",
              "      <td>-5.260000</td>\n",
              "      <td>390.000000</td>\n",
              "      <td>47.100000</td>\n",
              "      <td>14.610000</td>\n",
              "      <td>10.640000</td>\n",
              "      <td>13.710000</td>\n",
              "      <td>20.000000</td>\n",
              "      <td>50.130000</td>\n",
              "      <td>-221.520000</td>\n",
              "      <td>12.580000</td>\n",
              "      <td>20.700000</td>\n",
              "      <td>-4.940000</td>\n",
              "    </tr>\n",
              "  </tbody>\n",
              "</table>\n",
              "</div>"
            ],
            "text/plain": [
              "               F1          F2          F3  ...         F13         F14         F15\n",
              "count  750.000000  750.000000  750.000000  ...  750.000000  750.000000  750.000000\n",
              "mean     9.018373   34.366000   36.985333  ...   -3.874107    8.051253   -7.663013\n",
              "std      2.514890   40.857245   14.212140  ...    5.092857    6.947930    1.005117\n",
              "min      4.750000  -80.350000   19.220000  ...  -12.640000    0.000000  -10.020000\n",
              "25%      6.640000   14.650000   25.220000  ...   -8.650000    1.240000   -8.410000\n",
              "50%      9.705000   28.650000   31.220000  ...   -2.610000   10.300000   -7.670000\n",
              "75%     10.940000   49.650000   51.220000  ...   -0.145000   14.300000   -6.942500\n",
              "max     16.800000  124.650000   71.220000  ...   12.580000   20.700000   -4.940000\n",
              "\n",
              "[8 rows x 15 columns]"
            ]
          },
          "metadata": {
            "tags": []
          },
          "execution_count": 5
        }
      ]
    },
    {
      "cell_type": "code",
      "metadata": {
        "colab": {
          "base_uri": "https://localhost:8080/"
        },
        "id": "HJdu8Ik2ETVN",
        "outputId": "379c1be2-cc47-4a6a-8b0f-07f2ae873bca"
      },
      "source": [
        "data.info()"
      ],
      "execution_count": 6,
      "outputs": [
        {
          "output_type": "stream",
          "text": [
            "<class 'pandas.core.frame.DataFrame'>\n",
            "RangeIndex: 750 entries, 0 to 749\n",
            "Data columns (total 16 columns):\n",
            " #   Column  Non-Null Count  Dtype  \n",
            "---  ------  --------------  -----  \n",
            " 0   F1      750 non-null    float64\n",
            " 1   F2      750 non-null    float64\n",
            " 2   F3      750 non-null    float64\n",
            " 3   F4      750 non-null    float64\n",
            " 4   F5      750 non-null    int64  \n",
            " 5   F6      750 non-null    float64\n",
            " 6   F7      750 non-null    float64\n",
            " 7   F8      750 non-null    float64\n",
            " 8   F9      750 non-null    float64\n",
            " 9   F10     750 non-null    int64  \n",
            " 10  F11     750 non-null    float64\n",
            " 11  F12     750 non-null    float64\n",
            " 12  F13     750 non-null    float64\n",
            " 13  F14     750 non-null    float64\n",
            " 14  F15     750 non-null    float64\n",
            " 15  Class   750 non-null    bool   \n",
            "dtypes: bool(1), float64(13), int64(2)\n",
            "memory usage: 88.7 KB\n"
          ],
          "name": "stdout"
        }
      ]
    },
    {
      "cell_type": "code",
      "metadata": {
        "colab": {
          "base_uri": "https://localhost:8080/",
          "height": 486
        },
        "id": "hCdiwhQJEZJ5",
        "outputId": "de5d970e-746f-4599-e147-232da201453a"
      },
      "source": [
        "#finding feature importance after dropping NaN\n",
        "from yellowbrick.features import FeatureImportances\n",
        "\n",
        "X = data[['F1','F2','F3','F4','F5','F6','F7','F8','F9','F10','F11','F12','F13','F14','F15']]\n",
        "y = data.Class\n",
        "\n",
        "Dclf = DecisionTreeClassifier()\n",
        "Fimp = FeatureImportances(Dclf)\n",
        "Fimp.fit(X,y)\n",
        "Fimp.poof()"
      ],
      "execution_count": 7,
      "outputs": [
        {
          "output_type": "stream",
          "text": [
            "/usr/local/lib/python3.7/dist-packages/sklearn/utils/deprecation.py:144: FutureWarning: The sklearn.metrics.classification module is  deprecated in version 0.22 and will be removed in version 0.24. The corresponding classes / functions should instead be imported from sklearn.metrics. Anything that cannot be imported from sklearn.metrics is now part of the private API.\n",
            "  warnings.warn(message, FutureWarning)\n",
            "/usr/local/lib/python3.7/dist-packages/sklearn/base.py:197: FutureWarning: From version 0.24, get_params will raise an AttributeError if a parameter cannot be retrieved as an instance attribute. Previously it would return None.\n",
            "  FutureWarning)\n"
          ],
          "name": "stderr"
        },
        {
          "output_type": "display_data",
          "data": {
            "image/png": "[encoded data removed]",
            "text/plain": [
              "<Figure size 576x396 with 1 Axes>"
            ]
          },
          "metadata": {
            "tags": []
          }
        }
      ]
    },
    {
      "cell_type": "markdown",
      "metadata": {
        "id": "Cb96ElmhG9Gr"
      },
      "source": [
        "***DATA VISUALIZATION***"
      ]
    },
    {
      "cell_type": "code",
      "metadata": {
        "colab": {
          "base_uri": "https://localhost:8080/"
        },
        "id": "FwDiE9R8G_oQ",
        "outputId": "2ada2005-138a-4f12-daf3-12e09b9a5985"
      },
      "source": [
        "data['Class'].value_counts()"
      ],
      "execution_count": 8,
      "outputs": [
        {
          "output_type": "execute_result",
          "data": {
            "text/plain": [
              "False    406\n",
              "True     344\n",
              "Name: Class, dtype: int64"
            ]
          },
          "metadata": {
            "tags": []
          },
          "execution_count": 8
        }
      ]
    },
    {
      "cell_type": "code",
      "metadata": {
        "colab": {
          "base_uri": "https://localhost:8080/",
          "height": 521
        },
        "id": "CjNjGPwWHhnY",
        "outputId": "1186f5ca-3536-4d95-e2c9-6d2d79b6cd5e"
      },
      "source": [
        "data['Class'].value_counts().plot.bar(title='Buyer Classification (CHEAP vs EXPENSIVE)',figsize=(15,10));"
      ],
      "execution_count": 9,
      "outputs": [
        {
          "output_type": "display_data",
          "data": {
            "image/png": "[encoded data removed]",
            "text/plain": [
              "<Figure size 1080x720 with 1 Axes>"
            ]
          },
          "metadata": {
            "tags": []
          }
        }
      ]
    },
    {
      "cell_type": "markdown",
      "metadata": {
        "id": "Vw6yG3EfOthm"
      },
      "source": [
        "***CROSS-VALIDATION AND ACCURACY***"
      ]
    },
    {
      "cell_type": "code",
      "metadata": {
        "id": "FhJ4l7uKOyb9"
      },
      "source": [
        "# fitting trees of various depths on the training data using cross-validation\n",
        "def cross_validation_on_trees(X, y, tree_depths, cv=10, scoring='accuracy'):\n",
        "    cv_scores_list = []\n",
        "    cv_scores_std = []\n",
        "    cv_scores_mean = []\n",
        "    accuracy_scores = []\n",
        "    for depth in tree_depths:\n",
        "        DTmodel = DecisionTreeClassifier(max_depth=depth)\n",
        "        cv_scores = cross_val_score(DTmodel, X, y, cv=cv, scoring=scoring)\n",
        "        cv_scores_list.append(cv_scores)\n",
        "        cv_scores_mean.append(cv_scores.mean())\n",
        "        cv_scores_std.append(cv_scores.std())\n",
        "        accuracy_scores.append(DTmodel.fit(X, y).score(X, y))\n",
        "    cv_scores_mean = np.array(cv_scores_mean)\n",
        "    cv_scores_std = np.array(cv_scores_std)\n",
        "    accuracy_scores = np.array(accuracy_scores)\n",
        "    return cv_scores_mean, cv_scores_std, accuracy_scores\n",
        "  \n",
        "# plotting cross-validation results\n",
        "def plot_trees(depths, cv_scores_mean, cv_scores_std, accuracy_scores, title):\n",
        "    fig, ax = plt.subplots(1,1, figsize=(15,5))\n",
        "    ax.plot(depths, cv_scores_mean, '-o', label='mean cross-validation accuracy', alpha=0.9)\n",
        "    ax.fill_between(depths, cv_scores_mean-2*cv_scores_std, cv_scores_mean+2*cv_scores_std, alpha=0.2)\n",
        "    ylim = plt.ylim()\n",
        "    ax.plot(depths, accuracy_scores, '-*', label='train accuracy', alpha=0.9)\n",
        "    ax.set_title(title, fontsize=16)\n",
        "    ax.set_xlabel('Tree depth', fontsize=14)\n",
        "    ax.set_ylabel('Accuracy', fontsize=14)\n",
        "    ax.set_ylim(ylim)\n",
        "    ax.set_xticks(depths)\n",
        "    ax.legend()"
      ],
      "execution_count": 10,
      "outputs": []
    },
    {
      "cell_type": "code",
      "metadata": {
        "colab": {
          "base_uri": "https://localhost:8080/",
          "height": 293
        },
        "id": "y_wjRzZvSOyU",
        "outputId": "156c4923-3f02-499d-9440-71aa9ef1d4c4"
      },
      "source": [
        "\n",
        "#remove F15\n",
        "\n",
        "X = data[['F1','F2','F3','F4','F5','F6','F7','F8','F9','F10','F11','F12','F13','F14']]\n",
        "y = data.Class\n",
        "\n",
        "# fitting trees\n",
        "sm_tree_depths = range(1,25)\n",
        "sm_cv_scores_mean, sm_cv_scores_std, sm_accuracy_scores = cross_validation_on_trees(X, y, sm_tree_depths, cv=10)\n",
        "\n",
        "# accuracy\n",
        "plot_trees(sm_tree_depths, sm_cv_scores_mean, sm_cv_scores_std, sm_accuracy_scores, \n",
        "                               'Accuracy per decision tree depth')"
      ],
      "execution_count": 11,
      "outputs": [
        {
          "output_type": "display_data",
          "data": {
            "image/png": "[encoded data removed]",
            "text/plain": [
              "<Figure size 1080x360 with 1 Axes>"
            ]
          },
          "metadata": {
            "tags": []
          }
        }
      ]
    },
    {
      "cell_type": "code",
      "metadata": {
        "colab": {
          "base_uri": "https://localhost:8080/",
          "height": 291
        },
        "id": "g5iAPcZkU56A",
        "outputId": "8b2bb40a-3b65-4eb0-b36e-24046a62878a"
      },
      "source": [
        "# removing missing values\n",
        "data1 = data.dropna()\n",
        "\n",
        "X = data1.drop(['Class'], axis=1)\n",
        "y = data1.Class\n",
        "\n",
        "# fitting trees\n",
        "sm_tree_depths = range(1,25)\n",
        "sm_cv_scores_mean, sm_cv_scores_std, sm_accuracy_scores = cross_validation_on_trees(X, y, sm_tree_depths, cv=10)\n",
        "\n",
        "# accuracy\n",
        "plot_trees(sm_tree_depths, sm_cv_scores_mean, sm_cv_scores_std, sm_accuracy_scores, \n",
        "                               'Accuracy per decision tree depth (without NaN in training data)')"
      ],
      "execution_count": 12,
      "outputs": [
        {
          "output_type": "display_data",
          "data": {
            "image/png": "[encoded data removed]",
            "text/plain": [
              "<Figure size 1080x360 with 1 Axes>"
            ]
          },
          "metadata": {
            "tags": []
          }
        }
      ]
    },
    {
      "cell_type": "code",
      "metadata": {
        "colab": {
          "base_uri": "https://localhost:8080/",
          "height": 220
        },
        "id": "SLVzOmimWQGQ",
        "outputId": "ded9201b-9f7a-4228-efc2-1cb297b00de4"
      },
      "source": [
        "# imputation of F15 with mean values\n",
        "\n",
        "from sklearn.impute import SimpleImputer\n",
        "imputer = SimpleImputer(missing_values=np.NaN, strategy='mean')\n",
        "\n",
        "data2 = df\n",
        "\n",
        "data2.F15 = imputer.fit_transform(data2['F15'].values.reshape(-1,1))[:,0]\n",
        "\n",
        "data2.head()"
      ],
      "execution_count": 13,
      "outputs": [
        {
          "output_type": "execute_result",
          "data": {
            "text/html": [
              "<div>\n",
              "<style scoped>\n",
              "    .dataframe tbody tr th:only-of-type {\n",
              "        vertical-align: middle;\n",
              "    }\n",
              "\n",
              "    .dataframe tbody tr th {\n",
              "        vertical-align: top;\n",
              "    }\n",
              "\n",
              "    .dataframe thead th {\n",
              "        text-align: right;\n",
              "    }\n",
              "</style>\n",
              "<table border=\"1\" class=\"dataframe\">\n",
              "  <thead>\n",
              "    <tr style=\"text-align: right;\">\n",
              "      <th></th>\n",
              "      <th>F1</th>\n",
              "      <th>F2</th>\n",
              "      <th>F3</th>\n",
              "      <th>F4</th>\n",
              "      <th>F5</th>\n",
              "      <th>F6</th>\n",
              "      <th>F7</th>\n",
              "      <th>F8</th>\n",
              "      <th>F9</th>\n",
              "      <th>F10</th>\n",
              "      <th>F11</th>\n",
              "      <th>F12</th>\n",
              "      <th>F13</th>\n",
              "      <th>F14</th>\n",
              "      <th>F15</th>\n",
              "      <th>Class</th>\n",
              "    </tr>\n",
              "  </thead>\n",
              "  <tbody>\n",
              "    <tr>\n",
              "      <th>0</th>\n",
              "      <td>9.07</td>\n",
              "      <td>34.65</td>\n",
              "      <td>31.22</td>\n",
              "      <td>-10.71</td>\n",
              "      <td>55</td>\n",
              "      <td>39.45</td>\n",
              "      <td>-1.68</td>\n",
              "      <td>-5.98</td>\n",
              "      <td>3.72</td>\n",
              "      <td>20</td>\n",
              "      <td>16.23</td>\n",
              "      <td>-241.52</td>\n",
              "      <td>-7.54</td>\n",
              "      <td>13.70</td>\n",
              "      <td>-6.410000</td>\n",
              "      <td>False</td>\n",
              "    </tr>\n",
              "    <tr>\n",
              "      <th>1</th>\n",
              "      <td>6.86</td>\n",
              "      <td>99.65</td>\n",
              "      <td>31.22</td>\n",
              "      <td>-11.41</td>\n",
              "      <td>50</td>\n",
              "      <td>30.45</td>\n",
              "      <td>5.55</td>\n",
              "      <td>-8.42</td>\n",
              "      <td>7.11</td>\n",
              "      <td>20</td>\n",
              "      <td>28.47</td>\n",
              "      <td>-421.52</td>\n",
              "      <td>-8.10</td>\n",
              "      <td>14.50</td>\n",
              "      <td>-7.663013</td>\n",
              "      <td>False</td>\n",
              "    </tr>\n",
              "    <tr>\n",
              "      <th>2</th>\n",
              "      <td>10.87</td>\n",
              "      <td>21.65</td>\n",
              "      <td>25.22</td>\n",
              "      <td>-5.98</td>\n",
              "      <td>12</td>\n",
              "      <td>2.91</td>\n",
              "      <td>9.81</td>\n",
              "      <td>-0.36</td>\n",
              "      <td>-12.66</td>\n",
              "      <td>2</td>\n",
              "      <td>30.87</td>\n",
              "      <td>-254.52</td>\n",
              "      <td>0.24</td>\n",
              "      <td>0.40</td>\n",
              "      <td>-7.663013</td>\n",
              "      <td>False</td>\n",
              "    </tr>\n",
              "    <tr>\n",
              "      <th>3</th>\n",
              "      <td>11.27</td>\n",
              "      <td>13.65</td>\n",
              "      <td>25.22</td>\n",
              "      <td>-6.18</td>\n",
              "      <td>33</td>\n",
              "      <td>1.77</td>\n",
              "      <td>1.92</td>\n",
              "      <td>1.84</td>\n",
              "      <td>-2.49</td>\n",
              "      <td>2</td>\n",
              "      <td>27.99</td>\n",
              "      <td>-234.52</td>\n",
              "      <td>0.20</td>\n",
              "      <td>0.30</td>\n",
              "      <td>-7.663013</td>\n",
              "      <td>False</td>\n",
              "    </tr>\n",
              "    <tr>\n",
              "      <th>4</th>\n",
              "      <td>10.19</td>\n",
              "      <td>27.65</td>\n",
              "      <td>29.22</td>\n",
              "      <td>-6.21</td>\n",
              "      <td>30</td>\n",
              "      <td>4.47</td>\n",
              "      <td>1.35</td>\n",
              "      <td>-0.50</td>\n",
              "      <td>-8.19</td>\n",
              "      <td>2</td>\n",
              "      <td>27.63</td>\n",
              "      <td>-266.52</td>\n",
              "      <td>0.44</td>\n",
              "      <td>1.76</td>\n",
              "      <td>-7.663013</td>\n",
              "      <td>True</td>\n",
              "    </tr>\n",
              "  </tbody>\n",
              "</table>\n",
              "</div>"
            ],
            "text/plain": [
              "      F1     F2     F3     F4  F5  ...     F12   F13    F14       F15  Class\n",
              "0   9.07  34.65  31.22 -10.71  55  ... -241.52 -7.54  13.70 -6.410000  False\n",
              "1   6.86  99.65  31.22 -11.41  50  ... -421.52 -8.10  14.50 -7.663013  False\n",
              "2  10.87  21.65  25.22  -5.98  12  ... -254.52  0.24   0.40 -7.663013  False\n",
              "3  11.27  13.65  25.22  -6.18  33  ... -234.52  0.20   0.30 -7.663013  False\n",
              "4  10.19  27.65  29.22  -6.21  30  ... -266.52  0.44   1.76 -7.663013   True\n",
              "\n",
              "[5 rows x 16 columns]"
            ]
          },
          "metadata": {
            "tags": []
          },
          "execution_count": 13
        }
      ]
    },
    {
      "cell_type": "code",
      "metadata": {
        "colab": {
          "base_uri": "https://localhost:8080/",
          "height": 293
        },
        "id": "8Y9BPcbKWosb",
        "outputId": "6e413de3-92fc-45d0-f720-fa6afc685a99"
      },
      "source": [
        "# checking performance of imputed dataset\n",
        "X = data2.drop(['Class'], axis=1)\n",
        "y = data2.Class\n",
        "\n",
        "# fitting trees\n",
        "sm_tree_depths = range(1,25)\n",
        "sm_cv_scores_mean, sm_cv_scores_std, sm_accuracy_scores = cross_validation_on_trees(X, y, sm_tree_depths, cv=5)\n",
        "\n",
        "# accuracy\n",
        "plot_trees(sm_tree_depths, sm_cv_scores_mean, sm_cv_scores_std, sm_accuracy_scores, \n",
        "                               'Accuracy per decision tree depth on imputed training set')"
      ],
      "execution_count": 14,
      "outputs": [
        {
          "output_type": "display_data",
          "data": {
            "image/png": "[encoded data removed]",
            "text/plain": [
              "<Figure size 1080x360 with 1 Axes>"
            ]
          },
          "metadata": {
            "tags": []
          }
        }
      ]
    },
    {
      "cell_type": "markdown",
      "metadata": {
        "id": "9_hqkxp6IwYS"
      },
      "source": [
        "***DIFFERENT CLASSIFIER COMPARISON***"
      ]
    },
    {
      "cell_type": "code",
      "metadata": {
        "colab": {
          "base_uri": "https://localhost:8080/"
        },
        "id": "V9qHb0yBC-7h",
        "outputId": "faf00906-0dce-4971-c033-17080ba209ec"
      },
      "source": [
        "\n",
        "from sklearn.metrics import accuracy_score\n",
        "from sklearn.linear_model import LogisticRegression\n",
        "from sklearn.model_selection import KFold\n",
        "from sklearn.preprocessing import StandardScaler, MinMaxScaler\n",
        "from sklearn import svm\n",
        "from sklearn.ensemble import RandomForestClassifier\n",
        "from sklearn.naive_bayes import GaussianNB\n",
        "\n",
        "\n",
        "\n",
        "df1 = df.dropna()\n",
        "\n",
        "X = df1.drop(['Class'], axis=1)\n",
        "y = df1.Class\n",
        "\n",
        "X = np.array(X)\n",
        "y = np.array(y)\n",
        "\n",
        "# 5-fold cross validation\n",
        "kf = KFold(5, shuffle=True, random_state=42)\n",
        "cv_lr_accuracy, cv_svm_accuracy, cv_dt_accuracy, cv_rf_accuracy, cv_nb_accuracy  = [], [], [], [], []\n",
        "\n",
        "# comparing SVM, Logistic Regression, Decision Tree, Random Forest and Naive Bayes classifiers\n",
        "for train_ind, val_ind in kf.split(X, y):\n",
        "    #test-trainsplit\n",
        "    X_train, y_train = X[train_ind], y[train_ind]\n",
        "    X_val, y_val = X[val_ind], y[val_ind]\n",
        "    \n",
        "    # Scale Data\n",
        "    scaler = StandardScaler()\n",
        "    X_train_scale = scaler.fit_transform(X_train)\n",
        "    X_val_scale = scaler.transform(X_val)\n",
        "\n",
        "    # Logisitic Regression\n",
        "    lr = LogisticRegression(\n",
        "        class_weight= 'balanced',\n",
        "        solver='newton-cg',\n",
        "        fit_intercept=True\n",
        "    ).fit(X_train_scale, y_train)\n",
        "\n",
        "    y_pred = lr.predict(X_val_scale)\n",
        "    cv_lr_accuracy.append(accuracy_score(y_val, y_pred))\n",
        "\n",
        "\n",
        "    #SVM Classification\n",
        "    svm_clf = svm.SVC(kernel='linear').fit(X_train_scale, y_train)\n",
        "    y_pred = svm_clf.predict(X_val_scale)\n",
        "    cv_svm_accuracy.append(accuracy_score(y_val, y_pred))\n",
        "\n",
        "    #Decision Tree classification\n",
        "    dt_clf = DecisionTreeClassifier(max_depth=5).fit(X_train_scale, y_train)\n",
        "    y_pred = dt_clf.predict(X_val_scale)\n",
        "    cv_dt_accuracy.append(accuracy_score(y_val, y_pred))\n",
        "\n",
        "    #Random Forest classification\n",
        "    rf_clf=RandomForestClassifier(n_estimators=200).fit(X_train_scale, y_train)\n",
        "    y_pred = rf_clf.predict(X_val_scale)\n",
        "    cv_rf_accuracy.append(accuracy_score(y_val, y_pred))\n",
        "\n",
        "    #Naive Bayes classification\n",
        "    nb_clf = GaussianNB().fit(X_train_scale, y_train)\n",
        "    y_pred = nb_clf.predict(X_val_scale)\n",
        "    cv_nb_accuracy.append(accuracy_score(y_val, y_pred))\n",
        "    \n",
        "    \n",
        "\n",
        "print(f'Logistic Regression CV accuracy: {np.mean(cv_lr_accuracy):.3f} +- {np.std(cv_lr_accuracy):.3f}')\n",
        "print(f'SVM CV accuracy: {np.mean(cv_svm_accuracy):.3f} +- {np.std(cv_svm_accuracy):.3f}')\n",
        "print(f'Decision Tree CV accuracy: {np.mean(cv_dt_accuracy):.3f} +- {np.std(cv_dt_accuracy):.3f}')\n",
        "print(f'Random Forest CV accuracy: {np.mean(cv_rf_accuracy):.3f} +- {np.std(cv_rf_accuracy):.3f}')\n",
        "print(f'Naive Bayes CV accuracy: {np.mean(cv_nb_accuracy):.3f} +- {np.std(cv_nb_accuracy):.3f}')"
      ],
      "execution_count": 15,
      "outputs": [
        {
          "output_type": "stream",
          "text": [
            "Logistic Regression CV accuracy: 0.842 +- 0.016\n",
            "SVM CV accuracy: 0.839 +- 0.019\n",
            "Decision Tree CV accuracy: 0.775 +- 0.040\n",
            "Random Forest CV accuracy: 0.865 +- 0.015\n",
            "Naive Bayes CV accuracy: 0.622 +- 0.024\n"
          ],
          "name": "stdout"
        }
      ]
    },
    {
      "cell_type": "markdown",
      "metadata": {
        "id": "HrgpVpYTHt_3"
      },
      "source": [
        "***a) Best performance - RANDOM FOREST CLASSIFIER with 86.5%***"
      ]
    },
    {
      "cell_type": "markdown",
      "metadata": {
        "id": "PFfPa3x6IPox"
      },
      "source": [
        "***b) Prediction on hold-out test set.***"
      ]
    },
    {
      "cell_type": "code",
      "metadata": {
        "colab": {
          "base_uri": "https://localhost:8080/",
          "height": 220
        },
        "id": "QbH9fTzlD0B_",
        "outputId": "2e75c396-439d-42e8-844b-307836da95cf"
      },
      "source": [
        "# test data\n",
        "df_test = pd.read_csv('/content/CE802/CE802_P2_Test.csv')\n",
        "df_test.head()"
      ],
      "execution_count": 16,
      "outputs": [
        {
          "output_type": "execute_result",
          "data": {
            "text/html": [
              "<div>\n",
              "<style scoped>\n",
              "    .dataframe tbody tr th:only-of-type {\n",
              "        vertical-align: middle;\n",
              "    }\n",
              "\n",
              "    .dataframe tbody tr th {\n",
              "        vertical-align: top;\n",
              "    }\n",
              "\n",
              "    .dataframe thead th {\n",
              "        text-align: right;\n",
              "    }\n",
              "</style>\n",
              "<table border=\"1\" class=\"dataframe\">\n",
              "  <thead>\n",
              "    <tr style=\"text-align: right;\">\n",
              "      <th></th>\n",
              "      <th>F1</th>\n",
              "      <th>F2</th>\n",
              "      <th>F3</th>\n",
              "      <th>F4</th>\n",
              "      <th>F5</th>\n",
              "      <th>F6</th>\n",
              "      <th>F7</th>\n",
              "      <th>F8</th>\n",
              "      <th>F9</th>\n",
              "      <th>F10</th>\n",
              "      <th>F11</th>\n",
              "      <th>F12</th>\n",
              "      <th>F13</th>\n",
              "      <th>F14</th>\n",
              "      <th>F15</th>\n",
              "      <th>Class</th>\n",
              "    </tr>\n",
              "  </thead>\n",
              "  <tbody>\n",
              "    <tr>\n",
              "      <th>0</th>\n",
              "      <td>6.64</td>\n",
              "      <td>59.65</td>\n",
              "      <td>51.22</td>\n",
              "      <td>-12.11</td>\n",
              "      <td>35</td>\n",
              "      <td>30.75</td>\n",
              "      <td>-2.94</td>\n",
              "      <td>-9.76</td>\n",
              "      <td>4.50</td>\n",
              "      <td>20</td>\n",
              "      <td>22.80</td>\n",
              "      <td>-296.52</td>\n",
              "      <td>-9.82</td>\n",
              "      <td>10.40</td>\n",
              "      <td>NaN</td>\n",
              "      <td>NaN</td>\n",
              "    </tr>\n",
              "    <tr>\n",
              "      <th>1</th>\n",
              "      <td>11.42</td>\n",
              "      <td>23.65</td>\n",
              "      <td>29.22</td>\n",
              "      <td>-5.98</td>\n",
              "      <td>1</td>\n",
              "      <td>0.84</td>\n",
              "      <td>5.79</td>\n",
              "      <td>2.52</td>\n",
              "      <td>-7.77</td>\n",
              "      <td>2</td>\n",
              "      <td>28.35</td>\n",
              "      <td>-244.52</td>\n",
              "      <td>0.70</td>\n",
              "      <td>1.18</td>\n",
              "      <td>-8.38</td>\n",
              "      <td>NaN</td>\n",
              "    </tr>\n",
              "    <tr>\n",
              "      <th>2</th>\n",
              "      <td>6.13</td>\n",
              "      <td>54.65</td>\n",
              "      <td>51.22</td>\n",
              "      <td>-12.41</td>\n",
              "      <td>55</td>\n",
              "      <td>27.75</td>\n",
              "      <td>-0.81</td>\n",
              "      <td>-10.20</td>\n",
              "      <td>11.07</td>\n",
              "      <td>20</td>\n",
              "      <td>14.88</td>\n",
              "      <td>-341.52</td>\n",
              "      <td>-10.06</td>\n",
              "      <td>13.30</td>\n",
              "      <td>NaN</td>\n",
              "      <td>NaN</td>\n",
              "    </tr>\n",
              "    <tr>\n",
              "      <th>3</th>\n",
              "      <td>6.68</td>\n",
              "      <td>9.65</td>\n",
              "      <td>51.22</td>\n",
              "      <td>-10.81</td>\n",
              "      <td>155</td>\n",
              "      <td>21.00</td>\n",
              "      <td>-2.61</td>\n",
              "      <td>-9.16</td>\n",
              "      <td>6.00</td>\n",
              "      <td>20</td>\n",
              "      <td>16.29</td>\n",
              "      <td>-291.52</td>\n",
              "      <td>-7.16</td>\n",
              "      <td>13.10</td>\n",
              "      <td>-6.68</td>\n",
              "      <td>NaN</td>\n",
              "    </tr>\n",
              "    <tr>\n",
              "      <th>4</th>\n",
              "      <td>10.74</td>\n",
              "      <td>24.65</td>\n",
              "      <td>25.22</td>\n",
              "      <td>-6.24</td>\n",
              "      <td>5</td>\n",
              "      <td>4.92</td>\n",
              "      <td>0.72</td>\n",
              "      <td>-1.72</td>\n",
              "      <td>-2.52</td>\n",
              "      <td>2</td>\n",
              "      <td>37.02</td>\n",
              "      <td>-271.52</td>\n",
              "      <td>-1.82</td>\n",
              "      <td>1.48</td>\n",
              "      <td>-8.57</td>\n",
              "      <td>NaN</td>\n",
              "    </tr>\n",
              "  </tbody>\n",
              "</table>\n",
              "</div>"
            ],
            "text/plain": [
              "      F1     F2     F3     F4   F5  ...     F12    F13    F14   F15  Class\n",
              "0   6.64  59.65  51.22 -12.11   35  ... -296.52  -9.82  10.40   NaN    NaN\n",
              "1  11.42  23.65  29.22  -5.98    1  ... -244.52   0.70   1.18 -8.38    NaN\n",
              "2   6.13  54.65  51.22 -12.41   55  ... -341.52 -10.06  13.30   NaN    NaN\n",
              "3   6.68   9.65  51.22 -10.81  155  ... -291.52  -7.16  13.10 -6.68    NaN\n",
              "4  10.74  24.65  25.22  -6.24    5  ... -271.52  -1.82   1.48 -8.57    NaN\n",
              "\n",
              "[5 rows x 16 columns]"
            ]
          },
          "metadata": {
            "tags": []
          },
          "execution_count": 16
        }
      ]
    },
    {
      "cell_type": "code",
      "metadata": {
        "colab": {
          "base_uri": "https://localhost:8080/",
          "height": 220
        },
        "id": "Nvn5e5XBEENg",
        "outputId": "adda5b01-221f-45b7-b7b3-689f6ec4ca59"
      },
      "source": [
        "#impute F15 missing values with mean\n",
        "df_test.F15 = imputer.fit_transform(df_test['F15'].values.reshape(-1,1))[:,0]\n",
        "df_test.head()"
      ],
      "execution_count": 17,
      "outputs": [
        {
          "output_type": "execute_result",
          "data": {
            "text/html": [
              "<div>\n",
              "<style scoped>\n",
              "    .dataframe tbody tr th:only-of-type {\n",
              "        vertical-align: middle;\n",
              "    }\n",
              "\n",
              "    .dataframe tbody tr th {\n",
              "        vertical-align: top;\n",
              "    }\n",
              "\n",
              "    .dataframe thead th {\n",
              "        text-align: right;\n",
              "    }\n",
              "</style>\n",
              "<table border=\"1\" class=\"dataframe\">\n",
              "  <thead>\n",
              "    <tr style=\"text-align: right;\">\n",
              "      <th></th>\n",
              "      <th>F1</th>\n",
              "      <th>F2</th>\n",
              "      <th>F3</th>\n",
              "      <th>F4</th>\n",
              "      <th>F5</th>\n",
              "      <th>F6</th>\n",
              "      <th>F7</th>\n",
              "      <th>F8</th>\n",
              "      <th>F9</th>\n",
              "      <th>F10</th>\n",
              "      <th>F11</th>\n",
              "      <th>F12</th>\n",
              "      <th>F13</th>\n",
              "      <th>F14</th>\n",
              "      <th>F15</th>\n",
              "      <th>Class</th>\n",
              "    </tr>\n",
              "  </thead>\n",
              "  <tbody>\n",
              "    <tr>\n",
              "      <th>0</th>\n",
              "      <td>6.64</td>\n",
              "      <td>59.65</td>\n",
              "      <td>51.22</td>\n",
              "      <td>-12.11</td>\n",
              "      <td>35</td>\n",
              "      <td>30.75</td>\n",
              "      <td>-2.94</td>\n",
              "      <td>-9.76</td>\n",
              "      <td>4.50</td>\n",
              "      <td>20</td>\n",
              "      <td>22.80</td>\n",
              "      <td>-296.52</td>\n",
              "      <td>-9.82</td>\n",
              "      <td>10.40</td>\n",
              "      <td>-7.696347</td>\n",
              "      <td>NaN</td>\n",
              "    </tr>\n",
              "    <tr>\n",
              "      <th>1</th>\n",
              "      <td>11.42</td>\n",
              "      <td>23.65</td>\n",
              "      <td>29.22</td>\n",
              "      <td>-5.98</td>\n",
              "      <td>1</td>\n",
              "      <td>0.84</td>\n",
              "      <td>5.79</td>\n",
              "      <td>2.52</td>\n",
              "      <td>-7.77</td>\n",
              "      <td>2</td>\n",
              "      <td>28.35</td>\n",
              "      <td>-244.52</td>\n",
              "      <td>0.70</td>\n",
              "      <td>1.18</td>\n",
              "      <td>-8.380000</td>\n",
              "      <td>NaN</td>\n",
              "    </tr>\n",
              "    <tr>\n",
              "      <th>2</th>\n",
              "      <td>6.13</td>\n",
              "      <td>54.65</td>\n",
              "      <td>51.22</td>\n",
              "      <td>-12.41</td>\n",
              "      <td>55</td>\n",
              "      <td>27.75</td>\n",
              "      <td>-0.81</td>\n",
              "      <td>-10.20</td>\n",
              "      <td>11.07</td>\n",
              "      <td>20</td>\n",
              "      <td>14.88</td>\n",
              "      <td>-341.52</td>\n",
              "      <td>-10.06</td>\n",
              "      <td>13.30</td>\n",
              "      <td>-7.696347</td>\n",
              "      <td>NaN</td>\n",
              "    </tr>\n",
              "    <tr>\n",
              "      <th>3</th>\n",
              "      <td>6.68</td>\n",
              "      <td>9.65</td>\n",
              "      <td>51.22</td>\n",
              "      <td>-10.81</td>\n",
              "      <td>155</td>\n",
              "      <td>21.00</td>\n",
              "      <td>-2.61</td>\n",
              "      <td>-9.16</td>\n",
              "      <td>6.00</td>\n",
              "      <td>20</td>\n",
              "      <td>16.29</td>\n",
              "      <td>-291.52</td>\n",
              "      <td>-7.16</td>\n",
              "      <td>13.10</td>\n",
              "      <td>-6.680000</td>\n",
              "      <td>NaN</td>\n",
              "    </tr>\n",
              "    <tr>\n",
              "      <th>4</th>\n",
              "      <td>10.74</td>\n",
              "      <td>24.65</td>\n",
              "      <td>25.22</td>\n",
              "      <td>-6.24</td>\n",
              "      <td>5</td>\n",
              "      <td>4.92</td>\n",
              "      <td>0.72</td>\n",
              "      <td>-1.72</td>\n",
              "      <td>-2.52</td>\n",
              "      <td>2</td>\n",
              "      <td>37.02</td>\n",
              "      <td>-271.52</td>\n",
              "      <td>-1.82</td>\n",
              "      <td>1.48</td>\n",
              "      <td>-8.570000</td>\n",
              "      <td>NaN</td>\n",
              "    </tr>\n",
              "  </tbody>\n",
              "</table>\n",
              "</div>"
            ],
            "text/plain": [
              "      F1     F2     F3     F4   F5  ...     F12    F13    F14       F15  Class\n",
              "0   6.64  59.65  51.22 -12.11   35  ... -296.52  -9.82  10.40 -7.696347    NaN\n",
              "1  11.42  23.65  29.22  -5.98    1  ... -244.52   0.70   1.18 -8.380000    NaN\n",
              "2   6.13  54.65  51.22 -12.41   55  ... -341.52 -10.06  13.30 -7.696347    NaN\n",
              "3   6.68   9.65  51.22 -10.81  155  ... -291.52  -7.16  13.10 -6.680000    NaN\n",
              "4  10.74  24.65  25.22  -6.24    5  ... -271.52  -1.82   1.48 -8.570000    NaN\n",
              "\n",
              "[5 rows x 16 columns]"
            ]
          },
          "metadata": {
            "tags": []
          },
          "execution_count": 17
        }
      ]
    },
    {
      "cell_type": "code",
      "metadata": {
        "id": "fVxYZEa6Et-d"
      },
      "source": [
        "\n",
        "X = df_test.drop(['Class'], axis=1)\n",
        "y = df_test.Class\n",
        "\n",
        "#convert data frame into np array\n",
        "X = np.array(X)\n",
        "y = np.array(y)"
      ],
      "execution_count": 18,
      "outputs": []
    },
    {
      "cell_type": "code",
      "metadata": {
        "id": "71sD63OzEumo"
      },
      "source": [
        "# Standardize Data\n",
        "scaler = StandardScaler()\n",
        "X_scaled = scaler.fit_transform(X)"
      ],
      "execution_count": 19,
      "outputs": []
    },
    {
      "cell_type": "code",
      "metadata": {
        "colab": {
          "base_uri": "https://localhost:8080/",
          "height": 220
        },
        "id": "e2TnDesJEyxo",
        "outputId": "abbf46fe-7e19-4291-a2a7-58108f732d00"
      },
      "source": [
        "#using best model to predict test data labels\n",
        "y_pred = rf_clf.predict(X_scaled)\n",
        "\n",
        "df_test['Class'] = y_pred\n",
        "\n",
        "df_test.head()"
      ],
      "execution_count": 20,
      "outputs": [
        {
          "output_type": "execute_result",
          "data": {
            "text/html": [
              "<div>\n",
              "<style scoped>\n",
              "    .dataframe tbody tr th:only-of-type {\n",
              "        vertical-align: middle;\n",
              "    }\n",
              "\n",
              "    .dataframe tbody tr th {\n",
              "        vertical-align: top;\n",
              "    }\n",
              "\n",
              "    .dataframe thead th {\n",
              "        text-align: right;\n",
              "    }\n",
              "</style>\n",
              "<table border=\"1\" class=\"dataframe\">\n",
              "  <thead>\n",
              "    <tr style=\"text-align: right;\">\n",
              "      <th></th>\n",
              "      <th>F1</th>\n",
              "      <th>F2</th>\n",
              "      <th>F3</th>\n",
              "      <th>F4</th>\n",
              "      <th>F5</th>\n",
              "      <th>F6</th>\n",
              "      <th>F7</th>\n",
              "      <th>F8</th>\n",
              "      <th>F9</th>\n",
              "      <th>F10</th>\n",
              "      <th>F11</th>\n",
              "      <th>F12</th>\n",
              "      <th>F13</th>\n",
              "      <th>F14</th>\n",
              "      <th>F15</th>\n",
              "      <th>Class</th>\n",
              "    </tr>\n",
              "  </thead>\n",
              "  <tbody>\n",
              "    <tr>\n",
              "      <th>0</th>\n",
              "      <td>6.64</td>\n",
              "      <td>59.65</td>\n",
              "      <td>51.22</td>\n",
              "      <td>-12.11</td>\n",
              "      <td>35</td>\n",
              "      <td>30.75</td>\n",
              "      <td>-2.94</td>\n",
              "      <td>-9.76</td>\n",
              "      <td>4.50</td>\n",
              "      <td>20</td>\n",
              "      <td>22.80</td>\n",
              "      <td>-296.52</td>\n",
              "      <td>-9.82</td>\n",
              "      <td>10.40</td>\n",
              "      <td>-7.696347</td>\n",
              "      <td>False</td>\n",
              "    </tr>\n",
              "    <tr>\n",
              "      <th>1</th>\n",
              "      <td>11.42</td>\n",
              "      <td>23.65</td>\n",
              "      <td>29.22</td>\n",
              "      <td>-5.98</td>\n",
              "      <td>1</td>\n",
              "      <td>0.84</td>\n",
              "      <td>5.79</td>\n",
              "      <td>2.52</td>\n",
              "      <td>-7.77</td>\n",
              "      <td>2</td>\n",
              "      <td>28.35</td>\n",
              "      <td>-244.52</td>\n",
              "      <td>0.70</td>\n",
              "      <td>1.18</td>\n",
              "      <td>-8.380000</td>\n",
              "      <td>True</td>\n",
              "    </tr>\n",
              "    <tr>\n",
              "      <th>2</th>\n",
              "      <td>6.13</td>\n",
              "      <td>54.65</td>\n",
              "      <td>51.22</td>\n",
              "      <td>-12.41</td>\n",
              "      <td>55</td>\n",
              "      <td>27.75</td>\n",
              "      <td>-0.81</td>\n",
              "      <td>-10.20</td>\n",
              "      <td>11.07</td>\n",
              "      <td>20</td>\n",
              "      <td>14.88</td>\n",
              "      <td>-341.52</td>\n",
              "      <td>-10.06</td>\n",
              "      <td>13.30</td>\n",
              "      <td>-7.696347</td>\n",
              "      <td>True</td>\n",
              "    </tr>\n",
              "    <tr>\n",
              "      <th>3</th>\n",
              "      <td>6.68</td>\n",
              "      <td>9.65</td>\n",
              "      <td>51.22</td>\n",
              "      <td>-10.81</td>\n",
              "      <td>155</td>\n",
              "      <td>21.00</td>\n",
              "      <td>-2.61</td>\n",
              "      <td>-9.16</td>\n",
              "      <td>6.00</td>\n",
              "      <td>20</td>\n",
              "      <td>16.29</td>\n",
              "      <td>-291.52</td>\n",
              "      <td>-7.16</td>\n",
              "      <td>13.10</td>\n",
              "      <td>-6.680000</td>\n",
              "      <td>False</td>\n",
              "    </tr>\n",
              "    <tr>\n",
              "      <th>4</th>\n",
              "      <td>10.74</td>\n",
              "      <td>24.65</td>\n",
              "      <td>25.22</td>\n",
              "      <td>-6.24</td>\n",
              "      <td>5</td>\n",
              "      <td>4.92</td>\n",
              "      <td>0.72</td>\n",
              "      <td>-1.72</td>\n",
              "      <td>-2.52</td>\n",
              "      <td>2</td>\n",
              "      <td>37.02</td>\n",
              "      <td>-271.52</td>\n",
              "      <td>-1.82</td>\n",
              "      <td>1.48</td>\n",
              "      <td>-8.570000</td>\n",
              "      <td>True</td>\n",
              "    </tr>\n",
              "  </tbody>\n",
              "</table>\n",
              "</div>"
            ],
            "text/plain": [
              "      F1     F2     F3     F4   F5  ...     F12    F13    F14       F15  Class\n",
              "0   6.64  59.65  51.22 -12.11   35  ... -296.52  -9.82  10.40 -7.696347  False\n",
              "1  11.42  23.65  29.22  -5.98    1  ... -244.52   0.70   1.18 -8.380000   True\n",
              "2   6.13  54.65  51.22 -12.41   55  ... -341.52 -10.06  13.30 -7.696347   True\n",
              "3   6.68   9.65  51.22 -10.81  155  ... -291.52  -7.16  13.10 -6.680000  False\n",
              "4  10.74  24.65  25.22  -6.24    5  ... -271.52  -1.82   1.48 -8.570000   True\n",
              "\n",
              "[5 rows x 16 columns]"
            ]
          },
          "metadata": {
            "tags": []
          },
          "execution_count": 20
        }
      ]
    },
    {
      "cell_type": "markdown",
      "metadata": {
        "id": "S9nfJ88SHZjs"
      },
      "source": [
        "***CE802_P2_TEST - DOWNLOAD***"
      ]
    },
    {
      "cell_type": "code",
      "metadata": {
        "colab": {
          "base_uri": "https://localhost:8080/",
          "height": 17
        },
        "id": "BMQ9lxZiGPQi",
        "outputId": "232e1aaf-0379-4630-f4f7-06486bdfd3b7"
      },
      "source": [
        "from google.colab import files\n",
        "df_test.to_csv('CE802_P2_Test.csv') \n",
        "files.download('CE802_P2_Test.csv')"
      ],
      "execution_count": 21,
      "outputs": [
        {
          "output_type": "display_data",
          "data": {
            "application/javascript": [
              "\n",
              "    async function download(id, filename, size) {\n",
              "      if (!google.colab.kernel.accessAllowed) {\n",
              "        return;\n",
              "      }\n",
              "      const div = document.createElement('div');\n",
              "      const label = document.createElement('label');\n",
              "      label.textContent = `Downloading \"${filename}\": `;\n",
              "      div.appendChild(label);\n",
              "      const progress = document.createElement('progress');\n",
              "      progress.max = size;\n",
              "      div.appendChild(progress);\n",
              "      document.body.appendChild(div);\n",
              "\n",
              "      const buffers = [];\n",
              "      let downloaded = 0;\n",
              "\n",
              "      const channel = await google.colab.kernel.comms.open(id);\n",
              "      // Send a message to notify the kernel that we're ready.\n",
              "      channel.send({})\n",
              "\n",
              "      for await (const message of channel.messages) {\n",
              "        // Send a message to notify the kernel that we're ready.\n",
              "        channel.send({})\n",
              "        if (message.buffers) {\n",
              "          for (const buffer of message.buffers) {\n",
              "            buffers.push(buffer);\n",
              "            downloaded += buffer.byteLength;\n",
              "            progress.value = downloaded;\n",
              "          }\n",
              "        }\n",
              "      }\n",
              "      const blob = new Blob(buffers, {type: 'application/binary'});\n",
              "      const a = document.createElement('a');\n",
              "      a.href = window.URL.createObjectURL(blob);\n",
              "      a.download = filename;\n",
              "      div.appendChild(a);\n",
              "      a.click();\n",
              "      div.remove();\n",
              "    }\n",
              "  "
            ],
            "text/plain": [
              "<IPython.core.display.Javascript object>"
            ]
          },
          "metadata": {
            "tags": []
          }
        },
        {
          "output_type": "display_data",
          "data": {
            "application/javascript": [
              "download(\"download_790c6145-ce0a-4b1d-a1b9-6acd8da2dcce\", \"CE802_P2_Test.csv\", 147448)"
            ],
            "text/plain": [
              "<IPython.core.display.Javascript object>"
            ]
          },
          "metadata": {
            "tags": []
          }
        }
      ]
    }
  ]
}